{
  "cells": [
    {
      "cell_type": "markdown",
      "metadata": {
        "id": "view-in-github",
        "colab_type": "text"
      },
      "source": [
        "<a href=\"https://colab.research.google.com/github/crescendonow/thai_geoparsing/blob/main/1_4BERT_cosine.ipynb\" target=\"_parent\"><img src=\"https://colab.research.google.com/assets/colab-badge.svg\" alt=\"Open In Colab\"/></a>"
      ]
    },
    {
      "cell_type": "code",
      "execution_count": null,
      "metadata": {
        "id": "HmSGO2aTpGOz"
      },
      "outputs": [],
      "source": [
        "#Utilities lib for use\n",
        "import requests\n",
        "import numpy as np\n",
        "import pickle\n",
        "import tqdm\n",
        "import requests\n",
        "import torch\n",
        "import pandas as pd\n",
        "from datasets import load_dataset, load_metric\n",
        "from transformers import AutoTokenizer, AutoModelForTokenClassification,\\\n",
        "TrainingArguments, Trainer, DataCollatorForTokenClassification"
      ]
    },
    {
      "cell_type": "code",
      "execution_count": null,
      "metadata": {
        "id": "UL6Ue6OBpGO1"
      },
      "outputs": [],
      "source": [
        "#load train, validate and test token by attacut and BERT format\n",
        "with open(r'C:\\Users\\sveng\\geoparsing_proj\\TEXT DATA\\TrainingData\\1.Tokennization\\train_bert.data', 'rb') as token1:\n",
        "    train_data = pickle.load(token1)\n",
        "with open(r'C:\\Users\\sveng\\geoparsing_proj\\TEXT DATA\\TrainingData\\1.Tokennization\\eval_bert.data', 'rb') as token2:\n",
        "    eval_data = pickle.load(token2)\n",
        "with open(r'C:\\Users\\sveng\\geoparsing_proj\\TEXT DATA\\TrainingData\\1.Tokennization\\datasets_test.data', 'rb') as token3:\n",
        "    test_data = pickle.load(token3)    "
      ]
    },
    {
      "cell_type": "code",
      "execution_count": null,
      "metadata": {
        "id": "Jx9YgsArpGO1"
      },
      "outputs": [],
      "source": [
        "#load dictionary index and processing data label_list\n",
        "with open(r'C:\\Users\\sveng\\geoparsing_proj\\TEXT DATA\\TrainingData\\5.dict\\ner_ix.dict', 'rb') as dict_ner:\n",
        "    ner_ix = pickle.load(dict_ner)\n",
        "with open(r'C:\\Users\\sveng\\geoparsing_proj\\TEXT DATA\\TrainingData\\6.Processing_variables\\ner_list.data', 'rb') as list_ner:\n",
        "    label_list = pickle.load(list_ner)"
      ]
    },
    {
      "cell_type": "code",
      "execution_count": null,
      "metadata": {
        "id": "_E0XnJrLpGO2"
      },
      "outputs": [],
      "source": [
        "#prepared index to BOI tags, convert index to ner\n",
        "ix_to_ner = dict((v,k) for k,v in ner_ix.items()) "
      ]
    },
    {
      "cell_type": "code",
      "execution_count": null,
      "metadata": {
        "id": "Yiwu-EptpGO2"
      },
      "outputs": [],
      "source": [
        "#list of model for use\n",
        "task = \"ner\"\n",
        "public_models = ['xlm-roberta-base', 'bert-base-multilingual-cased'] \n",
        "user_name = 'airesearch'\n",
        "model_name = \"wangchanberta-base-att-spm-uncased\" \n",
        "batch_size = 16"
      ]
    },
    {
      "cell_type": "code",
      "execution_count": null,
      "metadata": {
        "id": "-cr9ZrZnpGO2"
      },
      "outputs": [],
      "source": [
        "#define tokenizer\n",
        "tokenizer = AutoTokenizer.from_pretrained(f'{user_name}/{model_name}' if model_name not in public_models else f'{model_name}',\n",
        "                revision='main',\n",
        "                model_max_length=416,)"
      ]
    },
    {
      "cell_type": "code",
      "execution_count": null,
      "metadata": {
        "id": "A6NPPQixpGO2"
      },
      "outputs": [],
      "source": [
        "#create function for tokenize and reformat\n",
        "def tokenize_and_align_labels(data):\n",
        "    tokenized_datasets = []\n",
        "    for rec in data:\n",
        "        tokenized_input = tokenizer(rec['tokens'], is_split_into_words=True)\n",
        "        aligned_labels = [-100 if i is None else rec[f'{task}_tags'][i] for i in tokenized_input.word_ids()]\n",
        "        rec['input_ids'] = tokenized_input['input_ids']\n",
        "        rec['attention_mask'] = tokenized_input['attention_mask']\n",
        "        rec['labels'] = aligned_labels\n",
        "        tokenized_datasets.append(rec)\n",
        "    return tokenized_datasets"
      ]
    },
    {
      "cell_type": "code",
      "execution_count": null,
      "metadata": {
        "id": "QitQdnElpGO2"
      },
      "outputs": [],
      "source": [
        "#define tokenizer\n",
        "tokenizer = AutoTokenizer.from_pretrained(f'{user_name}/{model_name}' if model_name not in public_models else f'{model_name}',\n",
        "                revision='main',\n",
        "                model_max_length=416,)"
      ]
    },
    {
      "cell_type": "code",
      "execution_count": null,
      "metadata": {
        "id": "Y5RFCdoBpGO2"
      },
      "outputs": [],
      "source": [
        "train_bert = tokenize_and_align_labels(train_data)\n",
        "eval_bert = tokenize_and_align_labels(eval_data)\n",
        "test_bert = tokenize_and_align_labels(test_data)"
      ]
    },
    {
      "cell_type": "code",
      "execution_count": null,
      "metadata": {
        "id": "4jnxnn9PpGO3",
        "outputId": "ba273c9a-afb7-47c1-f6a7-dc785c1a0481"
      },
      "outputs": [
        {
          "name": "stderr",
          "output_type": "stream",
          "text": [
            "Some weights of the model checkpoint at airesearch/wangchanberta-base-att-spm-uncased were not used when initializing CamembertForTokenClassification: ['lm_head.dense.weight', 'lm_head.layer_norm.weight', 'lm_head.layer_norm.bias', 'lm_head.dense.bias', 'lm_head.decoder.weight', 'lm_head.bias', 'lm_head.decoder.bias']\n",
            "- This IS expected if you are initializing CamembertForTokenClassification from the checkpoint of a model trained on another task or with another architecture (e.g. initializing a BertForSequenceClassification model from a BertForPreTraining model).\n",
            "- This IS NOT expected if you are initializing CamembertForTokenClassification from the checkpoint of a model that you expect to be exactly identical (initializing a BertForSequenceClassification model from a BertForSequenceClassification model).\n",
            "Some weights of CamembertForTokenClassification were not initialized from the model checkpoint at airesearch/wangchanberta-base-att-spm-uncased and are newly initialized: ['classifier.weight', 'classifier.bias']\n",
            "You should probably TRAIN this model on a down-stream task to be able to use it for predictions and inference.\n"
          ]
        },
        {
          "data": {
            "text/plain": [
              "<All keys matched successfully>"
            ]
          },
          "execution_count": 10,
          "metadata": {},
          "output_type": "execute_result"
        }
      ],
      "source": [
        "#prepare fine tuning model\n",
        "model = AutoModelForTokenClassification.from_pretrained(f'{user_name}/{model_name}', num_labels=len(label_list))\n",
        "\n",
        "#load model from state 20 epoch\n",
        "path_chkpoint = r'C:\\Users\\sveng\\geoparsing_proj\\model_bert\\Model1-v120\\checkpoint-22000\\pytorch_model.bin'\n",
        "model.load_state_dict(torch.load(path_chkpoint))"
      ]
    },
    {
      "cell_type": "code",
      "execution_count": null,
      "metadata": {
        "id": "wmVeLQ56pGO3"
      },
      "outputs": [],
      "source": [
        "#training arguments (parameters)\n",
        "args = TrainingArguments(\n",
        "    f\"test-{task}\",\n",
        "    evaluation_strategy=\"epoch\",\n",
        "\n",
        "    per_device_train_batch_size=batch_size,\n",
        "    per_device_eval_batch_size=batch_size,\n",
        "\n",
        "    gradient_accumulation_steps=2,\n",
        "    learning_rate=2e-5,\n",
        "    weight_decay=0.01,\n",
        "    num_train_epochs=5,\n",
        "\n",
        "    seed=9,\n",
        "    warmup_ratio=0.05,\n",
        "    lr_scheduler_type=\"cosine_with_restarts\",\n",
        "\n",
        ")"
      ]
    },
    {
      "cell_type": "code",
      "execution_count": null,
      "metadata": {
        "id": "M_gRjFRdpGO3"
      },
      "outputs": [],
      "source": [
        "#function for convert dataset to batch tensors\n",
        "data_collator = DataCollatorForTokenClassification(tokenizer)"
      ]
    },
    {
      "cell_type": "code",
      "execution_count": null,
      "metadata": {
        "id": "TTxFxCXIpGO4"
      },
      "outputs": [],
      "source": [
        "#computation metrics , we use seqeval for sequence tagging task\n",
        "metric = load_metric(\"seqeval\")"
      ]
    },
    {
      "cell_type": "code",
      "execution_count": null,
      "metadata": {
        "id": "DDBYsuzvpGO4"
      },
      "outputs": [],
      "source": [
        "#create function for computation metric\n",
        "def compute_metrics(p):\n",
        "    predictions, labels = p\n",
        "    predictions = np.argmax(predictions, axis=2)\n",
        "    true_predictions = [\n",
        "        [label_list[p].replace(\"_\", \"-\") for (p, l) in zip(prediction, label) if l != -100]\n",
        "        for prediction, label in zip(predictions, labels)\n",
        "    ]\n",
        "    true_labels = [\n",
        "        [label_list[l].replace(\"_\", \"-\") for (p, l) in zip(prediction, label) if l != -100]\n",
        "        for prediction, label in zip(predictions, labels)\n",
        "    ]\n",
        "    results = metric.compute(predictions=true_predictions, references=true_labels)\n",
        "    return {\n",
        "        \"precision\": results[\"overall_precision\"],\n",
        "        \"recall\": results[\"overall_recall\"],\n",
        "        \"f1\": results[\"overall_f1\"],\n",
        "        \"accuracy\": results[\"overall_accuracy\"],\n",
        "    }"
      ]
    },
    {
      "cell_type": "code",
      "execution_count": null,
      "metadata": {
        "id": "yznmm1hZpGO4"
      },
      "outputs": [],
      "source": [
        "#fine tuning part by function Trainer\n",
        "trainer = Trainer(\n",
        "    model,\n",
        "    args,\n",
        "    train_dataset=train_bert,\n",
        "    eval_dataset=eval_bert,\n",
        "    data_collator=data_collator,\n",
        "    tokenizer=tokenizer,\n",
        "    compute_metrics=compute_metrics\n",
        ")"
      ]
    },
    {
      "cell_type": "code",
      "execution_count": null,
      "metadata": {
        "id": "P5vegHTEpGO4",
        "outputId": "af448bb2-a127-44bf-e7b4-6ec7c7013038",
        "colab": {
          "referenced_widgets": [
            "7de09835e976420aacc652a3dc4a5423",
            "ba77219b15e04746a823f0225cd1fe6c",
            "40891d5fff944057a7b18cf4d8335bf9",
            "7baef994d64f4a53aea75a2fc44bd24b",
            "d34f7dfc039a4cb5b1e79533774cc03f",
            "05c7dde26532435799dbd04c229cda55"
          ]
        }
      },
      "outputs": [
        {
          "name": "stderr",
          "output_type": "stream",
          "text": [
            "c:\\Users\\sveng\\anaconda3\\envs\\geo_bert\\lib\\site-packages\\transformers\\optimization.py:306: FutureWarning: This implementation of AdamW is deprecated and will be removed in a future version. Use the PyTorch implementation torch.optim.AdamW instead, or set `no_deprecation_warning=True` to disable this warning\n",
            "  warnings.warn(\n",
            "***** Running training *****\n",
            "  Num examples = 17955\n",
            "  Num Epochs = 5\n",
            "  Instantaneous batch size per device = 16\n",
            "  Total train batch size (w. parallel, distributed & accumulation) = 32\n",
            "  Gradient Accumulation steps = 2\n",
            "  Total optimization steps = 2805\n"
          ]
        },
        {
          "data": {
            "application/vnd.jupyter.widget-view+json": {
              "model_id": "7de09835e976420aacc652a3dc4a5423",
              "version_major": 2,
              "version_minor": 0
            },
            "text/plain": [
              "  0%|          | 0/2805 [00:00<?, ?it/s]"
            ]
          },
          "metadata": {},
          "output_type": "display_data"
        },
        {
          "name": "stderr",
          "output_type": "stream",
          "text": [
            "The following columns in the training set don't have a corresponding argument in `CamembertForTokenClassification.forward` and have been ignored: ner_tags, pos_tags, tokens, id. If ner_tags, pos_tags, tokens, id are not expected by `CamembertForTokenClassification.forward`,  you can safely ignore this message.\n",
            "Saving model checkpoint to test-ner\\checkpoint-500\n",
            "Configuration saved in test-ner\\checkpoint-500\\config.json\n"
          ]
        },
        {
          "name": "stdout",
          "output_type": "stream",
          "text": [
            "{'loss': 0.007, 'learning_rate': 1.911713602127308e-05, 'epoch': 0.89}\n"
          ]
        },
        {
          "name": "stderr",
          "output_type": "stream",
          "text": [
            "Model weights saved in test-ner\\checkpoint-500\\pytorch_model.bin\n",
            "tokenizer config file saved in test-ner\\checkpoint-500\\tokenizer_config.json\n",
            "Special tokens file saved in test-ner\\checkpoint-500\\special_tokens_map.json\n",
            "***** Running Evaluation *****\n",
            "  Num examples = 4489\n",
            "  Batch size = 16\n",
            "The following columns in the evaluation set don't have a corresponding argument in `CamembertForTokenClassification.forward` and have been ignored: ner_tags, pos_tags, tokens, id. If ner_tags, pos_tags, tokens, id are not expected by `CamembertForTokenClassification.forward`,  you can safely ignore this message.\n"
          ]
        },
        {
          "data": {
            "application/vnd.jupyter.widget-view+json": {
              "model_id": "ba77219b15e04746a823f0225cd1fe6c",
              "version_major": 2,
              "version_minor": 0
            },
            "text/plain": [
              "  0%|          | 0/281 [00:00<?, ?it/s]"
            ]
          },
          "metadata": {},
          "output_type": "display_data"
        },
        {
          "name": "stdout",
          "output_type": "stream",
          "text": [
            "{'eval_loss': 0.12037158012390137, 'eval_precision': 0.6317107093184979, 'eval_recall': 0.6742874109263658, 'eval_f1': 0.6523050409306335, 'eval_accuracy': 0.9803377284293315, 'eval_runtime': 228.94, 'eval_samples_per_second': 19.608, 'eval_steps_per_second': 1.227, 'epoch': 1.0}\n"
          ]
        },
        {
          "name": "stderr",
          "output_type": "stream",
          "text": [
            "Saving model checkpoint to test-ner\\checkpoint-1000\n",
            "Configuration saved in test-ner\\checkpoint-1000\\config.json\n"
          ]
        },
        {
          "name": "stdout",
          "output_type": "stream",
          "text": [
            "{'loss': 0.0083, 'learning_rate': 1.5293190817059667e-05, 'epoch': 1.78}\n"
          ]
        },
        {
          "name": "stderr",
          "output_type": "stream",
          "text": [
            "Model weights saved in test-ner\\checkpoint-1000\\pytorch_model.bin\n",
            "tokenizer config file saved in test-ner\\checkpoint-1000\\tokenizer_config.json\n",
            "Special tokens file saved in test-ner\\checkpoint-1000\\special_tokens_map.json\n",
            "***** Running Evaluation *****\n",
            "  Num examples = 4489\n",
            "  Batch size = 16\n",
            "The following columns in the evaluation set don't have a corresponding argument in `CamembertForTokenClassification.forward` and have been ignored: ner_tags, pos_tags, tokens, id. If ner_tags, pos_tags, tokens, id are not expected by `CamembertForTokenClassification.forward`,  you can safely ignore this message.\n"
          ]
        },
        {
          "data": {
            "application/vnd.jupyter.widget-view+json": {
              "model_id": "40891d5fff944057a7b18cf4d8335bf9",
              "version_major": 2,
              "version_minor": 0
            },
            "text/plain": [
              "  0%|          | 0/281 [00:00<?, ?it/s]"
            ]
          },
          "metadata": {},
          "output_type": "display_data"
        },
        {
          "name": "stdout",
          "output_type": "stream",
          "text": [
            "{'eval_loss': 0.12434349954128265, 'eval_precision': 0.6143533123028391, 'eval_recall': 0.6938836104513064, 'eval_f1': 0.6517010596765197, 'eval_accuracy': 0.97911751098774, 'eval_runtime': 248.2934, 'eval_samples_per_second': 18.079, 'eval_steps_per_second': 1.132, 'epoch': 2.0}\n"
          ]
        },
        {
          "name": "stderr",
          "output_type": "stream",
          "text": [
            "Saving model checkpoint to test-ner\\checkpoint-1500\n",
            "Configuration saved in test-ner\\checkpoint-1500\\config.json\n"
          ]
        },
        {
          "name": "stdout",
          "output_type": "stream",
          "text": [
            "{'loss': 0.0071, 'learning_rate': 9.681649137021158e-06, 'epoch': 2.67}\n"
          ]
        },
        {
          "name": "stderr",
          "output_type": "stream",
          "text": [
            "Model weights saved in test-ner\\checkpoint-1500\\pytorch_model.bin\n",
            "tokenizer config file saved in test-ner\\checkpoint-1500\\tokenizer_config.json\n",
            "Special tokens file saved in test-ner\\checkpoint-1500\\special_tokens_map.json\n",
            "***** Running Evaluation *****\n",
            "  Num examples = 4489\n",
            "  Batch size = 16\n",
            "The following columns in the evaluation set don't have a corresponding argument in `CamembertForTokenClassification.forward` and have been ignored: ner_tags, pos_tags, tokens, id. If ner_tags, pos_tags, tokens, id are not expected by `CamembertForTokenClassification.forward`,  you can safely ignore this message.\n"
          ]
        },
        {
          "data": {
            "application/vnd.jupyter.widget-view+json": {
              "model_id": "7baef994d64f4a53aea75a2fc44bd24b",
              "version_major": 2,
              "version_minor": 0
            },
            "text/plain": [
              "  0%|          | 0/281 [00:00<?, ?it/s]"
            ]
          },
          "metadata": {},
          "output_type": "display_data"
        },
        {
          "name": "stdout",
          "output_type": "stream",
          "text": [
            "{'eval_loss': 0.1278129369020462, 'eval_precision': 0.6185922974767596, 'eval_recall': 0.6915083135391924, 'eval_f1': 0.6530211692135147, 'eval_accuracy': 0.9794760582928522, 'eval_runtime': 247.2916, 'eval_samples_per_second': 18.153, 'eval_steps_per_second': 1.136, 'epoch': 3.0}\n"
          ]
        },
        {
          "name": "stderr",
          "output_type": "stream",
          "text": [
            "Saving model checkpoint to test-ner\\checkpoint-2000\n",
            "Configuration saved in test-ner\\checkpoint-2000\\config.json\n"
          ]
        },
        {
          "name": "stdout",
          "output_type": "stream",
          "text": [
            "{'loss': 0.0057, 'learning_rate': 4.177619711954212e-06, 'epoch': 3.56}\n"
          ]
        },
        {
          "name": "stderr",
          "output_type": "stream",
          "text": [
            "Model weights saved in test-ner\\checkpoint-2000\\pytorch_model.bin\n",
            "tokenizer config file saved in test-ner\\checkpoint-2000\\tokenizer_config.json\n",
            "Special tokens file saved in test-ner\\checkpoint-2000\\special_tokens_map.json\n",
            "***** Running Evaluation *****\n",
            "  Num examples = 4489\n",
            "  Batch size = 16\n",
            "The following columns in the evaluation set don't have a corresponding argument in `CamembertForTokenClassification.forward` and have been ignored: ner_tags, pos_tags, tokens, id. If ner_tags, pos_tags, tokens, id are not expected by `CamembertForTokenClassification.forward`,  you can safely ignore this message.\n"
          ]
        },
        {
          "data": {
            "application/vnd.jupyter.widget-view+json": {
              "model_id": "d34f7dfc039a4cb5b1e79533774cc03f",
              "version_major": 2,
              "version_minor": 0
            },
            "text/plain": [
              "  0%|          | 0/281 [00:00<?, ?it/s]"
            ]
          },
          "metadata": {},
          "output_type": "display_data"
        },
        {
          "name": "stdout",
          "output_type": "stream",
          "text": [
            "{'eval_loss': 0.12943950295448303, 'eval_precision': 0.6204092339979014, 'eval_recall': 0.7021971496437055, 'eval_f1': 0.658774373259053, 'eval_accuracy': 0.9799560490400185, 'eval_runtime': 240.7431, 'eval_samples_per_second': 18.646, 'eval_steps_per_second': 1.167, 'epoch': 4.0}\n"
          ]
        },
        {
          "name": "stderr",
          "output_type": "stream",
          "text": [
            "Saving model checkpoint to test-ner\\checkpoint-2500\n",
            "Configuration saved in test-ner\\checkpoint-2500\\config.json\n"
          ]
        },
        {
          "name": "stdout",
          "output_type": "stream",
          "text": [
            "{'loss': 0.0038, 'learning_rate': 6.39902638650507e-07, 'epoch': 4.46}\n"
          ]
        },
        {
          "name": "stderr",
          "output_type": "stream",
          "text": [
            "Model weights saved in test-ner\\checkpoint-2500\\pytorch_model.bin\n",
            "tokenizer config file saved in test-ner\\checkpoint-2500\\tokenizer_config.json\n",
            "Special tokens file saved in test-ner\\checkpoint-2500\\special_tokens_map.json\n",
            "***** Running Evaluation *****\n",
            "  Num examples = 4489\n",
            "  Batch size = 16\n",
            "The following columns in the evaluation set don't have a corresponding argument in `CamembertForTokenClassification.forward` and have been ignored: ner_tags, pos_tags, tokens, id. If ner_tags, pos_tags, tokens, id are not expected by `CamembertForTokenClassification.forward`,  you can safely ignore this message.\n"
          ]
        },
        {
          "data": {
            "application/vnd.jupyter.widget-view+json": {
              "model_id": "05c7dde26532435799dbd04c229cda55",
              "version_major": 2,
              "version_minor": 0
            },
            "text/plain": [
              "  0%|          | 0/281 [00:00<?, ?it/s]"
            ]
          },
          "metadata": {},
          "output_type": "display_data"
        },
        {
          "name": "stderr",
          "output_type": "stream",
          "text": [
            "\n",
            "\n",
            "Training completed. Do not forget to share your model on huggingface.co/models =)\n",
            "\n",
            "\n"
          ]
        },
        {
          "name": "stdout",
          "output_type": "stream",
          "text": [
            "{'eval_loss': 0.13019289076328278, 'eval_precision': 0.625, 'eval_recall': 0.6932897862232779, 'eval_f1': 0.6573761261261261, 'eval_accuracy': 0.9800254452926208, 'eval_runtime': 247.1631, 'eval_samples_per_second': 18.162, 'eval_steps_per_second': 1.137, 'epoch': 5.0}\n",
            "{'train_runtime': 15597.085, 'train_samples_per_second': 5.756, 'train_steps_per_second': 0.18, 'train_loss': 0.006073432172683471, 'epoch': 5.0}\n",
            "CPU times: total: 1d 10h 33min 40s\n",
            "Wall time: 4h 19min 57s\n"
          ]
        },
        {
          "data": {
            "text/plain": [
              "TrainOutput(global_step=2805, training_loss=0.006073432172683471, metrics={'train_runtime': 15597.085, 'train_samples_per_second': 5.756, 'train_steps_per_second': 0.18, 'train_loss': 0.006073432172683471, 'epoch': 5.0})"
            ]
          },
          "execution_count": 16,
          "metadata": {},
          "output_type": "execute_result"
        }
      ],
      "source": [
        "%%time\n",
        "#call method train\n",
        "trainer.train()"
      ]
    },
    {
      "cell_type": "code",
      "execution_count": null,
      "metadata": {
        "id": "N_nXM3gbpGO4",
        "outputId": "2768ab8e-0922-4d41-92f0-c8af6d93ffad",
        "colab": {
          "referenced_widgets": [
            "e23a3a413631428596713bd394df9310"
          ]
        }
      },
      "outputs": [
        {
          "name": "stderr",
          "output_type": "stream",
          "text": [
            "***** Running Prediction *****\n",
            "  Num examples = 22444\n",
            "  Batch size = 16\n",
            "The following columns in the test set don't have a corresponding argument in `CamembertForTokenClassification.forward` and have been ignored: ner_tags, pos_tags, tokens, id. If ner_tags, pos_tags, tokens, id are not expected by `CamembertForTokenClassification.forward`,  you can safely ignore this message.\n"
          ]
        },
        {
          "data": {
            "application/vnd.jupyter.widget-view+json": {
              "model_id": "e23a3a413631428596713bd394df9310",
              "version_major": 2,
              "version_minor": 0
            },
            "text/plain": [
              "  0%|          | 0/1403 [00:00<?, ?it/s]"
            ]
          },
          "metadata": {},
          "output_type": "display_data"
        }
      ],
      "source": [
        "predictions, labels, _ = trainer.predict(test_bert)\n",
        "predictions = np.argmax(predictions, axis=2)"
      ]
    },
    {
      "cell_type": "code",
      "execution_count": null,
      "metadata": {
        "id": "HrJX58gTpGO4"
      },
      "outputs": [],
      "source": [
        "true_predictions = [\n",
        "    [label_list[p].replace(\"_\", \"-\") for (p, l) in zip(prediction, label) if l != -100]\n",
        "    for prediction, label in zip(predictions, labels)\n",
        "]\n",
        "true_labels = [\n",
        "    [label_list[l].replace(\"_\", \"-\") for (p, l) in zip(prediction, label) if l != -100]\n",
        "    for prediction, label in zip(predictions, labels)\n",
        "]"
      ]
    },
    {
      "cell_type": "code",
      "execution_count": null,
      "metadata": {
        "id": "Q6DH07j3pGO4"
      },
      "outputs": [],
      "source": [
        "results = metric.compute(predictions=true_predictions, references=true_labels)\n",
        "#print(results)"
      ]
    },
    {
      "cell_type": "code",
      "execution_count": null,
      "metadata": {
        "id": "3_lIQOukpGO5"
      },
      "outputs": [],
      "source": [
        "import pandas as pd\n",
        "#reformat classification report\n",
        "def show_3digits(evalue):\n",
        "    val = round(evalue, 4)\n",
        "    return val\n",
        "\n",
        "def eliminate_decimal(evalue):\n",
        "    val = int(evalue)\n",
        "    return val\n",
        "\n",
        "classification_report = pd.DataFrame.from_dict(results).transpose()\n",
        "\n",
        "classification_report['precision'] = classification_report['precision'].apply(show_3digits)\n",
        "classification_report['recall'] = classification_report['recall'].apply(show_3digits)\n",
        "classification_report['f1'] = classification_report['f1'].apply(show_3digits)\n",
        "classification_report['number'] = classification_report['number'].apply(eliminate_decimal)"
      ]
    },
    {
      "cell_type": "code",
      "execution_count": null,
      "metadata": {
        "id": "H_xNDMc6pGO5",
        "outputId": "b1cc6157-fd02-4b02-f1d2-a160e9434fca"
      },
      "outputs": [
        {
          "name": "stdout",
          "output_type": "stream",
          "text": [
            "                   precision  recall      f1  number\n",
            "ACP                   0.9278  0.9184  0.9231     784\n",
            "ADMIN                 0.9199  0.9391  0.9294    4332\n",
            "BSN                   0.8250  0.9141  0.8673     454\n",
            "DEP                   0.9315  0.9463  0.9389    1882\n",
            "FPLACE                0.8822  0.9224  0.9018    1185\n",
            "GOV                   0.9038  0.8782  0.8908     353\n",
            "HP                    0.8685  0.9307  0.8986     433\n",
            "MKT                   0.9479  0.9446  0.9463     289\n",
            "MON                   0.8158  0.7209  0.7654      43\n",
            "NAT                   0.8303  0.8916  0.8599     203\n",
            "OTHER                 0.9655  0.8750  0.9180      32\n",
            "RCT                   0.9100  0.9529  0.9309     785\n",
            "RES                   0.8596  0.9111  0.8846     551\n",
            "ROAD                  0.9068  0.9265  0.9166    2490\n",
            "RP                    0.9560  0.9702  0.9631    1075\n",
            "RT                    0.8861  0.9288  0.9070    2220\n",
            "STORE                 0.8247  0.8292  0.8269     363\n",
            "TRAN                  0.8784  0.9144  0.8961     561\n",
            "overall_precision     0.9046  0.9046  0.9046       0\n",
            "overall_recall        0.9304  0.9304  0.9304       0\n",
            "overall_f1            0.9173  0.9173  0.9173       0\n",
            "overall_accuracy      0.9952  0.9952  0.9952       0\n"
          ]
        }
      ],
      "source": [
        "print(classification_report)"
      ]
    },
    {
      "cell_type": "code",
      "execution_count": null,
      "metadata": {
        "id": "59-8f9dppGO5",
        "outputId": "159fe762-8eee-40b8-e07b-a6ab11bfd7ed"
      },
      "outputs": [
        {
          "name": "stdout",
          "output_type": "stream",
          "text": [
            "{\"status\":200,\"message\":\"ok\"}\n"
          ]
        }
      ],
      "source": [
        "#line notify to me if complete\n",
        "token_jobnotify = 'M1qygx1uFYuGtgo6qoKPboB4sAKmAhGuwXdL7q54TvP'\n",
        "msg = f\"\"\" run process เสร็จละนะจ๊ะที่รัก เข้ามาดูเค้าหน่อยน้า \n",
        "           f1 = {classification_report.loc['overall_f1']['f1']} \"\"\"\n",
        "url = 'https://notify-api.line.me/api/notify'\n",
        "headers = {'content-type':'application/x-www-form-urlencoded','Authorization':'Bearer '+token_jobnotify}\n",
        "r = requests.post(url, headers=headers, data = {'message':msg})\n",
        "print (r.text)"
      ]
    },
    {
      "cell_type": "code",
      "execution_count": null,
      "metadata": {
        "id": "CoXkN-TTpGO5",
        "outputId": "b4c58e0b-cedb-41d7-bf25-214e52cb972f"
      },
      "outputs": [
        {
          "name": "stderr",
          "output_type": "stream",
          "text": [
            "Configuration saved in C:\\Users\\sveng\\geoparsing_proj\\model_bert\\Model1-v4\\config.json\n",
            "Model weights saved in C:\\Users\\sveng\\geoparsing_proj\\model_bert\\Model1-v4\\pytorch_model.bin\n"
          ]
        }
      ],
      "source": [
        "#Save model by this path\n",
        "folder_name = 'Model1-v4'\n",
        "save_path = r\"C:\\Users\\sveng\\geoparsing_proj\\model_bert\"\n",
        "fullpath = save_path+'\\\\'+folder_name\n",
        "\n",
        "# save vocabulary of the tokenizer\n",
        "tokenizer.save_vocabulary(fullpath)\n",
        "\n",
        "# save last weight pretrained\n",
        "model.save_pretrained(fullpath)"
      ]
    },
    {
      "cell_type": "code",
      "execution_count": null,
      "metadata": {
        "id": "l7603dvQpGO5"
      },
      "outputs": [],
      "source": []
    }
  ],
  "metadata": {
    "kernelspec": {
      "display_name": "Python 3.8.13 ('geo_bert')",
      "language": "python",
      "name": "python3"
    },
    "language_info": {
      "codemirror_mode": {
        "name": "ipython",
        "version": 3
      },
      "file_extension": ".py",
      "mimetype": "text/x-python",
      "name": "python",
      "nbconvert_exporter": "python",
      "pygments_lexer": "ipython3",
      "version": "3.8.13"
    },
    "orig_nbformat": 4,
    "vscode": {
      "interpreter": {
        "hash": "86f0e5ffc1dfc69bbd1cc897569f3f3196e8b770cb904e85f7309af0e7cfa679"
      }
    },
    "colab": {
      "provenance": [],
      "include_colab_link": true
    }
  },
  "nbformat": 4,
  "nbformat_minor": 0
}