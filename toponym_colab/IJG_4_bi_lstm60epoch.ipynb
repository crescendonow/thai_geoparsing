{
  "cells": [
    {
      "cell_type": "markdown",
      "metadata": {
        "id": "view-in-github",
        "colab_type": "text"
      },
      "source": [
        "<a href=\"https://colab.research.google.com/github/crescendonow/thai_geoparsing/blob/main/toponym_colab/IJG_4_bi_lstm60epoch.ipynb\" target=\"_parent\"><img src=\"https://colab.research.google.com/assets/colab-badge.svg\" alt=\"Open In Colab\"/></a>"
      ]
    },
    {
      "cell_type": "markdown",
      "metadata": {
        "id": "64mf6JbnaTsj"
      },
      "source": [
        "learning_rate = default,\\n\n",
        "drop_out = 0.3,\\n\n",
        "epochs = 50,\\n\n",
        "activation = 'softmax',\\n\n",
        "optimizer = 'adam',\\n\n",
        "unit = 64,\\n\n",
        "dense = n_tag(37)\\n"
      ]
    },
    {
      "cell_type": "code",
      "execution_count": null,
      "metadata": {
        "id": "5aSKmA-Uqrj6"
      },
      "outputs": [],
      "source": [
        "#Install every library for use in notebook\n",
        "!pip install pickle-mixin\n",
        "!pip install tqdm\n",
        "!pip install pythainlp[full]"
      ]
    },
    {
      "cell_type": "code",
      "execution_count": null,
      "metadata": {
        "id": "dQ_6iPkT2zOi"
      },
      "outputs": [],
      "source": [
        "!pip install git+https://www.github.com/keras-team/keras-contrib.git"
      ]
    },
    {
      "cell_type": "code",
      "execution_count": null,
      "metadata": {
        "id": "phlKQJZ_YQnJ",
        "colab": {
          "base_uri": "https://localhost:8080/"
        },
        "outputId": "563edd49-a2d1-4b99-96d4-f0549b8eb13f"
      },
      "outputs": [
        {
          "output_type": "stream",
          "name": "stdout",
          "text": [
            "Mounted at /content/drive\n"
          ]
        }
      ],
      "source": [
        "from google.colab import drive\n",
        "drive.mount('/content/drive')"
      ]
    },
    {
      "cell_type": "code",
      "execution_count": null,
      "metadata": {
        "colab": {
          "base_uri": "https://localhost:8080/"
        },
        "id": "23TOba33L4qf",
        "outputId": "7680aa7f-f980-49c9-e259-921d8764c015"
      },
      "outputs": [
        {
          "output_type": "stream",
          "name": "stdout",
          "text": [
            "Thu Jul 28 12:58:12 2022       \n",
            "+-----------------------------------------------------------------------------+\n",
            "| NVIDIA-SMI 460.32.03    Driver Version: 460.32.03    CUDA Version: 11.2     |\n",
            "|-------------------------------+----------------------+----------------------+\n",
            "| GPU  Name        Persistence-M| Bus-Id        Disp.A | Volatile Uncorr. ECC |\n",
            "| Fan  Temp  Perf  Pwr:Usage/Cap|         Memory-Usage | GPU-Util  Compute M. |\n",
            "|                               |                      |               MIG M. |\n",
            "|===============================+======================+======================|\n",
            "|   0  Tesla P100-PCIE...  Off  | 00000000:00:04.0 Off |                    0 |\n",
            "| N/A   37C    P0    28W / 250W |      0MiB / 16280MiB |      0%      Default |\n",
            "|                               |                      |                  N/A |\n",
            "+-------------------------------+----------------------+----------------------+\n",
            "                                                                               \n",
            "+-----------------------------------------------------------------------------+\n",
            "| Processes:                                                                  |\n",
            "|  GPU   GI   CI        PID   Type   Process name                  GPU Memory |\n",
            "|        ID   ID                                                   Usage      |\n",
            "|=============================================================================|\n",
            "|  No running processes found                                                 |\n",
            "+-----------------------------------------------------------------------------+\n"
          ]
        }
      ],
      "source": [
        "#check GPU runtime\n",
        "gpu_info = !nvidia-smi\n",
        "gpu_info = '\\n'.join(gpu_info)\n",
        "if gpu_info.find('failed') >= 0:\n",
        "  print('Not connected to a GPU')\n",
        "else:\n",
        "  print(gpu_info)"
      ]
    },
    {
      "cell_type": "code",
      "execution_count": null,
      "metadata": {
        "id": "CMj1jISLpzTF"
      },
      "outputs": [],
      "source": [
        "#check ram usage\n",
        "from psutil import virtual_memory\n",
        "ram_gb = virtual_memory().total / 1e9\n",
        "print('Your runtime has {:.1f} gigabytes of available RAM\\n'.format(ram_gb))\n",
        "\n",
        "if ram_gb < 20:\n",
        "  print('Not using a high-RAM runtime')\n",
        "else:\n",
        "  print('You are using a high-RAM runtime!')"
      ]
    },
    {
      "cell_type": "code",
      "execution_count": null,
      "metadata": {
        "colab": {
          "base_uri": "https://localhost:8080/"
        },
        "id": "S_Lr9vVmnAq4",
        "outputId": "0bb9b215-cb46-45c4-cd0c-15fb4f106dc4"
      },
      "outputs": [
        {
          "output_type": "stream",
          "name": "stdout",
          "text": [
            "WARNING: Tensorflow 1 is deprecated, and support will be removed on August 1, 2022.\n",
            "After that, `%tensorflow_version 1.x` will throw an error.\n",
            "\n",
            "Your notebook should be updated to use Tensorflow 2.\n",
            "See the guide at https://www.tensorflow.org/guide/migrate#migrate-from-tensorflow-1x-to-tensorflow-2.\n",
            "\n",
            "TensorFlow 1.x selected.\n",
            "1.15.2\n"
          ]
        }
      ],
      "source": [
        "#If you want to use bi-lstm+crf ; set tf 1.xx\n",
        "%tensorflow_version 1.x\n",
        "import tensorflow\n",
        "print(tensorflow.__version__)"
      ]
    },
    {
      "cell_type": "code",
      "execution_count": null,
      "metadata": {
        "colab": {
          "base_uri": "https://localhost:8080/"
        },
        "id": "Dr5gkcy71yiQ",
        "outputId": "dbd9a6c3-8239-46ec-9e00-dd09ac6c55fb"
      },
      "outputs": [
        {
          "output_type": "stream",
          "name": "stderr",
          "text": [
            "Using TensorFlow backend.\n"
          ]
        }
      ],
      "source": [
        "# Save / Load File\n",
        "import dill\n",
        "import pickle\n",
        "\n",
        "# Plot Graph\n",
        "import matplotlib.pyplot as plt\n",
        "\n",
        "# Sklearn Report\n",
        "import sklearn\n",
        "from sklearn.metrics import classification_report, confusion_matrix\n",
        "from sklearn.preprocessing import LabelBinarizer\n",
        "from itertools import chain\n",
        "\n",
        "# Load Vectors\n",
        "from gensim.models import KeyedVectors\n",
        "\n",
        "# Utility\n",
        "import numpy as np\n",
        "import time\n",
        "\n",
        "# Model Utility\n",
        "from sklearn.model_selection import train_test_split\n",
        "from tqdm import tqdm\n",
        "import pandas as pd\n",
        "\n",
        "# Keras Model\n",
        "from keras.models import load_model\n",
        "from keras.preprocessing.sequence import pad_sequences\n",
        "from keras.models import Model, Input\n",
        "from keras.utils import to_categorical\n",
        "from keras.layers import LSTM, Embedding, Dense, TimeDistributed, Dropout, Conv1D\n",
        "from keras.layers import Bidirectional, concatenate, SpatialDropout1D, GlobalMaxPooling1D\n",
        "from keras_contrib.layers import CRF\n",
        "from keras.callbacks import ModelCheckpoint"
      ]
    },
    {
      "cell_type": "code",
      "execution_count": null,
      "metadata": {
        "id": "X6mUmojo3ZDj"
      },
      "outputs": [],
      "source": [
        "#load train and test data\n",
        "with open('/content/drive/MyDrive/dissertation/TEXT DATA/TrainingData/1.Tokennization/train_dn.data', 'rb') as token:\n",
        "    train_data = pickle.load(token)\n",
        "with open('/content/drive/MyDrive/dissertation/TEXT DATA/TrainingData/1.Tokennization/validate_dn.data', 'rb') as token2:\n",
        "    validate_data = pickle.load(token2)   \n",
        "with open('/content/drive/MyDrive/dissertation/TEXT DATA/TrainingData/1.Tokennization/test_attacut_cl.data', 'rb') as token3:\n",
        "    test_data = pickle.load(token3)"
      ]
    },
    {
      "cell_type": "code",
      "source": [
        "#load dict ner_dict, chardict\n",
        "with open('/content/drive/MyDrive/dissertation/TEXT DATA/TrainingData/5.dict/ner_ix.dict', 'rb') as ner:\n",
        "    ner_to_ix = pickle.load(ner)\n",
        "with open('/content/drive/MyDrive/dissertation/TEXT DATA/TrainingData/5.dict/chardict.pickle', 'rb') as chardict:\n",
        "    char2idx = pickle.load(chardict)"
      ],
      "metadata": {
        "id": "VlGGa4jqHLyq"
      },
      "execution_count": null,
      "outputs": []
    },
    {
      "cell_type": "code",
      "source": [
        "#load dict word index, thai2fit dict and thai2fit index\n",
        "with open('/content/drive/MyDrive/dissertation/TEXT DATA/TrainingData/5.dict/word_index.dict', 'rb') as word_index:\n",
        "    word_to_ix = pickle.load(word_index)\n",
        "with open('/content/drive/MyDrive/dissertation/TEXT DATA/TrainingData/5.dict/thai2index.dict', 'rb') as thai_index:\n",
        "    thai2dict_to_ix = pickle.load(thai_index)\n",
        "with open('/content/drive/MyDrive/dissertation/TEXT DATA/TrainingData/5.dict/thai2dict.dict', 'rb') as thai_to_dict:\n",
        "    thai2dict = pickle.load(thai_to_dict)   "
      ],
      "metadata": {
        "id": "-dmp7nYkH2ac"
      },
      "execution_count": null,
      "outputs": []
    },
    {
      "cell_type": "code",
      "execution_count": null,
      "metadata": {
        "id": "7b9EgDNb3ZW0"
      },
      "outputs": [],
      "source": [
        "thai2fit_model = KeyedVectors.load_word2vec_format('/content/drive/MyDrive/dissertation/thai2vecNoSym.bin',binary=True)\n",
        "thai2fit_weight = thai2fit_model.vectors"
      ]
    },
    {
      "cell_type": "code",
      "source": [
        "ix_to_word = dict((v,k) for k,v in word_to_ix.items()) #convert index to word\n",
        "ix_to_ner = dict((v,k) for k,v in ner_to_ix.items())  #convert index to ner\n",
        "ix_to_thai2dict = dict((v,k) for k,v in thai2dict_to_ix.items())  #convert index to thai2fit\n",
        "\n",
        "n_word = len(word_to_ix)\n",
        "n_tag = len(ner_to_ix)\n",
        "n_thai2dict = len(thai2dict_to_ix)\n",
        "n_chars = len(char2idx)\n",
        "\n",
        "print(n_word)\n",
        "print(n_tag)\n",
        "print(n_thai2dict)\n",
        "print(ner_to_ix)"
      ],
      "metadata": {
        "colab": {
          "base_uri": "https://localhost:8080/"
        },
        "id": "JXZZoD6dIT2i",
        "outputId": "d6ba3b03-e710-4e82-d72a-e746e4e73bfc"
      },
      "execution_count": null,
      "outputs": [
        {
          "output_type": "stream",
          "name": "stdout",
          "text": [
            "41375\n",
            "38\n",
            "55677\n",
            "{'O': 0, 'B-ACP': 1, 'I-ACP': 2, 'B-ADMIN': 3, 'I-ADMIN': 4, 'B-BSN': 5, 'I-BSN': 6, 'B-DEP': 7, 'I-DEP': 8, 'B-FPLACE': 9, 'I-FPLACE': 10, 'B-GOV': 11, 'I-GOV': 12, 'B-HP': 13, 'I-HP': 14, 'B-MKT': 15, 'I-MKT': 16, 'B-MON': 17, 'I-MON': 18, 'B-NAT': 19, 'I-NAT': 20, 'B-OTHER': 21, 'I-OTHER': 22, 'B-RCT': 23, 'I-RCT': 24, 'B-RES': 25, 'I-RES': 26, 'B-ROAD': 27, 'I-ROAD': 28, 'B-RP': 29, 'I-RP': 30, 'B-RT': 31, 'I-RT': 32, 'B-STORE': 33, 'I-STORE': 34, 'B-TRAN': 35, 'I-TRAN': 36, 'pad': 37}\n"
          ]
        }
      ]
    },
    {
      "cell_type": "code",
      "source": [
        "#Set Parameter and Hyper Parameter\n",
        "max_len = 250\n",
        "max_len_char = 30\n",
        "\n",
        "character_LSTM_unit = 32\n",
        "char_embedding_dim = 32\n",
        "main_lstm_unit = 256 ## Bidirectional 256 + 256 = 512\n",
        "lstm_recurrent_dropout = 0.5\n",
        "\n",
        "train_batch_size = 32\n",
        "train_epochs = 60"
      ],
      "metadata": {
        "id": "KDJC6nONIT5n"
      },
      "execution_count": null,
      "outputs": []
    },
    {
      "cell_type": "code",
      "execution_count": null,
      "metadata": {
        "id": "OlhG1FKh3ZdM"
      },
      "outputs": [],
      "source": [
        "#mapping function if unkwnon from embedding use \"unknown\"\n",
        "def prepare_sequence_word(input_text):\n",
        "    idxs = list()\n",
        "    for word in input_text:\n",
        "        if word in thai2dict:\n",
        "            idxs.append(thai2dict_to_ix[word])\n",
        "        else:\n",
        "            idxs.append(thai2dict_to_ix[\"unknown\"]) #Use UNK tag for unknown word\n",
        "    return idxs\n",
        "\n",
        "def prepare_sequence_target(input_label):\n",
        "    idxs = [ner_to_ix[w] for w in input_label]\n",
        "    return idxs"
      ]
    },
    {
      "cell_type": "code",
      "source": [
        "input_sent =[ [ word[0] for word in sent]for sent in train_data ] #words only\n",
        "train_targets =[ [ word[2] for word in sent]for sent in train_data ] #NER only\n",
        "\n",
        "input_val_sent =[ [ word[0] for word in sent]for sent in validate_data ] #words only\n",
        "validate_targets =[ [ word[2] for word in sent]for sent in validate_data ] #NER only\n",
        "\n",
        "input_test_sent =[ [ word[0] for word in sent]for sent in test_data ] #words only\n",
        "test_targets =[ [ word[2] for word in sent]for sent in test_data ] #NER only"
      ],
      "metadata": {
        "id": "538PqxNMJTHH"
      },
      "execution_count": null,
      "outputs": []
    },
    {
      "cell_type": "code",
      "source": [
        "#Prepare Training Dataset\n",
        "\n",
        "## Word Training\n",
        "X_word_tr = [prepare_sequence_word(s) for s in input_sent]\n",
        "X_word_tr = pad_sequences(maxlen=max_len, sequences=X_word_tr, value=thai2dict_to_ix[\"pad\"], padding='post', truncating='post')\n",
        "\n",
        "## Character Training\n",
        "X_char_tr = []\n",
        "for sentence in train_data:\n",
        "    sent_seq = []\n",
        "    for i in range(max_len):\n",
        "        word_seq = []\n",
        "        for j in range(max_len_char):\n",
        "            try:\n",
        "                if(sentence[i][0][j] in char2idx):\n",
        "                    word_seq.append(char2idx.get(sentence[i][0][j]))\n",
        "                else:\n",
        "                    word_seq.append(char2idx.get(\"unknown\"))\n",
        "            except:\n",
        "                word_seq.append(char2idx.get(\"pad\"))\n",
        "        sent_seq.append(word_seq)\n",
        "    X_char_tr.append(np.array(sent_seq))\n",
        "\n",
        "## Sequence Label Training\n",
        "y_tr = [prepare_sequence_target(s) for s in train_targets]\n",
        "y_tr = pad_sequences(maxlen=max_len, sequences=y_tr, value=ner_to_ix[\"pad\"], padding='post', truncating='post')\n",
        "y_tr = [to_categorical(i, num_classes=n_tag) for i in y_tr]"
      ],
      "metadata": {
        "id": "gW82UiuhJTKJ"
      },
      "execution_count": null,
      "outputs": []
    },
    {
      "cell_type": "code",
      "source": [
        "#Prepare Validate Dataset\n",
        "## Word validattion\n",
        "X_word_va = [prepare_sequence_word(s) for s in input_val_sent]\n",
        "X_word_va = pad_sequences(maxlen=max_len, sequences=X_word_va, value=thai2dict_to_ix[\"pad\"], padding='post', truncating='post')\n",
        "\n",
        "## Character Training\n",
        "X_char_va = []\n",
        "for sentence in validate_data:\n",
        "    sent_seq = []\n",
        "    for i in range(max_len):\n",
        "        word_seq = []\n",
        "        for j in range(max_len_char):\n",
        "            try:\n",
        "                if(sentence[i][0][j] in char2idx):\n",
        "                    word_seq.append(char2idx.get(sentence[i][0][j]))\n",
        "                else:\n",
        "                    word_seq.append(char2idx.get(\"unknown\"))\n",
        "            except:\n",
        "                word_seq.append(char2idx.get(\"pad\"))\n",
        "        sent_seq.append(word_seq)\n",
        "    X_char_va.append(np.array(sent_seq))\n",
        "\n",
        "## Sequence Label Training\n",
        "y_va = [prepare_sequence_target(s) for s in validate_targets]\n",
        "y_va = pad_sequences(maxlen=max_len, sequences=y_va, value=ner_to_ix[\"pad\"], padding='post', truncating='post')\n",
        "y_va = [to_categorical(i, num_classes=n_tag) for i in y_va]"
      ],
      "metadata": {
        "id": "dNrNqwIjJTNL"
      },
      "execution_count": null,
      "outputs": []
    },
    {
      "cell_type": "code",
      "source": [
        "#Prepare Testing Dataset\n",
        "\n",
        "## Word Testing\n",
        "X_word_te = [prepare_sequence_word(s) for s in input_test_sent]\n",
        "X_word_te = pad_sequences(maxlen=max_len, sequences=X_word_te, value=thai2dict_to_ix[\"pad\"], padding='post', truncating='post')\n",
        "\n",
        "## Character Testing\n",
        "X_char_te = []\n",
        "for sentence in test_data:\n",
        "    sent_seq = []\n",
        "    for i in range(max_len):\n",
        "        word_seq = []\n",
        "        for j in range(max_len_char):\n",
        "            try:\n",
        "                if(sentence[i][0][j] in char2idx):\n",
        "                    word_seq.append(char2idx.get(sentence[i][0][j]))\n",
        "                else:\n",
        "                    word_seq.append(char2idx.get(\"unknown\"))\n",
        "            except:\n",
        "                word_seq.append(char2idx.get(\"pad\"))    \n",
        "        sent_seq.append(word_seq)\n",
        "    X_char_te.append(np.array(sent_seq))\n",
        "\n",
        "## Sequence Label Testing\n",
        "y_te = [prepare_sequence_target(s) for s in test_targets]\n",
        "y_te = pad_sequences(maxlen=max_len, sequences=y_te, value=ner_to_ix[\"pad\"], padding='post', truncating='post')\n",
        "y_te = [to_categorical(i, num_classes=n_tag) for i in y_te]"
      ],
      "metadata": {
        "id": "A1kin2x-JzaH"
      },
      "execution_count": null,
      "outputs": []
    },
    {
      "cell_type": "code",
      "source": [
        "MODEL_PATH = f'/content/drive/MyDrive/dissertation/TEXT DATA/TrainingData/Model_train/'"
      ],
      "metadata": {
        "id": "xSKtcWLXJ-HX"
      },
      "execution_count": null,
      "outputs": []
    },
    {
      "cell_type": "code",
      "source": [
        "#Initial Keras Model\n",
        "# Word Input\n",
        "word_in = Input(shape=(max_len,), name='word_input_')\n",
        "\n",
        "# Word Embedding Using Thai2Fit\n",
        "word_embeddings = Embedding(input_dim=n_thai2dict,\n",
        "                            output_dim=400,\n",
        "                            weights = [thai2fit_weight],input_length=max_len,\n",
        "                            mask_zero=False,\n",
        "                            name='word_embedding', trainable=False)(word_in)\n",
        "\n",
        "# Character Input\n",
        "char_in = Input(shape=(max_len, max_len_char,), name='char_input')\n",
        "\n",
        "# Character Embedding\n",
        "emb_char = TimeDistributed(Embedding(input_dim=n_chars, output_dim=char_embedding_dim, \n",
        "                           input_length=max_len_char, mask_zero=False))(char_in)\n",
        "\n",
        "# Character Sequence to Vector via BiLSTM\n",
        "char_enc = TimeDistributed(Bidirectional(LSTM(units=character_LSTM_unit, return_sequences=False, recurrent_dropout=lstm_recurrent_dropout)))(emb_char)\n",
        "\n",
        "\n",
        "# Concatenate All Embedding\n",
        "all_word_embeddings = concatenate([word_embeddings, char_enc])\n",
        "all_word_embeddings = SpatialDropout1D(0.3)(all_word_embeddings)\n",
        "\n",
        "# Main Model BiLSTM\n",
        "main_lstm = Bidirectional(LSTM(units=main_lstm_unit, return_sequences=True,\n",
        "                               recurrent_dropout=lstm_recurrent_dropout))(all_word_embeddings)\n",
        "out = TimeDistributed(Dense(n_tag, activation = 'softmax'))(main_lstm)\n",
        "\n",
        "#Model\n",
        "model = Model([word_in, char_in], out)\n",
        "\n",
        "#load save model and continue train model from last epochs\n",
        "#load_filepath=MODEL_PATH+\"last_weights60.hdf5\"\n",
        "#model.load_weights(load_filepath)\n",
        "model.compile(optimizer=\"adam\", loss='categorical_crossentropy', metrics=['accuracy'])\n",
        "\n",
        "model.summary()"
      ],
      "metadata": {
        "colab": {
          "base_uri": "https://localhost:8080/"
        },
        "id": "nvEmiab6KAxd",
        "outputId": "c12564a9-7bed-4a22-c4f6-1fcda4b2f437"
      },
      "execution_count": null,
      "outputs": [
        {
          "output_type": "stream",
          "name": "stdout",
          "text": [
            "WARNING:tensorflow:From /tensorflow-1.15.2/python3.7/tensorflow_core/python/ops/resource_variable_ops.py:1630: calling BaseResourceVariable.__init__ (from tensorflow.python.ops.resource_variable_ops) with constraint is deprecated and will be removed in a future version.\n",
            "Instructions for updating:\n",
            "If using Keras pass *_constraint arguments to layers.\n",
            "Model: \"model_1\"\n",
            "__________________________________________________________________________________________________\n",
            "Layer (type)                    Output Shape         Param #     Connected to                     \n",
            "==================================================================================================\n",
            "char_input (InputLayer)         (None, 250, 30)      0                                            \n",
            "__________________________________________________________________________________________________\n",
            "word_input_ (InputLayer)        (None, 250)          0                                            \n",
            "__________________________________________________________________________________________________\n",
            "time_distributed_1 (TimeDistrib (None, 250, 30, 32)  12768       char_input[0][0]                 \n",
            "__________________________________________________________________________________________________\n",
            "word_embedding (Embedding)      (None, 250, 400)     22270800    word_input_[0][0]                \n",
            "__________________________________________________________________________________________________\n",
            "time_distributed_2 (TimeDistrib (None, 250, 64)      16640       time_distributed_1[0][0]         \n",
            "__________________________________________________________________________________________________\n",
            "concatenate_1 (Concatenate)     (None, 250, 464)     0           word_embedding[0][0]             \n",
            "                                                                 time_distributed_2[0][0]         \n",
            "__________________________________________________________________________________________________\n",
            "spatial_dropout1d_1 (SpatialDro (None, 250, 464)     0           concatenate_1[0][0]              \n",
            "__________________________________________________________________________________________________\n",
            "bidirectional_2 (Bidirectional) (None, 250, 512)     1476608     spatial_dropout1d_1[0][0]        \n",
            "__________________________________________________________________________________________________\n",
            "time_distributed_3 (TimeDistrib (None, 250, 38)      19494       bidirectional_2[0][0]            \n",
            "==================================================================================================\n",
            "Total params: 23,796,310\n",
            "Trainable params: 1,525,510\n",
            "Non-trainable params: 22,270,800\n",
            "__________________________________________________________________________________________________\n"
          ]
        }
      ]
    },
    {
      "cell_type": "code",
      "source": [
        "filepath=MODEL_PATH+\"weights-improvement-{epoch:02d}-{accuracy:.3f}.hdf5\"\n",
        "checkpoint = ModelCheckpoint(filepath, monitor='accuracy', verbose=1, save_best_only=True, mode='max')\n",
        "callbacks_list = [checkpoint]\n",
        "\n",
        "history = model.fit([X_word_tr,\n",
        "                     np.array(X_char_tr).reshape((len(X_char_tr), max_len, max_len_char))\n",
        "                     ],\n",
        "                     np.array(y_tr),\n",
        "                     batch_size=train_batch_size, epochs=train_epochs, verbose=1,callbacks=callbacks_list,\n",
        "                     validation_data=(\n",
        "                     [X_word_va,\n",
        "                     np.array(X_char_va).reshape((len(X_char_va), max_len, max_len_char))\n",
        "                     ],\n",
        "                     np.array(y_va))\n",
        "                   )"
      ],
      "metadata": {
        "colab": {
          "base_uri": "https://localhost:8080/"
        },
        "id": "Lh_Ts9VcKA5u",
        "outputId": "fe3e44d7-cf11-4fbb-e9ae-2a67d40e1f42"
      },
      "execution_count": null,
      "outputs": [
        {
          "output_type": "stream",
          "name": "stdout",
          "text": [
            "WARNING:tensorflow:From /tensorflow-1.15.2/python3.7/tensorflow_core/python/ops/math_grad.py:1424: where (from tensorflow.python.ops.array_ops) is deprecated and will be removed in a future version.\n",
            "Instructions for updating:\n",
            "Use tf.where in 2.0, which has the same broadcast rule as np.where\n",
            "WARNING:tensorflow:From /tensorflow-1.15.2/python3.7/keras/backend/tensorflow_backend.py:422: The name tf.global_variables is deprecated. Please use tf.compat.v1.global_variables instead.\n",
            "\n",
            "Train on 17955 samples, validate on 4489 samples\n",
            "Epoch 1/60\n",
            "17955/17955 [==============================] - 257s 14ms/step - loss: 0.0388 - accuracy: 0.9932 - val_loss: 0.0148 - val_accuracy: 0.9976\n",
            "\n",
            "Epoch 00001: accuracy improved from -inf to 0.99319, saving model to /content/drive/MyDrive/dissertation/TEXT DATA/TrainingData/Model_train/weights-improvement-01-0.993.hdf5\n",
            "Epoch 2/60\n",
            "17955/17955 [==============================] - 254s 14ms/step - loss: 0.0141 - accuracy: 0.9974 - val_loss: 0.0120 - val_accuracy: 0.9976\n",
            "\n",
            "Epoch 00002: accuracy improved from 0.99319 to 0.99742, saving model to /content/drive/MyDrive/dissertation/TEXT DATA/TrainingData/Model_train/weights-improvement-02-0.997.hdf5\n",
            "Epoch 3/60\n",
            "17955/17955 [==============================] - 254s 14ms/step - loss: 0.0121 - accuracy: 0.9975 - val_loss: 0.0102 - val_accuracy: 0.9978\n",
            "\n",
            "Epoch 00003: accuracy improved from 0.99742 to 0.99751, saving model to /content/drive/MyDrive/dissertation/TEXT DATA/TrainingData/Model_train/weights-improvement-03-0.998.hdf5\n",
            "Epoch 4/60\n",
            "17955/17955 [==============================] - 253s 14ms/step - loss: 0.0109 - accuracy: 0.9976 - val_loss: 0.0098 - val_accuracy: 0.9978\n",
            "\n",
            "Epoch 00004: accuracy improved from 0.99751 to 0.99763, saving model to /content/drive/MyDrive/dissertation/TEXT DATA/TrainingData/Model_train/weights-improvement-04-0.998.hdf5\n",
            "Epoch 5/60\n",
            "17955/17955 [==============================] - 253s 14ms/step - loss: 0.0101 - accuracy: 0.9977 - val_loss: 0.0090 - val_accuracy: 0.9979\n",
            "\n",
            "Epoch 00005: accuracy improved from 0.99763 to 0.99770, saving model to /content/drive/MyDrive/dissertation/TEXT DATA/TrainingData/Model_train/weights-improvement-05-0.998.hdf5\n",
            "Epoch 6/60\n",
            "17955/17955 [==============================] - 253s 14ms/step - loss: 0.0096 - accuracy: 0.9978 - val_loss: 0.0087 - val_accuracy: 0.9980\n",
            "\n",
            "Epoch 00006: accuracy improved from 0.99770 to 0.99776, saving model to /content/drive/MyDrive/dissertation/TEXT DATA/TrainingData/Model_train/weights-improvement-06-0.998.hdf5\n",
            "Epoch 7/60\n",
            "17955/17955 [==============================] - 253s 14ms/step - loss: 0.0092 - accuracy: 0.9978 - val_loss: 0.0085 - val_accuracy: 0.9980\n",
            "\n",
            "Epoch 00007: accuracy improved from 0.99776 to 0.99782, saving model to /content/drive/MyDrive/dissertation/TEXT DATA/TrainingData/Model_train/weights-improvement-07-0.998.hdf5\n",
            "Epoch 8/60\n",
            "17955/17955 [==============================] - 254s 14ms/step - loss: 0.0088 - accuracy: 0.9979 - val_loss: 0.0081 - val_accuracy: 0.9980\n",
            "\n",
            "Epoch 00008: accuracy improved from 0.99782 to 0.99787, saving model to /content/drive/MyDrive/dissertation/TEXT DATA/TrainingData/Model_train/weights-improvement-08-0.998.hdf5\n",
            "Epoch 9/60\n",
            "17955/17955 [==============================] - 252s 14ms/step - loss: 0.0083 - accuracy: 0.9979 - val_loss: 0.0081 - val_accuracy: 0.9981\n",
            "\n",
            "Epoch 00009: accuracy improved from 0.99787 to 0.99794, saving model to /content/drive/MyDrive/dissertation/TEXT DATA/TrainingData/Model_train/weights-improvement-09-0.998.hdf5\n",
            "Epoch 10/60\n",
            "17955/17955 [==============================] - 252s 14ms/step - loss: 0.0080 - accuracy: 0.9980 - val_loss: 0.0079 - val_accuracy: 0.9981\n",
            "\n",
            "Epoch 00010: accuracy improved from 0.99794 to 0.99800, saving model to /content/drive/MyDrive/dissertation/TEXT DATA/TrainingData/Model_train/weights-improvement-10-0.998.hdf5\n",
            "Epoch 11/60\n",
            "17955/17955 [==============================] - 253s 14ms/step - loss: 0.0077 - accuracy: 0.9981 - val_loss: 0.0079 - val_accuracy: 0.9981\n",
            "\n",
            "Epoch 00011: accuracy improved from 0.99800 to 0.99808, saving model to /content/drive/MyDrive/dissertation/TEXT DATA/TrainingData/Model_train/weights-improvement-11-0.998.hdf5\n",
            "Epoch 12/60\n",
            "17955/17955 [==============================] - 252s 14ms/step - loss: 0.0073 - accuracy: 0.9981 - val_loss: 0.0074 - val_accuracy: 0.9981\n",
            "\n",
            "Epoch 00012: accuracy improved from 0.99808 to 0.99811, saving model to /content/drive/MyDrive/dissertation/TEXT DATA/TrainingData/Model_train/weights-improvement-12-0.998.hdf5\n",
            "Epoch 13/60\n",
            "17955/17955 [==============================] - 252s 14ms/step - loss: 0.0070 - accuracy: 0.9982 - val_loss: 0.0073 - val_accuracy: 0.9982\n",
            "\n",
            "Epoch 00013: accuracy improved from 0.99811 to 0.99819, saving model to /content/drive/MyDrive/dissertation/TEXT DATA/TrainingData/Model_train/weights-improvement-13-0.998.hdf5\n",
            "Epoch 14/60\n",
            "17955/17955 [==============================] - 252s 14ms/step - loss: 0.0068 - accuracy: 0.9982 - val_loss: 0.0072 - val_accuracy: 0.9982\n",
            "\n",
            "Epoch 00014: accuracy improved from 0.99819 to 0.99824, saving model to /content/drive/MyDrive/dissertation/TEXT DATA/TrainingData/Model_train/weights-improvement-14-0.998.hdf5\n",
            "Epoch 15/60\n",
            "17955/17955 [==============================] - 253s 14ms/step - loss: 0.0066 - accuracy: 0.9983 - val_loss: 0.0070 - val_accuracy: 0.9982\n",
            "\n",
            "Epoch 00015: accuracy improved from 0.99824 to 0.99827, saving model to /content/drive/MyDrive/dissertation/TEXT DATA/TrainingData/Model_train/weights-improvement-15-0.998.hdf5\n",
            "Epoch 16/60\n",
            "17955/17955 [==============================] - 252s 14ms/step - loss: 0.0062 - accuracy: 0.9983 - val_loss: 0.0069 - val_accuracy: 0.9982\n",
            "\n",
            "Epoch 00016: accuracy improved from 0.99827 to 0.99834, saving model to /content/drive/MyDrive/dissertation/TEXT DATA/TrainingData/Model_train/weights-improvement-16-0.998.hdf5\n",
            "Epoch 17/60\n",
            "17955/17955 [==============================] - 252s 14ms/step - loss: 0.0060 - accuracy: 0.9984 - val_loss: 0.0072 - val_accuracy: 0.9982\n",
            "\n",
            "Epoch 00017: accuracy improved from 0.99834 to 0.99836, saving model to /content/drive/MyDrive/dissertation/TEXT DATA/TrainingData/Model_train/weights-improvement-17-0.998.hdf5\n",
            "Epoch 18/60\n",
            "17955/17955 [==============================] - 252s 14ms/step - loss: 0.0057 - accuracy: 0.9985 - val_loss: 0.0071 - val_accuracy: 0.9982\n",
            "\n",
            "Epoch 00018: accuracy improved from 0.99836 to 0.99848, saving model to /content/drive/MyDrive/dissertation/TEXT DATA/TrainingData/Model_train/weights-improvement-18-0.998.hdf5\n",
            "Epoch 19/60\n",
            "17955/17955 [==============================] - 252s 14ms/step - loss: 0.0055 - accuracy: 0.9985 - val_loss: 0.0070 - val_accuracy: 0.9983\n",
            "\n",
            "Epoch 00019: accuracy improved from 0.99848 to 0.99852, saving model to /content/drive/MyDrive/dissertation/TEXT DATA/TrainingData/Model_train/weights-improvement-19-0.999.hdf5\n",
            "Epoch 20/60\n",
            "17955/17955 [==============================] - 252s 14ms/step - loss: 0.0053 - accuracy: 0.9985 - val_loss: 0.0068 - val_accuracy: 0.9983\n",
            "\n",
            "Epoch 00020: accuracy improved from 0.99852 to 0.99853, saving model to /content/drive/MyDrive/dissertation/TEXT DATA/TrainingData/Model_train/weights-improvement-20-0.999.hdf5\n",
            "Epoch 21/60\n",
            "17955/17955 [==============================] - 251s 14ms/step - loss: 0.0051 - accuracy: 0.9986 - val_loss: 0.0070 - val_accuracy: 0.9983\n",
            "\n",
            "Epoch 00021: accuracy improved from 0.99853 to 0.99858, saving model to /content/drive/MyDrive/dissertation/TEXT DATA/TrainingData/Model_train/weights-improvement-21-0.999.hdf5\n",
            "Epoch 22/60\n",
            "17955/17955 [==============================] - 251s 14ms/step - loss: 0.0049 - accuracy: 0.9987 - val_loss: 0.0069 - val_accuracy: 0.9983\n",
            "\n",
            "Epoch 00022: accuracy improved from 0.99858 to 0.99865, saving model to /content/drive/MyDrive/dissertation/TEXT DATA/TrainingData/Model_train/weights-improvement-22-0.999.hdf5\n",
            "Epoch 23/60\n",
            "17955/17955 [==============================] - 251s 14ms/step - loss: 0.0047 - accuracy: 0.9987 - val_loss: 0.0071 - val_accuracy: 0.9983\n",
            "\n",
            "Epoch 00023: accuracy improved from 0.99865 to 0.99868, saving model to /content/drive/MyDrive/dissertation/TEXT DATA/TrainingData/Model_train/weights-improvement-23-0.999.hdf5\n",
            "Epoch 24/60\n",
            "17955/17955 [==============================] - 251s 14ms/step - loss: 0.0045 - accuracy: 0.9987 - val_loss: 0.0071 - val_accuracy: 0.9983\n",
            "\n",
            "Epoch 00024: accuracy improved from 0.99868 to 0.99875, saving model to /content/drive/MyDrive/dissertation/TEXT DATA/TrainingData/Model_train/weights-improvement-24-0.999.hdf5\n",
            "Epoch 25/60\n",
            "17955/17955 [==============================] - 251s 14ms/step - loss: 0.0043 - accuracy: 0.9988 - val_loss: 0.0071 - val_accuracy: 0.9983\n",
            "\n",
            "Epoch 00025: accuracy improved from 0.99875 to 0.99875, saving model to /content/drive/MyDrive/dissertation/TEXT DATA/TrainingData/Model_train/weights-improvement-25-0.999.hdf5\n",
            "Epoch 26/60\n",
            "17955/17955 [==============================] - 251s 14ms/step - loss: 0.0042 - accuracy: 0.9988 - val_loss: 0.0070 - val_accuracy: 0.9983\n",
            "\n",
            "Epoch 00026: accuracy improved from 0.99875 to 0.99878, saving model to /content/drive/MyDrive/dissertation/TEXT DATA/TrainingData/Model_train/weights-improvement-26-0.999.hdf5\n",
            "Epoch 27/60\n",
            "17955/17955 [==============================] - 251s 14ms/step - loss: 0.0040 - accuracy: 0.9988 - val_loss: 0.0070 - val_accuracy: 0.9984\n",
            "\n",
            "Epoch 00027: accuracy improved from 0.99878 to 0.99883, saving model to /content/drive/MyDrive/dissertation/TEXT DATA/TrainingData/Model_train/weights-improvement-27-0.999.hdf5\n",
            "Epoch 28/60\n",
            "17955/17955 [==============================] - 252s 14ms/step - loss: 0.0038 - accuracy: 0.9989 - val_loss: 0.0070 - val_accuracy: 0.9984\n",
            "\n",
            "Epoch 00028: accuracy improved from 0.99883 to 0.99889, saving model to /content/drive/MyDrive/dissertation/TEXT DATA/TrainingData/Model_train/weights-improvement-28-0.999.hdf5\n",
            "Epoch 29/60\n",
            "17955/17955 [==============================] - 253s 14ms/step - loss: 0.0037 - accuracy: 0.9989 - val_loss: 0.0070 - val_accuracy: 0.9984\n",
            "\n",
            "Epoch 00029: accuracy improved from 0.99889 to 0.99892, saving model to /content/drive/MyDrive/dissertation/TEXT DATA/TrainingData/Model_train/weights-improvement-29-0.999.hdf5\n",
            "Epoch 30/60\n",
            "17955/17955 [==============================] - 253s 14ms/step - loss: 0.0035 - accuracy: 0.9990 - val_loss: 0.0071 - val_accuracy: 0.9983\n",
            "\n",
            "Epoch 00030: accuracy improved from 0.99892 to 0.99896, saving model to /content/drive/MyDrive/dissertation/TEXT DATA/TrainingData/Model_train/weights-improvement-30-0.999.hdf5\n",
            "Epoch 31/60\n",
            "17955/17955 [==============================] - 252s 14ms/step - loss: 0.0034 - accuracy: 0.9990 - val_loss: 0.0071 - val_accuracy: 0.9983\n",
            "\n",
            "Epoch 00031: accuracy improved from 0.99896 to 0.99897, saving model to /content/drive/MyDrive/dissertation/TEXT DATA/TrainingData/Model_train/weights-improvement-31-0.999.hdf5\n",
            "Epoch 32/60\n",
            "17955/17955 [==============================] - 252s 14ms/step - loss: 0.0032 - accuracy: 0.9990 - val_loss: 0.0073 - val_accuracy: 0.9983\n",
            "\n",
            "Epoch 00032: accuracy improved from 0.99897 to 0.99903, saving model to /content/drive/MyDrive/dissertation/TEXT DATA/TrainingData/Model_train/weights-improvement-32-0.999.hdf5\n",
            "Epoch 33/60\n",
            "17955/17955 [==============================] - 252s 14ms/step - loss: 0.0031 - accuracy: 0.9990 - val_loss: 0.0071 - val_accuracy: 0.9984\n",
            "\n",
            "Epoch 00033: accuracy improved from 0.99903 to 0.99905, saving model to /content/drive/MyDrive/dissertation/TEXT DATA/TrainingData/Model_train/weights-improvement-33-0.999.hdf5\n",
            "Epoch 34/60\n",
            "17955/17955 [==============================] - 252s 14ms/step - loss: 0.0031 - accuracy: 0.9991 - val_loss: 0.0073 - val_accuracy: 0.9984\n",
            "\n",
            "Epoch 00034: accuracy improved from 0.99905 to 0.99907, saving model to /content/drive/MyDrive/dissertation/TEXT DATA/TrainingData/Model_train/weights-improvement-34-0.999.hdf5\n",
            "Epoch 35/60\n",
            "17955/17955 [==============================] - 252s 14ms/step - loss: 0.0030 - accuracy: 0.9991 - val_loss: 0.0074 - val_accuracy: 0.9984\n",
            "\n",
            "Epoch 00035: accuracy improved from 0.99907 to 0.99909, saving model to /content/drive/MyDrive/dissertation/TEXT DATA/TrainingData/Model_train/weights-improvement-35-0.999.hdf5\n",
            "Epoch 36/60\n",
            "17955/17955 [==============================] - 252s 14ms/step - loss: 0.0029 - accuracy: 0.9991 - val_loss: 0.0077 - val_accuracy: 0.9984\n",
            "\n",
            "Epoch 00036: accuracy improved from 0.99909 to 0.99912, saving model to /content/drive/MyDrive/dissertation/TEXT DATA/TrainingData/Model_train/weights-improvement-36-0.999.hdf5\n",
            "Epoch 37/60\n",
            "17955/17955 [==============================] - 251s 14ms/step - loss: 0.0028 - accuracy: 0.9991 - val_loss: 0.0076 - val_accuracy: 0.9983\n",
            "\n",
            "Epoch 00037: accuracy improved from 0.99912 to 0.99914, saving model to /content/drive/MyDrive/dissertation/TEXT DATA/TrainingData/Model_train/weights-improvement-37-0.999.hdf5\n",
            "Epoch 38/60\n",
            "17955/17955 [==============================] - 251s 14ms/step - loss: 0.0027 - accuracy: 0.9992 - val_loss: 0.0076 - val_accuracy: 0.9984\n",
            "\n",
            "Epoch 00038: accuracy improved from 0.99914 to 0.99916, saving model to /content/drive/MyDrive/dissertation/TEXT DATA/TrainingData/Model_train/weights-improvement-38-0.999.hdf5\n",
            "Epoch 39/60\n",
            "17955/17955 [==============================] - 251s 14ms/step - loss: 0.0026 - accuracy: 0.9992 - val_loss: 0.0075 - val_accuracy: 0.9983\n",
            "\n",
            "Epoch 00039: accuracy improved from 0.99916 to 0.99921, saving model to /content/drive/MyDrive/dissertation/TEXT DATA/TrainingData/Model_train/weights-improvement-39-0.999.hdf5\n",
            "Epoch 40/60\n",
            "17955/17955 [==============================] - 252s 14ms/step - loss: 0.0025 - accuracy: 0.9992 - val_loss: 0.0077 - val_accuracy: 0.9984\n",
            "\n",
            "Epoch 00040: accuracy improved from 0.99921 to 0.99922, saving model to /content/drive/MyDrive/dissertation/TEXT DATA/TrainingData/Model_train/weights-improvement-40-0.999.hdf5\n",
            "Epoch 41/60\n",
            "17955/17955 [==============================] - 252s 14ms/step - loss: 0.0025 - accuracy: 0.9992 - val_loss: 0.0081 - val_accuracy: 0.9983\n",
            "\n",
            "Epoch 00041: accuracy improved from 0.99922 to 0.99923, saving model to /content/drive/MyDrive/dissertation/TEXT DATA/TrainingData/Model_train/weights-improvement-41-0.999.hdf5\n",
            "Epoch 42/60\n",
            "17955/17955 [==============================] - 253s 14ms/step - loss: 0.0024 - accuracy: 0.9992 - val_loss: 0.0077 - val_accuracy: 0.9984\n",
            "\n",
            "Epoch 00042: accuracy improved from 0.99923 to 0.99925, saving model to /content/drive/MyDrive/dissertation/TEXT DATA/TrainingData/Model_train/weights-improvement-42-0.999.hdf5\n",
            "Epoch 43/60\n",
            "17955/17955 [==============================] - 255s 14ms/step - loss: 0.0024 - accuracy: 0.9992 - val_loss: 0.0079 - val_accuracy: 0.9983\n",
            "\n",
            "Epoch 00043: accuracy did not improve from 0.99925\n",
            "Epoch 44/60\n",
            "17955/17955 [==============================] - 257s 14ms/step - loss: 0.0024 - accuracy: 0.9992 - val_loss: 0.0078 - val_accuracy: 0.9984\n",
            "\n",
            "Epoch 00044: accuracy did not improve from 0.99925\n",
            "Epoch 45/60\n",
            "17955/17955 [==============================] - 257s 14ms/step - loss: 0.0022 - accuracy: 0.9993 - val_loss: 0.0079 - val_accuracy: 0.9984\n",
            "\n",
            "Epoch 00045: accuracy improved from 0.99925 to 0.99929, saving model to /content/drive/MyDrive/dissertation/TEXT DATA/TrainingData/Model_train/weights-improvement-45-0.999.hdf5\n",
            "Epoch 46/60\n",
            "17955/17955 [==============================] - 257s 14ms/step - loss: 0.0022 - accuracy: 0.9993 - val_loss: 0.0079 - val_accuracy: 0.9984\n",
            "\n",
            "Epoch 00046: accuracy improved from 0.99929 to 0.99932, saving model to /content/drive/MyDrive/dissertation/TEXT DATA/TrainingData/Model_train/weights-improvement-46-0.999.hdf5\n",
            "Epoch 47/60\n",
            "17955/17955 [==============================] - 254s 14ms/step - loss: 0.0021 - accuracy: 0.9993 - val_loss: 0.0081 - val_accuracy: 0.9983\n",
            "\n",
            "Epoch 00047: accuracy improved from 0.99932 to 0.99933, saving model to /content/drive/MyDrive/dissertation/TEXT DATA/TrainingData/Model_train/weights-improvement-47-0.999.hdf5\n",
            "Epoch 48/60\n",
            "17955/17955 [==============================] - 255s 14ms/step - loss: 0.0021 - accuracy: 0.9993 - val_loss: 0.0081 - val_accuracy: 0.9983\n",
            "\n",
            "Epoch 00048: accuracy did not improve from 0.99933\n",
            "Epoch 49/60\n",
            "17955/17955 [==============================] - 255s 14ms/step - loss: 0.0021 - accuracy: 0.9993 - val_loss: 0.0080 - val_accuracy: 0.9983\n",
            "\n",
            "Epoch 00049: accuracy did not improve from 0.99933\n",
            "Epoch 50/60\n",
            "17955/17955 [==============================] - 255s 14ms/step - loss: 0.0020 - accuracy: 0.9993 - val_loss: 0.0081 - val_accuracy: 0.9984\n",
            "\n",
            "Epoch 00050: accuracy improved from 0.99933 to 0.99935, saving model to /content/drive/MyDrive/dissertation/TEXT DATA/TrainingData/Model_train/weights-improvement-50-0.999.hdf5\n",
            "Epoch 51/60\n",
            "17955/17955 [==============================] - 255s 14ms/step - loss: 0.0019 - accuracy: 0.9994 - val_loss: 0.0081 - val_accuracy: 0.9983\n",
            "\n",
            "Epoch 00051: accuracy improved from 0.99935 to 0.99938, saving model to /content/drive/MyDrive/dissertation/TEXT DATA/TrainingData/Model_train/weights-improvement-51-0.999.hdf5\n",
            "Epoch 52/60\n",
            "17955/17955 [==============================] - 254s 14ms/step - loss: 0.0019 - accuracy: 0.9994 - val_loss: 0.0083 - val_accuracy: 0.9984\n",
            "\n",
            "Epoch 00052: accuracy did not improve from 0.99938\n",
            "Epoch 53/60\n",
            "17955/17955 [==============================] - 253s 14ms/step - loss: 0.0019 - accuracy: 0.9994 - val_loss: 0.0083 - val_accuracy: 0.9984\n",
            "\n",
            "Epoch 00053: accuracy improved from 0.99938 to 0.99940, saving model to /content/drive/MyDrive/dissertation/TEXT DATA/TrainingData/Model_train/weights-improvement-53-0.999.hdf5\n",
            "Epoch 54/60\n",
            "17955/17955 [==============================] - 254s 14ms/step - loss: 0.0019 - accuracy: 0.9994 - val_loss: 0.0082 - val_accuracy: 0.9984\n",
            "\n",
            "Epoch 00054: accuracy did not improve from 0.99940\n",
            "Epoch 55/60\n",
            "17955/17955 [==============================] - 254s 14ms/step - loss: 0.0017 - accuracy: 0.9994 - val_loss: 0.0083 - val_accuracy: 0.9984\n",
            "\n",
            "Epoch 00055: accuracy improved from 0.99940 to 0.99944, saving model to /content/drive/MyDrive/dissertation/TEXT DATA/TrainingData/Model_train/weights-improvement-55-0.999.hdf5\n",
            "Epoch 56/60\n",
            "17955/17955 [==============================] - 252s 14ms/step - loss: 0.0018 - accuracy: 0.9994 - val_loss: 0.0085 - val_accuracy: 0.9983\n",
            "\n",
            "Epoch 00056: accuracy did not improve from 0.99944\n",
            "Epoch 57/60\n",
            "17955/17955 [==============================] - 252s 14ms/step - loss: 0.0017 - accuracy: 0.9994 - val_loss: 0.0085 - val_accuracy: 0.9984\n",
            "\n",
            "Epoch 00057: accuracy improved from 0.99944 to 0.99945, saving model to /content/drive/MyDrive/dissertation/TEXT DATA/TrainingData/Model_train/weights-improvement-57-0.999.hdf5\n",
            "Epoch 58/60\n",
            "17955/17955 [==============================] - 253s 14ms/step - loss: 0.0016 - accuracy: 0.9995 - val_loss: 0.0088 - val_accuracy: 0.9984\n",
            "\n",
            "Epoch 00058: accuracy improved from 0.99945 to 0.99946, saving model to /content/drive/MyDrive/dissertation/TEXT DATA/TrainingData/Model_train/weights-improvement-58-0.999.hdf5\n",
            "Epoch 59/60\n",
            "17955/17955 [==============================] - 253s 14ms/step - loss: 0.0016 - accuracy: 0.9995 - val_loss: 0.0087 - val_accuracy: 0.9983\n",
            "\n",
            "Epoch 00059: accuracy improved from 0.99946 to 0.99948, saving model to /content/drive/MyDrive/dissertation/TEXT DATA/TrainingData/Model_train/weights-improvement-59-0.999.hdf5\n",
            "Epoch 60/60\n",
            "17955/17955 [==============================] - 252s 14ms/step - loss: 0.0017 - accuracy: 0.9995 - val_loss: 0.0089 - val_accuracy: 0.9983\n",
            "\n",
            "Epoch 00060: accuracy did not improve from 0.99948\n"
          ]
        }
      ]
    },
    {
      "cell_type": "code",
      "source": [
        "save_filepath=MODEL_PATH+\"bi-lstm_last_weight-60.hdf5\"\n",
        "model.save_weights(save_filepath)"
      ],
      "metadata": {
        "id": "VlZg9Yibemd0"
      },
      "execution_count": null,
      "outputs": []
    },
    {
      "cell_type": "code",
      "source": [
        "hist = pd.DataFrame(history.history)\n",
        "\n",
        "plt.style.use(\"ggplot\")\n",
        "plt.figure(figsize=(12,12))\n",
        "plt.plot(hist[\"accuracy\"], label='train')\n",
        "plt.plot(hist[\"val_accuracy\"], label='validate')\n",
        "plt.legend()\n",
        "plt.show()"
      ],
      "metadata": {
        "colab": {
          "base_uri": "https://localhost:8080/",
          "height": 700
        },
        "id": "HcDB_770KA8q",
        "outputId": "6894028e-8142-4065-b18b-667fe389975e"
      },
      "execution_count": null,
      "outputs": [
        {
          "output_type": "display_data",
          "data": {
            "text/plain": [
              "<Figure size 864x864 with 1 Axes>"
            ],
            "image/png": "[encoded data removed]"
          },
          "metadata": {}
        }
      ]
    },
    {
      "cell_type": "code",
      "source": [
        "hist = pd.DataFrame(history.history)\n",
        "\n",
        "plt.style.use(\"ggplot\")\n",
        "plt.figure(figsize=(12,12))\n",
        "plt.plot(hist[\"loss\"], label='loss')\n",
        "plt.plot(hist[\"val_loss\"], label='validate_loss')\n",
        "plt.legend()\n",
        "plt.show()"
      ],
      "metadata": {
        "colab": {
          "base_uri": "https://localhost:8080/",
          "height": 700
        },
        "id": "-VzAJLzDKA_i",
        "outputId": "90137722-889d-4817-b5f1-ab36862045c3"
      },
      "execution_count": null,
      "outputs": [
        {
          "output_type": "display_data",
          "data": {
            "text/plain": [
              "<Figure size 864x864 with 1 Axes>"
            ],
            "image/png": "[encoded data removed]"
          },
          "metadata": {}
        }
      ]
    },
    {
      "cell_type": "code",
      "execution_count": null,
      "metadata": {
        "id": "M88MkUn1EVE6",
        "colab": {
          "base_uri": "https://localhost:8080/"
        },
        "outputId": "d19907f5-7691-40a7-bb63-42cdb0c78ca0"
      },
      "outputs": [
        {
          "output_type": "stream",
          "name": "stdout",
          "text": [
            "5617/5617 [==============================] - 30s 5ms/step\n"
          ]
        }
      ],
      "source": [
        "pred_model = model.predict([X_word_te,np.array(X_char_te).reshape((len(X_char_te),max_len, max_len_char))], verbose=1)"
      ]
    },
    {
      "cell_type": "code",
      "source": [
        "y_pred = []\n",
        "y_true = []\n",
        "\n",
        "for i in range(0,len(pred_model)):\n",
        "    try:\n",
        "        out = np.argmax(pred_model[i], axis=-1)\n",
        "        true = np.argmax(y_te[i], axis=-1)\n",
        "        revert_pred=[ix_to_ner[i] for i in out]\n",
        "        revert_true=[ix_to_ner[i] for i in true]\n",
        "        y_pred.append(revert_pred)\n",
        "        y_true.append(revert_true)\n",
        "    except:\n",
        "        print (i)"
      ],
      "metadata": {
        "id": "X1Vsjfs4x6RV"
      },
      "execution_count": null,
      "outputs": []
    },
    {
      "cell_type": "code",
      "source": [
        "def ner_classification_report(y_true, y_pred):\n",
        " \n",
        "    lb = LabelBinarizer()\n",
        "    y_true_combined = lb.fit_transform(list(chain.from_iterable(y_true)))\n",
        "    y_pred_combined = lb.transform(list(chain.from_iterable(y_pred)))\n",
        "    tagset = set(lb.classes_) - {'O', 'pad'} #{'pad'} \n",
        "    tagset = sorted(tagset, key=lambda tag: tag.split('-', 1)[::-1])\n",
        "    #tagset = list(sorted(set(lb.classes_)))\n",
        "    #tagset = tagset[:-2]\n",
        "    print(tagset)\n",
        "    class_indices = {cls: idx for idx, cls in enumerate(lb.classes_)}\n",
        "    \n",
        "    return classification_report(\n",
        "        y_true_combined,\n",
        "        y_pred_combined,\n",
        "        labels = [class_indices[cls] for cls in tagset],\n",
        "        target_names = tagset,\n",
        "        digits=4\n",
        "    )"
      ],
      "metadata": {
        "id": "ApRiVaknx6UP"
      },
      "execution_count": null,
      "outputs": []
    },
    {
      "cell_type": "code",
      "source": [
        "print(ner_classification_report(y_true,y_pred))"
      ],
      "metadata": {
        "colab": {
          "base_uri": "https://localhost:8080/"
        },
        "id": "TPu5OaRgx6Wy",
        "outputId": "892e3187-19b9-422e-fb3e-e78f28e765f9"
      },
      "execution_count": null,
      "outputs": [
        {
          "output_type": "stream",
          "name": "stdout",
          "text": [
            "['B-ACP', 'I-ACP', 'B-ADMIN', 'I-ADMIN', 'B-BSN', 'I-BSN', 'B-DEP', 'I-DEP', 'B-FPLACE', 'I-FPLACE', 'B-GOV', 'I-GOV', 'B-HP', 'I-HP', 'B-MKT', 'I-MKT', 'B-MON', 'I-MON', 'B-NAT', 'I-NAT', 'B-OTHER', 'I-OTHER', 'B-RCT', 'I-RCT', 'B-RES', 'I-RES', 'B-ROAD', 'I-ROAD', 'B-RP', 'I-RP', 'B-RT', 'I-RT', 'B-STORE', 'I-STORE', 'B-TRAN', 'I-TRAN']\n"
          ]
        },
        {
          "output_type": "stream",
          "name": "stderr",
          "text": [
            "/usr/local/lib/python3.7/dist-packages/sklearn/metrics/_classification.py:1318: UndefinedMetricWarning: Precision and F-score are ill-defined and being set to 0.0 in labels with no predicted samples. Use `zero_division` parameter to control this behavior.\n",
            "  _warn_prf(average, modifier, msg_start, len(result))\n"
          ]
        },
        {
          "output_type": "stream",
          "name": "stdout",
          "text": [
            "              precision    recall  f1-score   support\n",
            "\n",
            "       B-ACP     0.8286    0.7838    0.8056        37\n",
            "       I-ACP     0.7500    0.8000    0.7742       105\n",
            "     B-ADMIN     0.8854    0.8997    0.8925       309\n",
            "     I-ADMIN     0.9254    0.9254    0.9254        67\n",
            "       B-BSN     0.6765    0.8846    0.7667        26\n",
            "       I-BSN     0.7889    0.8452    0.8161        84\n",
            "       B-DEP     0.8265    0.7864    0.8060       103\n",
            "       I-DEP     0.7350    0.8750    0.7989       168\n",
            "    B-FPLACE     0.7835    0.7677    0.7755        99\n",
            "    I-FPLACE     0.7931    0.8519    0.8214        27\n",
            "       B-GOV     0.9000    0.7200    0.8000        25\n",
            "       I-GOV     0.8434    0.7692    0.8046        91\n",
            "        B-HP     0.6538    0.7083    0.6800        24\n",
            "        I-HP     0.8272    0.7976    0.8121        84\n",
            "       B-MKT     0.8182    1.0000    0.9000        18\n",
            "       I-MKT     0.8000    0.8571    0.8276        14\n",
            "       B-MON     0.5000    0.5000    0.5000         2\n",
            "       I-MON     0.0000    0.0000    0.0000         1\n",
            "       B-NAT     1.0000    0.7273    0.8421        11\n",
            "       I-NAT     0.8000    0.6667    0.7273        12\n",
            "     B-OTHER     1.0000    1.0000    1.0000         3\n",
            "     I-OTHER     1.0000    1.0000    1.0000         6\n",
            "       B-RCT     0.7907    0.7727    0.7816        44\n",
            "       I-RCT     0.8611    0.7294    0.7898        85\n",
            "       B-RES     0.7667    0.7667    0.7667        30\n",
            "       I-RES     0.8659    0.7978    0.8304        89\n",
            "      B-ROAD     0.8882    0.8710    0.8795       155\n",
            "      I-ROAD     0.9203    0.9071    0.9137       140\n",
            "        B-RP     0.9412    0.9412    0.9412        51\n",
            "        I-RP     0.8922    0.8426    0.8667       108\n",
            "        B-RT     0.8413    0.8217    0.8314       129\n",
            "        I-RT     0.8382    0.8841    0.8605       492\n",
            "     B-STORE     0.9474    0.7500    0.8372        24\n",
            "     I-STORE     0.8953    0.8851    0.8902        87\n",
            "      B-TRAN     0.8684    0.8462    0.8571        39\n",
            "      I-TRAN     0.8636    0.7170    0.7835       106\n",
            "\n",
            "   micro avg     0.8413    0.8421    0.8417      2895\n",
            "   macro avg     0.8143    0.7972    0.8029      2895\n",
            "weighted avg     0.8439    0.8421    0.8414      2895\n",
            " samples avg     0.0017    0.0017    0.0017      2895\n",
            "\n"
          ]
        },
        {
          "output_type": "stream",
          "name": "stderr",
          "text": [
            "/usr/local/lib/python3.7/dist-packages/sklearn/metrics/_classification.py:1318: UndefinedMetricWarning: Precision and F-score are ill-defined and being set to 0.0 in samples with no predicted labels. Use `zero_division` parameter to control this behavior.\n",
            "  _warn_prf(average, modifier, msg_start, len(result))\n",
            "/usr/local/lib/python3.7/dist-packages/sklearn/metrics/_classification.py:1318: UndefinedMetricWarning: Recall and F-score are ill-defined and being set to 0.0 in samples with no true labels. Use `zero_division` parameter to control this behavior.\n",
            "  _warn_prf(average, modifier, msg_start, len(result))\n"
          ]
        }
      ]
    },
    {
      "cell_type": "code",
      "source": [
        "def  chunk_extract(tag_list,sentence_id):\n",
        "  \"\"\"\n",
        "  >>> chunk_extract(['O', 'B-PER', 'I-PER', 'B-ORG', 'O'], 1)\n",
        "  [(1, 1, 3, 'PER'), (1, 3, 4, 'ORG')]\n",
        "  \"\"\"\n",
        "  nes = []\n",
        "  for i, tag in enumerate(tag_list):\n",
        "    if tag[0] == 'B':\n",
        "        ner_type = tag[2:]\n",
        "        if i < len(tag_list)-1:  \n",
        "            current = i + 1\n",
        "            if tag_list[current] == 'O':\n",
        "                nes.append((sentence_id,i,i, ner_type)) \n",
        "            elif tag_list[current] == 'I-{}'.format(ner_type):    \n",
        "                while tag_list[current] == 'I-{}'.format(ner_type) and current < (len(tag_list)-1):\n",
        "                    current += 1\n",
        "                nes.append((sentence_id,i, current, ner_type))\n",
        "        else:\n",
        "            nes.append((sentence_id,i,i, ner_type))\n",
        "  return nes"
      ],
      "metadata": {
        "id": "8Q1cOc2px6Za"
      },
      "execution_count": null,
      "outputs": []
    },
    {
      "cell_type": "code",
      "source": [
        "sentence_id = [x for x in range(len(y_te))]"
      ],
      "metadata": {
        "id": "cb-cokk0x6cL"
      },
      "execution_count": null,
      "outputs": []
    },
    {
      "cell_type": "code",
      "source": [
        "chunk_test = set()\n",
        "for sent,idx in tqdm(zip(y_true,sentence_id)):\n",
        "    ch = chunk_extract(sent,idx)\n",
        "    chunk_test.update(ch)"
      ],
      "metadata": {
        "colab": {
          "base_uri": "https://localhost:8080/"
        },
        "id": "-AG_rRbqx6e_",
        "outputId": "f0310c90-df59-4b32-ebfb-d7024e3f0aab"
      },
      "execution_count": null,
      "outputs": [
        {
          "output_type": "stream",
          "name": "stderr",
          "text": [
            "5617it [00:00, 48508.48it/s]\n"
          ]
        }
      ]
    },
    {
      "cell_type": "code",
      "source": [
        "chunk_pred = set()\n",
        "for sent,idx in tqdm(zip(y_pred,sentence_id)):\n",
        "    ch = chunk_extract(sent,idx)\n",
        "    chunk_pred.update(ch)"
      ],
      "metadata": {
        "colab": {
          "base_uri": "https://localhost:8080/"
        },
        "id": "3JuhXqYFx6h2",
        "outputId": "cc8fb127-8492-41ad-c3f5-b4563eb902e0"
      },
      "execution_count": null,
      "outputs": [
        {
          "output_type": "stream",
          "name": "stderr",
          "text": [
            "5617it [00:00, 51197.29it/s]\n"
          ]
        }
      ]
    },
    {
      "cell_type": "code",
      "source": [
        "def evaluation_phrase(true,prediction):\n",
        "    total_correct = len(true.intersection(prediction))\n",
        "    total_predict = len(prediction)\n",
        "    total_true = len(true)\n",
        "    \n",
        "    precision = total_correct/total_predict\n",
        "    recall = total_correct/total_true\n",
        "    f1 = (2 * precision * recall)/(precision + recall)\n",
        "    \n",
        "    print('total_correct:',total_correct,':','total_predict:',total_predict,':','total_true:',total_true)\n",
        "    print('precision:', round(precision,3))\n",
        "    print('recall:', round(recall,3))\n",
        "    print('f1:', round(f1,3))\n",
        "    return [round(precision,3),round(recall,3),round(f1,3)]"
      ],
      "metadata": {
        "id": "-3mbpq8lzvTT"
      },
      "execution_count": null,
      "outputs": []
    },
    {
      "cell_type": "code",
      "source": [
        "evaluation_phrase(chunk_test,chunk_pred)"
      ],
      "metadata": {
        "colab": {
          "base_uri": "https://localhost:8080/"
        },
        "id": "3rvyEZqBz1hD",
        "outputId": "dddc0034-02f4-43cd-cee7-84ef524dd476"
      },
      "execution_count": null,
      "outputs": [
        {
          "output_type": "stream",
          "name": "stdout",
          "text": [
            "total_correct: 855 : total_predict: 1031 : total_true: 1083\n",
            "precision: 0.829\n",
            "recall: 0.789\n",
            "f1: 0.809\n"
          ]
        },
        {
          "output_type": "execute_result",
          "data": {
            "text/plain": [
              "[0.829, 0.789, 0.809]"
            ]
          },
          "metadata": {},
          "execution_count": 33
        }
      ]
    },
    {
      "cell_type": "code",
      "source": [
        "chunk_test = list(chunk_test)\n",
        "chunk_pred = list(chunk_pred)"
      ],
      "metadata": {
        "id": "vLs8rIIGz1kD"
      },
      "execution_count": null,
      "outputs": []
    },
    {
      "cell_type": "code",
      "source": [
        "def evaluation_phrase_type(chunk_test,chunk_pred):\n",
        "    total_pred, total_true, total_correct = 0, 0, 0\n",
        "    df = pd.DataFrame(columns=['PRECISION','RECALL','F1','SUPPORT'])\n",
        "    ent_types = ['ACP','ADMIN','BSN','DEP','FPLACE','GOV','HP','MKT','MON','NAT','OTHER','RCT','RES','ROAD','RP','RT','STORE','TRAN']\n",
        "    list_correct = []\n",
        "    for ent in ent_types:\n",
        "        true_set = []\n",
        "        pred_set = []\n",
        "        type_pred,type_true,type_correct = 0,0,0\n",
        "        for tag in chunk_test:\n",
        "            if tag[3] == ent:\n",
        "                true_set.append(tag)\n",
        "            if ent in tag:\n",
        "                type_true+=1\n",
        "                tag_true = set(true_set)\n",
        "        for tag2 in chunk_pred:\n",
        "            if tag2[3] == ent:\n",
        "                pred_set.append(tag2)\n",
        "            if ent in tag2:\n",
        "                type_pred+=1\n",
        "                tag_pred = set(pred_set)\n",
        "        type_correct=len(tag_true.intersection(tag_pred))\n",
        "        try:\n",
        "            precision = type_correct/type_pred\n",
        "        except:\n",
        "            precision = 0\n",
        "        recall = type_correct/type_true\n",
        "        try:\n",
        "            f1 = (2 * precision * recall) / (precision + recall)\n",
        "        except:\n",
        "            f1 = 0\n",
        "        list_correct.append([type_true,type_pred,type_correct,ent])\n",
        "        df.loc[ent] = [round(precision,3), round(recall,3), round(f1,3), str(type_true)]\n",
        "\n",
        "    #Calculate micro macro f1\n",
        "    total_true,total_pred,total_correct = 0,0,0\n",
        "    for p in list_correct:\n",
        "        total_true+=p[0]\n",
        "        total_pred+=p[1]\n",
        "        total_correct+=p[2]\n",
        "    precision_micro = total_correct / total_pred\n",
        "    recall_micro = total_correct / total_true\n",
        "    f1_micro = (2 * precision_micro * recall_micro) / (precision_micro + recall_micro)\n",
        "    df.loc['MACRO'] = [round(df.PRECISION.mean(),3), round(df.RECALL.mean(),3), round(df.F1.mean(),3), str(total_true)]\n",
        "    df.loc['MICRO'] = [round(precision_micro,3), round(recall_micro,3), round(f1_micro,3), str(total_true)]\n",
        "\n",
        "    print(df)"
      ],
      "metadata": {
        "id": "Z9C2Tj2rz1m7"
      },
      "execution_count": null,
      "outputs": []
    },
    {
      "cell_type": "code",
      "source": [
        "evaluation_phrase_type(chunk_test,chunk_pred)"
      ],
      "metadata": {
        "colab": {
          "base_uri": "https://localhost:8080/"
        },
        "id": "WSW0Ojswz1pv",
        "outputId": "9e7a1dbd-0d3b-42eb-8838-2a08b3733526"
      },
      "execution_count": null,
      "outputs": [
        {
          "output_type": "stream",
          "name": "stdout",
          "text": [
            "        PRECISION  RECALL     F1 SUPPORT\n",
            "ACP         0.774   0.667  0.716      36\n",
            "ADMIN       0.884   0.893  0.888     289\n",
            "BSN         0.714   0.800  0.755      25\n",
            "DEP         0.835   0.710  0.768     100\n",
            "FPLACE      0.777   0.777  0.777      94\n",
            "GOV         0.889   0.640  0.744      25\n",
            "HP          0.652   0.625  0.638      24\n",
            "MKT         0.773   0.944  0.850      18\n",
            "MON         1.000   0.500  0.667       2\n",
            "NAT         1.000   0.727  0.842      11\n",
            "OTHER       1.000   1.000  1.000       2\n",
            "RCT         0.833   0.682  0.750      44\n",
            "RES         0.808   0.700  0.750      30\n",
            "ROAD        0.871   0.834  0.852     145\n",
            "RP          0.872   0.854  0.863      48\n",
            "RT          0.750   0.721  0.735     129\n",
            "STORE       0.895   0.739  0.810      23\n",
            "TRAN        0.750   0.711  0.730      38\n",
            "MACRO       0.838   0.751  0.785    1083\n",
            "MICRO       0.829   0.789  0.809    1083\n"
          ]
        }
      ]
    },
    {
      "cell_type": "code",
      "source": [
        "!pip install 'h5py==2.10.0' --force-reinstall"
      ],
      "metadata": {
        "id": "NQjXDPYQ1HWc"
      },
      "execution_count": null,
      "outputs": []
    }
  ],
  "metadata": {
    "accelerator": "GPU",
    "colab": {
      "provenance": [],
      "include_colab_link": true
    },
    "kernelspec": {
      "display_name": "Python 3 (ipykernel)",
      "language": "python",
      "name": "python3"
    },
    "language_info": {
      "codemirror_mode": {
        "name": "ipython",
        "version": 3
      },
      "file_extension": ".py",
      "mimetype": "text/x-python",
      "name": "python",
      "nbconvert_exporter": "python",
      "pygments_lexer": "ipython3",
      "version": "3.7.11"
    }
  },
  "nbformat": 4,
  "nbformat_minor": 0
}