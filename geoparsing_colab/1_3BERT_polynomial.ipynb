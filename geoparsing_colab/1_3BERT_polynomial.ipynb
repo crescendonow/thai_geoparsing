{
  "cells": [
    {
      "cell_type": "markdown",
      "metadata": {
        "id": "view-in-github",
        "colab_type": "text"
      },
      "source": [
        "<a href=\"https://colab.research.google.com/github/crescendonow/thai_geoparsing/blob/main/geoparsing_colab/1_3BERT_polynomial.ipynb\" target=\"_parent\"><img src=\"https://colab.research.google.com/assets/colab-badge.svg\" alt=\"Open In Colab\"/></a>"
      ]
    },
    {
      "cell_type": "code",
      "execution_count": null,
      "id": "e9e4aa09",
      "metadata": {
        "id": "e9e4aa09"
      },
      "outputs": [],
      "source": [
        "#Utilities lib for use\n",
        "import requests\n",
        "import numpy as np\n",
        "import pickle\n",
        "import tqdm\n",
        "import requests\n",
        "import torch\n",
        "import pandas as pd\n",
        "from datasets import load_dataset, load_metric\n",
        "from transformers import AutoTokenizer, AutoModelForTokenClassification,\\\n",
        "TrainingArguments, Trainer, DataCollatorForTokenClassification"
      ]
    },
    {
      "cell_type": "code",
      "execution_count": null,
      "id": "ba79bf02",
      "metadata": {
        "id": "ba79bf02"
      },
      "outputs": [],
      "source": [
        "#load train, validate and test token by attacut and BERT format\n",
        "with open(r'C:\\Users\\sveng\\geoparsing_proj\\TEXT DATA\\TrainingData\\1.Tokennization\\train_bert.data', 'rb') as token1:\n",
        "    train_data = pickle.load(token1)\n",
        "with open(r'C:\\Users\\sveng\\geoparsing_proj\\TEXT DATA\\TrainingData\\1.Tokennization\\eval_bert.data', 'rb') as token2:\n",
        "    eval_data = pickle.load(token2)\n",
        "with open(r'C:\\Users\\sveng\\geoparsing_proj\\TEXT DATA\\TrainingData\\1.Tokennization\\datasets_test.data', 'rb') as token3:\n",
        "    test_data = pickle.load(token3)    "
      ]
    },
    {
      "cell_type": "code",
      "execution_count": null,
      "id": "355de299",
      "metadata": {
        "id": "355de299"
      },
      "outputs": [],
      "source": [
        "#load dictionary index and processing data label_list\n",
        "with open(r'C:\\Users\\sveng\\geoparsing_proj\\TEXT DATA\\TrainingData\\5.dict\\ner_ix.dict', 'rb') as dict_ner:\n",
        "    ner_ix = pickle.load(dict_ner)\n",
        "with open(r'C:\\Users\\sveng\\geoparsing_proj\\TEXT DATA\\TrainingData\\6.Processing_variables\\ner_list.data', 'rb') as list_ner:\n",
        "    label_list = pickle.load(list_ner)"
      ]
    },
    {
      "cell_type": "code",
      "execution_count": null,
      "id": "98fdbe0b",
      "metadata": {
        "id": "98fdbe0b"
      },
      "outputs": [],
      "source": [
        "#prepared index to BOI tags, convert index to ner\n",
        "ix_to_ner = dict((v,k) for k,v in ner_ix.items()) "
      ]
    },
    {
      "cell_type": "code",
      "execution_count": null,
      "id": "10b1586e",
      "metadata": {
        "id": "10b1586e"
      },
      "outputs": [],
      "source": [
        "#list of model for use\n",
        "task = \"ner\"\n",
        "public_models = ['xlm-roberta-base', 'bert-base-multilingual-cased'] \n",
        "user_name = 'airesearch'\n",
        "model_name = \"wangchanberta-base-att-spm-uncased\" \n",
        "batch_size = 16"
      ]
    },
    {
      "cell_type": "code",
      "execution_count": null,
      "id": "183cf226",
      "metadata": {
        "id": "183cf226",
        "outputId": "355b9a13-09cd-42f7-e140-411e67aefd81"
      },
      "outputs": [
        {
          "name": "stderr",
          "output_type": "stream",
          "text": [
            "loading configuration file https://huggingface.co/airesearch/wangchanberta-base-att-spm-uncased/resolve/main/config.json from cache at C:\\Users\\sveng/.cache\\huggingface\\transformers\\616a9e2dfc52e9d019b75d219ed800a27158ed299bd4fad91363110fe93dfce1.27c4f6581fbedf3d12e9fae96d4fbb8bc3064cd88ae545414e7cffc7c5bbc52f\n",
            "Model config CamembertConfig {\n",
            "  \"_name_or_path\": \"airesearch/wangchanberta-base-att-spm-uncased\",\n",
            "  \"architectures\": [\n",
            "    \"RobertaForMaskedLM\"\n",
            "  ],\n",
            "  \"attention_probs_dropout_prob\": 0.1,\n",
            "  \"bos_token_id\": 0,\n",
            "  \"classifier_dropout\": null,\n",
            "  \"eos_token_id\": 2,\n",
            "  \"gradient_checkpointing\": false,\n",
            "  \"hidden_act\": \"gelu\",\n",
            "  \"hidden_dropout_prob\": 0.1,\n",
            "  \"hidden_size\": 768,\n",
            "  \"initializer_range\": 0.02,\n",
            "  \"intermediate_size\": 3072,\n",
            "  \"layer_norm_eps\": 1e-12,\n",
            "  \"max_position_embeddings\": 512,\n",
            "  \"model_type\": \"camembert\",\n",
            "  \"num_attention_head\": 12,\n",
            "  \"num_attention_heads\": 12,\n",
            "  \"num_hidden_layers\": 12,\n",
            "  \"pad_token_id\": 1,\n",
            "  \"position_embedding_type\": \"absolute\",\n",
            "  \"transformers_version\": \"4.19.3\",\n",
            "  \"type_vocab_size\": 1,\n",
            "  \"use_cache\": true,\n",
            "  \"vocab_size\": 25005\n",
            "}\n",
            "\n",
            "loading file https://huggingface.co/airesearch/wangchanberta-base-att-spm-uncased/resolve/main/sentencepiece.bpe.model from cache at C:\\Users\\sveng/.cache\\huggingface\\transformers\\723940ae01a5606e15164abf96f0ab7c04305fcd51888f3ef83d89950f5d6bfa.0083544422c6efb7b34819bf9daacd1963043dc7f6ac978929e1c28857ac8252\n",
            "loading file https://huggingface.co/airesearch/wangchanberta-base-att-spm-uncased/resolve/main/tokenizer.json from cache at None\n",
            "loading file https://huggingface.co/airesearch/wangchanberta-base-att-spm-uncased/resolve/main/added_tokens.json from cache at None\n",
            "loading file https://huggingface.co/airesearch/wangchanberta-base-att-spm-uncased/resolve/main/special_tokens_map.json from cache at None\n",
            "loading file https://huggingface.co/airesearch/wangchanberta-base-att-spm-uncased/resolve/main/tokenizer_config.json from cache at C:\\Users\\sveng/.cache\\huggingface\\transformers\\be4bffb4d63c772bad4c531d0cdefc41fe7d056d1954177e9bc7e8975c73a163.13700dc3e64ff4e23d6d8686cf822960ccbe7834db8199e4452261ff8a2df1f4\n",
            "loading configuration file https://huggingface.co/airesearch/wangchanberta-base-att-spm-uncased/resolve/main/config.json from cache at C:\\Users\\sveng/.cache\\huggingface\\transformers\\616a9e2dfc52e9d019b75d219ed800a27158ed299bd4fad91363110fe93dfce1.27c4f6581fbedf3d12e9fae96d4fbb8bc3064cd88ae545414e7cffc7c5bbc52f\n",
            "Model config CamembertConfig {\n",
            "  \"_name_or_path\": \"airesearch/wangchanberta-base-att-spm-uncased\",\n",
            "  \"architectures\": [\n",
            "    \"RobertaForMaskedLM\"\n",
            "  ],\n",
            "  \"attention_probs_dropout_prob\": 0.1,\n",
            "  \"bos_token_id\": 0,\n",
            "  \"classifier_dropout\": null,\n",
            "  \"eos_token_id\": 2,\n",
            "  \"gradient_checkpointing\": false,\n",
            "  \"hidden_act\": \"gelu\",\n",
            "  \"hidden_dropout_prob\": 0.1,\n",
            "  \"hidden_size\": 768,\n",
            "  \"initializer_range\": 0.02,\n",
            "  \"intermediate_size\": 3072,\n",
            "  \"layer_norm_eps\": 1e-12,\n",
            "  \"max_position_embeddings\": 512,\n",
            "  \"model_type\": \"camembert\",\n",
            "  \"num_attention_head\": 12,\n",
            "  \"num_attention_heads\": 12,\n",
            "  \"num_hidden_layers\": 12,\n",
            "  \"pad_token_id\": 1,\n",
            "  \"position_embedding_type\": \"absolute\",\n",
            "  \"transformers_version\": \"4.19.3\",\n",
            "  \"type_vocab_size\": 1,\n",
            "  \"use_cache\": true,\n",
            "  \"vocab_size\": 25005\n",
            "}\n",
            "\n",
            "loading configuration file https://huggingface.co/airesearch/wangchanberta-base-att-spm-uncased/resolve/main/config.json from cache at C:\\Users\\sveng/.cache\\huggingface\\transformers\\616a9e2dfc52e9d019b75d219ed800a27158ed299bd4fad91363110fe93dfce1.27c4f6581fbedf3d12e9fae96d4fbb8bc3064cd88ae545414e7cffc7c5bbc52f\n",
            "Model config CamembertConfig {\n",
            "  \"_name_or_path\": \"airesearch/wangchanberta-base-att-spm-uncased\",\n",
            "  \"architectures\": [\n",
            "    \"RobertaForMaskedLM\"\n",
            "  ],\n",
            "  \"attention_probs_dropout_prob\": 0.1,\n",
            "  \"bos_token_id\": 0,\n",
            "  \"classifier_dropout\": null,\n",
            "  \"eos_token_id\": 2,\n",
            "  \"gradient_checkpointing\": false,\n",
            "  \"hidden_act\": \"gelu\",\n",
            "  \"hidden_dropout_prob\": 0.1,\n",
            "  \"hidden_size\": 768,\n",
            "  \"initializer_range\": 0.02,\n",
            "  \"intermediate_size\": 3072,\n",
            "  \"layer_norm_eps\": 1e-12,\n",
            "  \"max_position_embeddings\": 512,\n",
            "  \"model_type\": \"camembert\",\n",
            "  \"num_attention_head\": 12,\n",
            "  \"num_attention_heads\": 12,\n",
            "  \"num_hidden_layers\": 12,\n",
            "  \"pad_token_id\": 1,\n",
            "  \"position_embedding_type\": \"absolute\",\n",
            "  \"transformers_version\": \"4.19.3\",\n",
            "  \"type_vocab_size\": 1,\n",
            "  \"use_cache\": true,\n",
            "  \"vocab_size\": 25005\n",
            "}\n",
            "\n"
          ]
        }
      ],
      "source": [
        "#define tokenizer\n",
        "tokenizer = AutoTokenizer.from_pretrained(f'{user_name}/{model_name}' if model_name not in public_models else f'{model_name}',\n",
        "                revision='main',\n",
        "                model_max_length=416,)"
      ]
    },
    {
      "cell_type": "code",
      "execution_count": null,
      "id": "11a40100",
      "metadata": {
        "id": "11a40100"
      },
      "outputs": [],
      "source": [
        "#list of model for use\n",
        "task = \"ner\"\n",
        "public_models = ['xlm-roberta-base', 'bert-base-multilingual-cased'] \n",
        "user_name = 'airesearch'\n",
        "model_name = \"wangchanberta-base-att-spm-uncased\" \n",
        "batch_size = 16"
      ]
    },
    {
      "cell_type": "code",
      "execution_count": null,
      "id": "cdb96708",
      "metadata": {
        "id": "cdb96708",
        "outputId": "fc934d63-a77c-4e6c-f8c1-36b2ff75493d"
      },
      "outputs": [
        {
          "name": "stdout",
          "output_type": "stream",
          "text": [
            "10 5\n"
          ]
        }
      ],
      "source": [
        "#create example for use tokenize and input ids\n",
        "example = train_data[1617]\n",
        "tokenized_input = tokenizer(example['tokens'], is_split_into_words=True)\n",
        "tokenized_input\n",
        "print(len(tokenized_input['input_ids']), len(example['ner_tags']))#create example for use tokenize and input ids"
      ]
    },
    {
      "cell_type": "code",
      "execution_count": null,
      "id": "744e35d5",
      "metadata": {
        "id": "744e35d5",
        "outputId": "88e9fb9c-02b1-412a-edf8-e590099c1f5f"
      },
      "outputs": [
        {
          "name": "stdout",
          "output_type": "stream",
          "text": [
            "10 10\n"
          ]
        },
        {
          "data": {
            "text/plain": [
              "{'input_ids': [5, 10, 2274, 874, 775, 10, 17, 6100, 627, 6], 'attention_mask': [1, 1, 1, 1, 1, 1, 1, 1, 1, 1]}"
            ]
          },
          "execution_count": 118,
          "metadata": {},
          "output_type": "execute_result"
        }
      ],
      "source": [
        "#from upper cell rcognize length of word_ids and tags not equal so we need to algn new label \n",
        "aligned_labels = [-100 if i is None else example[f'{task}_tags'][i] for i in tokenized_input.word_ids()]\n",
        "print(len(tokenized_input['input_ids']), len(aligned_labels))\n",
        "aligned_labels\n",
        "tokenized_input"
      ]
    },
    {
      "cell_type": "code",
      "execution_count": null,
      "id": "d5d1759c",
      "metadata": {
        "id": "d5d1759c"
      },
      "outputs": [],
      "source": [
        "#create function for tokenize and reformat\n",
        "def tokenize_and_align_labels(data):\n",
        "    tokenized_datasets = []\n",
        "    for rec in data:\n",
        "        tokenized_input = tokenizer(rec['tokens'], is_split_into_words=True)\n",
        "        aligned_labels = [-100 if i is None else rec[f'{task}_tags'][i] for i in tokenized_input.word_ids()]\n",
        "        rec['input_ids'] = tokenized_input['input_ids']\n",
        "        rec['attention_mask'] = tokenized_input['attention_mask']\n",
        "        rec['labels'] = aligned_labels\n",
        "        tokenized_datasets.append(rec)\n",
        "    return tokenized_datasets"
      ]
    },
    {
      "cell_type": "code",
      "execution_count": null,
      "id": "8b6a41f3",
      "metadata": {
        "id": "8b6a41f3"
      },
      "outputs": [],
      "source": [
        "train_bert = tokenize_and_align_labels(train_data)\n",
        "eval_bert = tokenize_and_align_labels(eval_data)\n",
        "test_bert = tokenize_and_align_labels(test_data)"
      ]
    },
    {
      "cell_type": "code",
      "execution_count": null,
      "id": "37c17f15",
      "metadata": {
        "id": "37c17f15",
        "outputId": "4323793c-d0a2-4948-f5d2-d9fe42c54716"
      },
      "outputs": [
        {
          "name": "stderr",
          "output_type": "stream",
          "text": [
            "loading configuration file https://huggingface.co/airesearch/wangchanberta-base-att-spm-uncased/resolve/main/config.json from cache at C:\\Users\\sveng/.cache\\huggingface\\transformers\\616a9e2dfc52e9d019b75d219ed800a27158ed299bd4fad91363110fe93dfce1.27c4f6581fbedf3d12e9fae96d4fbb8bc3064cd88ae545414e7cffc7c5bbc52f\n",
            "Model config CamembertConfig {\n",
            "  \"_name_or_path\": \"airesearch/wangchanberta-base-att-spm-uncased\",\n",
            "  \"architectures\": [\n",
            "    \"RobertaForMaskedLM\"\n",
            "  ],\n",
            "  \"attention_probs_dropout_prob\": 0.1,\n",
            "  \"bos_token_id\": 0,\n",
            "  \"classifier_dropout\": null,\n",
            "  \"eos_token_id\": 2,\n",
            "  \"gradient_checkpointing\": false,\n",
            "  \"hidden_act\": \"gelu\",\n",
            "  \"hidden_dropout_prob\": 0.1,\n",
            "  \"hidden_size\": 768,\n",
            "  \"id2label\": {\n",
            "    \"0\": \"LABEL_0\",\n",
            "    \"1\": \"LABEL_1\",\n",
            "    \"2\": \"LABEL_2\",\n",
            "    \"3\": \"LABEL_3\",\n",
            "    \"4\": \"LABEL_4\",\n",
            "    \"5\": \"LABEL_5\",\n",
            "    \"6\": \"LABEL_6\",\n",
            "    \"7\": \"LABEL_7\",\n",
            "    \"8\": \"LABEL_8\",\n",
            "    \"9\": \"LABEL_9\",\n",
            "    \"10\": \"LABEL_10\",\n",
            "    \"11\": \"LABEL_11\",\n",
            "    \"12\": \"LABEL_12\",\n",
            "    \"13\": \"LABEL_13\",\n",
            "    \"14\": \"LABEL_14\",\n",
            "    \"15\": \"LABEL_15\",\n",
            "    \"16\": \"LABEL_16\",\n",
            "    \"17\": \"LABEL_17\",\n",
            "    \"18\": \"LABEL_18\",\n",
            "    \"19\": \"LABEL_19\",\n",
            "    \"20\": \"LABEL_20\",\n",
            "    \"21\": \"LABEL_21\",\n",
            "    \"22\": \"LABEL_22\",\n",
            "    \"23\": \"LABEL_23\",\n",
            "    \"24\": \"LABEL_24\",\n",
            "    \"25\": \"LABEL_25\",\n",
            "    \"26\": \"LABEL_26\",\n",
            "    \"27\": \"LABEL_27\",\n",
            "    \"28\": \"LABEL_28\",\n",
            "    \"29\": \"LABEL_29\",\n",
            "    \"30\": \"LABEL_30\",\n",
            "    \"31\": \"LABEL_31\",\n",
            "    \"32\": \"LABEL_32\",\n",
            "    \"33\": \"LABEL_33\",\n",
            "    \"34\": \"LABEL_34\",\n",
            "    \"35\": \"LABEL_35\",\n",
            "    \"36\": \"LABEL_36\",\n",
            "    \"37\": \"LABEL_37\"\n",
            "  },\n",
            "  \"initializer_range\": 0.02,\n",
            "  \"intermediate_size\": 3072,\n",
            "  \"label2id\": {\n",
            "    \"LABEL_0\": 0,\n",
            "    \"LABEL_1\": 1,\n",
            "    \"LABEL_10\": 10,\n",
            "    \"LABEL_11\": 11,\n",
            "    \"LABEL_12\": 12,\n",
            "    \"LABEL_13\": 13,\n",
            "    \"LABEL_14\": 14,\n",
            "    \"LABEL_15\": 15,\n",
            "    \"LABEL_16\": 16,\n",
            "    \"LABEL_17\": 17,\n",
            "    \"LABEL_18\": 18,\n",
            "    \"LABEL_19\": 19,\n",
            "    \"LABEL_2\": 2,\n",
            "    \"LABEL_20\": 20,\n",
            "    \"LABEL_21\": 21,\n",
            "    \"LABEL_22\": 22,\n",
            "    \"LABEL_23\": 23,\n",
            "    \"LABEL_24\": 24,\n",
            "    \"LABEL_25\": 25,\n",
            "    \"LABEL_26\": 26,\n",
            "    \"LABEL_27\": 27,\n",
            "    \"LABEL_28\": 28,\n",
            "    \"LABEL_29\": 29,\n",
            "    \"LABEL_3\": 3,\n",
            "    \"LABEL_30\": 30,\n",
            "    \"LABEL_31\": 31,\n",
            "    \"LABEL_32\": 32,\n",
            "    \"LABEL_33\": 33,\n",
            "    \"LABEL_34\": 34,\n",
            "    \"LABEL_35\": 35,\n",
            "    \"LABEL_36\": 36,\n",
            "    \"LABEL_37\": 37,\n",
            "    \"LABEL_4\": 4,\n",
            "    \"LABEL_5\": 5,\n",
            "    \"LABEL_6\": 6,\n",
            "    \"LABEL_7\": 7,\n",
            "    \"LABEL_8\": 8,\n",
            "    \"LABEL_9\": 9\n",
            "  },\n",
            "  \"layer_norm_eps\": 1e-12,\n",
            "  \"max_position_embeddings\": 512,\n",
            "  \"model_type\": \"camembert\",\n",
            "  \"num_attention_head\": 12,\n",
            "  \"num_attention_heads\": 12,\n",
            "  \"num_hidden_layers\": 12,\n",
            "  \"pad_token_id\": 1,\n",
            "  \"position_embedding_type\": \"absolute\",\n",
            "  \"transformers_version\": \"4.19.3\",\n",
            "  \"type_vocab_size\": 1,\n",
            "  \"use_cache\": true,\n",
            "  \"vocab_size\": 25005\n",
            "}\n",
            "\n",
            "loading weights file https://huggingface.co/airesearch/wangchanberta-base-att-spm-uncased/resolve/main/pytorch_model.bin from cache at C:\\Users\\sveng/.cache\\huggingface\\transformers\\1eda265bdd85935f17c4e85e9c28e56154e1f50fc8488af73c1b055ceddf292b.a049314b098e88fb885e807c4ac10975e0472235845475ad6b2cf0792902ca69\n",
            "Some weights of the model checkpoint at airesearch/wangchanberta-base-att-spm-uncased were not used when initializing CamembertForTokenClassification: ['lm_head.decoder.weight', 'lm_head.decoder.bias', 'lm_head.dense.weight', 'lm_head.bias', 'lm_head.layer_norm.bias', 'lm_head.dense.bias', 'lm_head.layer_norm.weight']\n",
            "- This IS expected if you are initializing CamembertForTokenClassification from the checkpoint of a model trained on another task or with another architecture (e.g. initializing a BertForSequenceClassification model from a BertForPreTraining model).\n",
            "- This IS NOT expected if you are initializing CamembertForTokenClassification from the checkpoint of a model that you expect to be exactly identical (initializing a BertForSequenceClassification model from a BertForSequenceClassification model).\n",
            "Some weights of CamembertForTokenClassification were not initialized from the model checkpoint at airesearch/wangchanberta-base-att-spm-uncased and are newly initialized: ['classifier.bias', 'classifier.weight']\n",
            "You should probably TRAIN this model on a down-stream task to be able to use it for predictions and inference.\n"
          ]
        },
        {
          "data": {
            "text/plain": [
              "<All keys matched successfully>"
            ]
          },
          "execution_count": 121,
          "metadata": {},
          "output_type": "execute_result"
        }
      ],
      "source": [
        "#prepare fine tuning model\n",
        "model = AutoModelForTokenClassification.from_pretrained(f'{user_name}/{model_name}', num_labels=len(label_list))\n",
        "\n",
        "#load model from state 20 epoch\n",
        "path_chkpoint = r'C:\\Users\\sveng\\geoparsing_proj\\model_bert\\Model1-v120\\checkpoint-22000\\pytorch_model.bin'\n",
        "model.load_state_dict(torch.load(path_chkpoint))"
      ]
    },
    {
      "cell_type": "code",
      "execution_count": null,
      "id": "27e33f83",
      "metadata": {
        "id": "27e33f83",
        "outputId": "f093d3c9-e5a5-47d6-be2c-7dcc72573f91"
      },
      "outputs": [
        {
          "name": "stderr",
          "output_type": "stream",
          "text": [
            "PyTorch: setting up devices\n",
            "The default value for the training argument `--report_to` will change in v5 (from all installed integrations to none). In v5, you will need to use `--report_to all` to get the same behavior as now. You should start updating your code and make this info disappear :-).\n"
          ]
        }
      ],
      "source": [
        "#training arguments (parameters)\n",
        "args = TrainingArguments(\n",
        "    f\"test-{task}\",\n",
        "    evaluation_strategy=\"epoch\",\n",
        "\n",
        "    per_device_train_batch_size=batch_size,\n",
        "    per_device_eval_batch_size=batch_size,\n",
        "\n",
        "    gradient_accumulation_steps=2,\n",
        "    learning_rate=2e-5,\n",
        "    weight_decay=0.01,\n",
        "    num_train_epochs=10,\n",
        "\n",
        "    seed=9,\n",
        "    warmup_ratio=0.05,\n",
        "    lr_scheduler_type=\"polynomial\",\n",
        "\n",
        ")"
      ]
    },
    {
      "cell_type": "code",
      "execution_count": null,
      "id": "59f35a65",
      "metadata": {
        "id": "59f35a65"
      },
      "outputs": [],
      "source": [
        "#function for convert dataset to batch tensors\n",
        "data_collator = DataCollatorForTokenClassification(tokenizer)"
      ]
    },
    {
      "cell_type": "code",
      "execution_count": null,
      "id": "bb328ab1",
      "metadata": {
        "id": "bb328ab1"
      },
      "outputs": [],
      "source": [
        "#computation metrics , we use seqeval for sequence tagging task\n",
        "metric = load_metric(\"seqeval\")"
      ]
    },
    {
      "cell_type": "code",
      "execution_count": null,
      "id": "15156c80",
      "metadata": {
        "id": "15156c80",
        "outputId": "e07af971-aed6-415a-b4f0-fd804da4b3d7"
      },
      "outputs": [
        {
          "name": "stderr",
          "output_type": "stream",
          "text": [
            "c:\\Users\\sveng\\anaconda3\\envs\\geo_bert\\lib\\site-packages\\seqeval\\metrics\\v1.py:57: UndefinedMetricWarning: Precision and F-score are ill-defined and being set to 0.0 due to no predicted samples. Use `zero_division` parameter to control this behavior.\n",
            "  _warn_prf(average, modifier, msg_start, len(result))\n",
            "c:\\Users\\sveng\\anaconda3\\envs\\geo_bert\\lib\\site-packages\\seqeval\\metrics\\v1.py:57: UndefinedMetricWarning: Recall and F-score are ill-defined and being set to 0.0 due to no true samples. Use `zero_division` parameter to control this behavior.\n",
            "  _warn_prf(average, modifier, msg_start, len(result))\n",
            "c:\\Users\\sveng\\anaconda3\\envs\\geo_bert\\lib\\site-packages\\numpy\\lib\\function_base.py:495: RuntimeWarning: Mean of empty slice.\n",
            "  avg = a.mean(axis)\n",
            "c:\\Users\\sveng\\anaconda3\\envs\\geo_bert\\lib\\site-packages\\numpy\\core\\_methods.py:189: RuntimeWarning: invalid value encountered in double_scalars\n",
            "  ret = ret.dtype.type(ret / rcount)\n"
          ]
        },
        {
          "data": {
            "text/plain": [
              "{'overall_precision': 0.0,\n",
              " 'overall_recall': 0.0,\n",
              " 'overall_f1': 0.0,\n",
              " 'overall_accuracy': 1.0}"
            ]
          },
          "execution_count": 125,
          "metadata": {},
          "output_type": "execute_result"
        }
      ],
      "source": [
        "#for seqeval not allowed format '-' so replace it by '_', pong tai i here tam goo sia wela eak, sud!!\n",
        "labels = [label_list[i].replace('_', '-') for i in example[f'{task}_tags']]\n",
        "metric.compute(predictions=[labels], references=[labels])"
      ]
    },
    {
      "cell_type": "code",
      "execution_count": null,
      "id": "d4f4444d",
      "metadata": {
        "id": "d4f4444d"
      },
      "outputs": [],
      "source": [
        "#create function for computation metric\n",
        "def compute_metrics(p):\n",
        "    predictions, labels = p\n",
        "    predictions = np.argmax(predictions, axis=2)\n",
        "    true_predictions = [\n",
        "        [label_list[p].replace(\"_\", \"-\") for (p, l) in zip(prediction, label) if l != -100]\n",
        "        for prediction, label in zip(predictions, labels)\n",
        "    ]\n",
        "    true_labels = [\n",
        "        [label_list[l].replace(\"_\", \"-\") for (p, l) in zip(prediction, label) if l != -100]\n",
        "        for prediction, label in zip(predictions, labels)\n",
        "    ]\n",
        "    results = metric.compute(predictions=true_predictions, references=true_labels)\n",
        "    return {\n",
        "        \"precision\": results[\"overall_precision\"],\n",
        "        \"recall\": results[\"overall_recall\"],\n",
        "        \"f1\": results[\"overall_f1\"],\n",
        "        \"accuracy\": results[\"overall_accuracy\"],\n",
        "    }"
      ]
    },
    {
      "cell_type": "code",
      "execution_count": null,
      "id": "f2c69603",
      "metadata": {
        "id": "f2c69603"
      },
      "outputs": [],
      "source": [
        "#fine tuning part by function Trainer\n",
        "trainer = Trainer(\n",
        "    model,\n",
        "    args,\n",
        "    train_dataset=train_bert,\n",
        "    eval_dataset=eval_bert,\n",
        "    data_collator=data_collator,\n",
        "    tokenizer=tokenizer,\n",
        "    compute_metrics=compute_metrics\n",
        ")"
      ]
    },
    {
      "cell_type": "code",
      "execution_count": null,
      "id": "1d87cb1a",
      "metadata": {
        "scrolled": true,
        "id": "1d87cb1a",
        "outputId": "e33c4dca-f9d6-4f8a-cc72-58940ae65aed",
        "colab": {
          "referenced_widgets": [
            "b6d6e8d64c934adbabd6d15e1febf29c",
            "8e0bb57d31d14e03bcd72df42af2366d",
            "99c7099a4b3a41528823a748c5026f8a",
            "4049273eda29400d857ad197f6cf8d1f",
            "c30956ccc26144908aa2e32612893789",
            "0dd1091b48974c4b9ecc781657f8e051",
            "ba837424301e4ad7ac0a2b7053e66911",
            "5f8b7b3e735e407d93a906a173484478",
            "717204e8a6b544a7a7c5a568a450297b",
            "79ab1819f2554176aba73a0b4688c50e",
            "5840ea25004e4cbfbb152bfac9c41697"
          ]
        }
      },
      "outputs": [
        {
          "name": "stderr",
          "output_type": "stream",
          "text": [
            "c:\\Users\\sveng\\anaconda3\\envs\\geo_bert\\lib\\site-packages\\transformers\\optimization.py:306: FutureWarning: This implementation of AdamW is deprecated and will be removed in a future version. Use the PyTorch implementation torch.optim.AdamW instead, or set `no_deprecation_warning=True` to disable this warning\n",
            "  warnings.warn(\n",
            "***** Running training *****\n",
            "  Num examples = 17955\n",
            "  Num Epochs = 10\n",
            "  Instantaneous batch size per device = 16\n",
            "  Total train batch size (w. parallel, distributed & accumulation) = 32\n",
            "  Gradient Accumulation steps = 2\n",
            "  Total optimization steps = 5610\n"
          ]
        },
        {
          "data": {
            "application/vnd.jupyter.widget-view+json": {
              "model_id": "b6d6e8d64c934adbabd6d15e1febf29c",
              "version_major": 2,
              "version_minor": 0
            },
            "text/plain": [
              "  0%|          | 0/5610 [00:00<?, ?it/s]"
            ]
          },
          "metadata": {},
          "output_type": "display_data"
        },
        {
          "name": "stderr",
          "output_type": "stream",
          "text": [
            "The following columns in the training set don't have a corresponding argument in `CamembertForTokenClassification.forward` and have been ignored: id, tokens, ner_tags, pos_tags. If id, tokens, ner_tags, pos_tags are not expected by `CamembertForTokenClassification.forward`,  you can safely ignore this message.\n",
            "Saving model checkpoint to test-ner\\checkpoint-500\n",
            "Configuration saved in test-ner\\checkpoint-500\\config.json\n"
          ]
        },
        {
          "name": "stdout",
          "output_type": "stream",
          "text": [
            "{'loss': 0.0062, 'learning_rate': 1.918219178082192e-05, 'epoch': 0.89}\n"
          ]
        },
        {
          "name": "stderr",
          "output_type": "stream",
          "text": [
            "Model weights saved in test-ner\\checkpoint-500\\pytorch_model.bin\n",
            "tokenizer config file saved in test-ner\\checkpoint-500\\tokenizer_config.json\n",
            "Special tokens file saved in test-ner\\checkpoint-500\\special_tokens_map.json\n",
            "***** Running Evaluation *****\n",
            "  Num examples = 4489\n",
            "  Batch size = 16\n",
            "The following columns in the evaluation set don't have a corresponding argument in `CamembertForTokenClassification.forward` and have been ignored: id, tokens, ner_tags, pos_tags. If id, tokens, ner_tags, pos_tags are not expected by `CamembertForTokenClassification.forward`,  you can safely ignore this message.\n"
          ]
        },
        {
          "data": {
            "application/vnd.jupyter.widget-view+json": {
              "model_id": "8e0bb57d31d14e03bcd72df42af2366d",
              "version_major": 2,
              "version_minor": 0
            },
            "text/plain": [
              "  0%|          | 0/281 [00:00<?, ?it/s]"
            ]
          },
          "metadata": {},
          "output_type": "display_data"
        },
        {
          "name": "stdout",
          "output_type": "stream",
          "text": [
            "{'eval_loss': 0.12395696341991425, 'eval_precision': 0.6187890306815096, 'eval_recall': 0.6766627078384798, 'eval_f1': 0.6464331300524747, 'eval_accuracy': 0.9799329169558177, 'eval_runtime': 246.1541, 'eval_samples_per_second': 18.237, 'eval_steps_per_second': 1.142, 'epoch': 1.0}\n"
          ]
        },
        {
          "name": "stderr",
          "output_type": "stream",
          "text": [
            "Saving model checkpoint to test-ner\\checkpoint-1000\n",
            "Configuration saved in test-ner\\checkpoint-1000\\config.json\n"
          ]
        },
        {
          "name": "stdout",
          "output_type": "stream",
          "text": [
            "{'loss': 0.0091, 'learning_rate': 1.7315049727903923e-05, 'epoch': 1.78}\n"
          ]
        },
        {
          "name": "stderr",
          "output_type": "stream",
          "text": [
            "Model weights saved in test-ner\\checkpoint-1000\\pytorch_model.bin\n",
            "tokenizer config file saved in test-ner\\checkpoint-1000\\tokenizer_config.json\n",
            "Special tokens file saved in test-ner\\checkpoint-1000\\special_tokens_map.json\n",
            "***** Running Evaluation *****\n",
            "  Num examples = 4489\n",
            "  Batch size = 16\n",
            "The following columns in the evaluation set don't have a corresponding argument in `CamembertForTokenClassification.forward` and have been ignored: id, tokens, ner_tags, pos_tags. If id, tokens, ner_tags, pos_tags are not expected by `CamembertForTokenClassification.forward`,  you can safely ignore this message.\n"
          ]
        },
        {
          "data": {
            "application/vnd.jupyter.widget-view+json": {
              "model_id": "99c7099a4b3a41528823a748c5026f8a",
              "version_major": 2,
              "version_minor": 0
            },
            "text/plain": [
              "  0%|          | 0/281 [00:00<?, ?it/s]"
            ]
          },
          "metadata": {},
          "output_type": "display_data"
        },
        {
          "name": "stdout",
          "output_type": "stream",
          "text": [
            "{'eval_loss': 0.12576010823249817, 'eval_precision': 0.5994347379239465, 'eval_recall': 0.6926959619952494, 'eval_f1': 0.6426997245179062, 'eval_accuracy': 0.9787878787878788, 'eval_runtime': 246.7594, 'eval_samples_per_second': 18.192, 'eval_steps_per_second': 1.139, 'epoch': 2.0}\n"
          ]
        },
        {
          "name": "stderr",
          "output_type": "stream",
          "text": [
            "Saving model checkpoint to test-ner\\checkpoint-1500\n",
            "Configuration saved in test-ner\\checkpoint-1500\\config.json\n"
          ]
        },
        {
          "name": "stdout",
          "output_type": "stream",
          "text": [
            "{'loss': 0.0082, 'learning_rate': 1.5447907674985926e-05, 'epoch': 2.67}\n"
          ]
        },
        {
          "name": "stderr",
          "output_type": "stream",
          "text": [
            "Model weights saved in test-ner\\checkpoint-1500\\pytorch_model.bin\n",
            "tokenizer config file saved in test-ner\\checkpoint-1500\\tokenizer_config.json\n",
            "Special tokens file saved in test-ner\\checkpoint-1500\\special_tokens_map.json\n",
            "***** Running Evaluation *****\n",
            "  Num examples = 4489\n",
            "  Batch size = 16\n",
            "The following columns in the evaluation set don't have a corresponding argument in `CamembertForTokenClassification.forward` and have been ignored: id, tokens, ner_tags, pos_tags. If id, tokens, ner_tags, pos_tags are not expected by `CamembertForTokenClassification.forward`,  you can safely ignore this message.\n"
          ]
        },
        {
          "data": {
            "application/vnd.jupyter.widget-view+json": {
              "model_id": "4049273eda29400d857ad197f6cf8d1f",
              "version_major": 2,
              "version_minor": 0
            },
            "text/plain": [
              "  0%|          | 0/281 [00:00<?, ?it/s]"
            ]
          },
          "metadata": {},
          "output_type": "display_data"
        },
        {
          "name": "stdout",
          "output_type": "stream",
          "text": [
            "{'eval_loss': 0.1275550276041031, 'eval_precision': 0.6095008051529791, 'eval_recall': 0.6742874109263658, 'eval_f1': 0.6402593741189737, 'eval_accuracy': 0.9794818413139024, 'eval_runtime': 245.6029, 'eval_samples_per_second': 18.277, 'eval_steps_per_second': 1.144, 'epoch': 3.0}\n"
          ]
        },
        {
          "name": "stderr",
          "output_type": "stream",
          "text": [
            "Saving model checkpoint to test-ner\\checkpoint-2000\n",
            "Configuration saved in test-ner\\checkpoint-2000\\config.json\n"
          ]
        },
        {
          "name": "stdout",
          "output_type": "stream",
          "text": [
            "{'loss': 0.0072, 'learning_rate': 1.3580765622067933e-05, 'epoch': 3.56}\n"
          ]
        },
        {
          "name": "stderr",
          "output_type": "stream",
          "text": [
            "Model weights saved in test-ner\\checkpoint-2000\\pytorch_model.bin\n",
            "tokenizer config file saved in test-ner\\checkpoint-2000\\tokenizer_config.json\n",
            "Special tokens file saved in test-ner\\checkpoint-2000\\special_tokens_map.json\n",
            "***** Running Evaluation *****\n",
            "  Num examples = 4489\n",
            "  Batch size = 16\n",
            "The following columns in the evaluation set don't have a corresponding argument in `CamembertForTokenClassification.forward` and have been ignored: id, tokens, ner_tags, pos_tags. If id, tokens, ner_tags, pos_tags are not expected by `CamembertForTokenClassification.forward`,  you can safely ignore this message.\n"
          ]
        },
        {
          "data": {
            "application/vnd.jupyter.widget-view+json": {
              "model_id": "c30956ccc26144908aa2e32612893789",
              "version_major": 2,
              "version_minor": 0
            },
            "text/plain": [
              "  0%|          | 0/281 [00:00<?, ?it/s]"
            ]
          },
          "metadata": {},
          "output_type": "display_data"
        },
        {
          "name": "stdout",
          "output_type": "stream",
          "text": [
            "{'eval_loss': 0.12905347347259521, 'eval_precision': 0.619983840560194, 'eval_recall': 0.6834916864608076, 'eval_f1': 0.6501906510379889, 'eval_accuracy': 0.979823039555864, 'eval_runtime': 252.8434, 'eval_samples_per_second': 17.754, 'eval_steps_per_second': 1.111, 'epoch': 4.0}\n"
          ]
        },
        {
          "name": "stderr",
          "output_type": "stream",
          "text": [
            "Saving model checkpoint to test-ner\\checkpoint-2500\n",
            "Configuration saved in test-ner\\checkpoint-2500\\config.json\n"
          ]
        },
        {
          "name": "stdout",
          "output_type": "stream",
          "text": [
            "{'loss': 0.0061, 'learning_rate': 1.1713623569149937e-05, 'epoch': 4.46}\n"
          ]
        },
        {
          "name": "stderr",
          "output_type": "stream",
          "text": [
            "Model weights saved in test-ner\\checkpoint-2500\\pytorch_model.bin\n",
            "tokenizer config file saved in test-ner\\checkpoint-2500\\tokenizer_config.json\n",
            "Special tokens file saved in test-ner\\checkpoint-2500\\special_tokens_map.json\n",
            "***** Running Evaluation *****\n",
            "  Num examples = 4489\n",
            "  Batch size = 16\n",
            "The following columns in the evaluation set don't have a corresponding argument in `CamembertForTokenClassification.forward` and have been ignored: id, tokens, ner_tags, pos_tags. If id, tokens, ner_tags, pos_tags are not expected by `CamembertForTokenClassification.forward`,  you can safely ignore this message.\n"
          ]
        },
        {
          "data": {
            "application/vnd.jupyter.widget-view+json": {
              "model_id": "0dd1091b48974c4b9ecc781657f8e051",
              "version_major": 2,
              "version_minor": 0
            },
            "text/plain": [
              "  0%|          | 0/281 [00:00<?, ?it/s]"
            ]
          },
          "metadata": {},
          "output_type": "display_data"
        },
        {
          "name": "stdout",
          "output_type": "stream",
          "text": [
            "{'eval_loss': 0.1298380196094513, 'eval_precision': 0.6082119205298013, 'eval_recall': 0.6817102137767221, 'eval_f1': 0.6428671426571468, 'eval_accuracy': 0.9789845015035855, 'eval_runtime': 243.9457, 'eval_samples_per_second': 18.402, 'eval_steps_per_second': 1.152, 'epoch': 5.0}\n"
          ]
        },
        {
          "name": "stderr",
          "output_type": "stream",
          "text": [
            "Saving model checkpoint to test-ner\\checkpoint-3000\n",
            "Configuration saved in test-ner\\checkpoint-3000\\config.json\n"
          ]
        },
        {
          "name": "stdout",
          "output_type": "stream",
          "text": [
            "{'loss': 0.0052, 'learning_rate': 9.84648151623194e-06, 'epoch': 5.35}\n"
          ]
        },
        {
          "name": "stderr",
          "output_type": "stream",
          "text": [
            "Model weights saved in test-ner\\checkpoint-3000\\pytorch_model.bin\n",
            "tokenizer config file saved in test-ner\\checkpoint-3000\\tokenizer_config.json\n",
            "Special tokens file saved in test-ner\\checkpoint-3000\\special_tokens_map.json\n",
            "***** Running Evaluation *****\n",
            "  Num examples = 4489\n",
            "  Batch size = 16\n",
            "The following columns in the evaluation set don't have a corresponding argument in `CamembertForTokenClassification.forward` and have been ignored: id, tokens, ner_tags, pos_tags. If id, tokens, ner_tags, pos_tags are not expected by `CamembertForTokenClassification.forward`,  you can safely ignore this message.\n"
          ]
        },
        {
          "data": {
            "application/vnd.jupyter.widget-view+json": {
              "model_id": "ba837424301e4ad7ac0a2b7053e66911",
              "version_major": 2,
              "version_minor": 0
            },
            "text/plain": [
              "  0%|          | 0/281 [00:00<?, ?it/s]"
            ]
          },
          "metadata": {},
          "output_type": "display_data"
        },
        {
          "name": "stdout",
          "output_type": "stream",
          "text": [
            "{'eval_loss': 0.13221757113933563, 'eval_precision': 0.6137787056367432, 'eval_recall': 0.6983372921615202, 'eval_f1': 0.6533333333333333, 'eval_accuracy': 0.9797825584085126, 'eval_runtime': 231.6331, 'eval_samples_per_second': 19.38, 'eval_steps_per_second': 1.213, 'epoch': 6.0}\n"
          ]
        },
        {
          "name": "stderr",
          "output_type": "stream",
          "text": [
            "Saving model checkpoint to test-ner\\checkpoint-3500\n",
            "Configuration saved in test-ner\\checkpoint-3500\\config.json\n"
          ]
        },
        {
          "name": "stdout",
          "output_type": "stream",
          "text": [
            "{'loss': 0.0049, 'learning_rate': 7.979339463313944e-06, 'epoch': 6.24}\n"
          ]
        },
        {
          "name": "stderr",
          "output_type": "stream",
          "text": [
            "Model weights saved in test-ner\\checkpoint-3500\\pytorch_model.bin\n",
            "tokenizer config file saved in test-ner\\checkpoint-3500\\tokenizer_config.json\n",
            "Special tokens file saved in test-ner\\checkpoint-3500\\special_tokens_map.json\n",
            "***** Running Evaluation *****\n",
            "  Num examples = 4489\n",
            "  Batch size = 16\n",
            "The following columns in the evaluation set don't have a corresponding argument in `CamembertForTokenClassification.forward` and have been ignored: id, tokens, ner_tags, pos_tags. If id, tokens, ner_tags, pos_tags are not expected by `CamembertForTokenClassification.forward`,  you can safely ignore this message.\n"
          ]
        },
        {
          "data": {
            "application/vnd.jupyter.widget-view+json": {
              "model_id": "5f8b7b3e735e407d93a906a173484478",
              "version_major": 2,
              "version_minor": 0
            },
            "text/plain": [
              "  0%|          | 0/281 [00:00<?, ?it/s]"
            ]
          },
          "metadata": {},
          "output_type": "display_data"
        },
        {
          "name": "stdout",
          "output_type": "stream",
          "text": [
            "{'eval_loss': 0.1367342621088028, 'eval_precision': 0.6251351351351352, 'eval_recall': 0.6867577197149644, 'eval_f1': 0.6544991511035655, 'eval_accuracy': 0.9792331714087439, 'eval_runtime': 230.8508, 'eval_samples_per_second': 19.445, 'eval_steps_per_second': 1.217, 'epoch': 7.0}\n"
          ]
        },
        {
          "name": "stderr",
          "output_type": "stream",
          "text": [
            "Saving model checkpoint to test-ner\\checkpoint-4000\n",
            "Configuration saved in test-ner\\checkpoint-4000\\config.json\n"
          ]
        },
        {
          "name": "stdout",
          "output_type": "stream",
          "text": [
            "{'loss': 0.0039, 'learning_rate': 6.112197410395947e-06, 'epoch': 7.13}\n"
          ]
        },
        {
          "name": "stderr",
          "output_type": "stream",
          "text": [
            "Model weights saved in test-ner\\checkpoint-4000\\pytorch_model.bin\n",
            "tokenizer config file saved in test-ner\\checkpoint-4000\\tokenizer_config.json\n",
            "Special tokens file saved in test-ner\\checkpoint-4000\\special_tokens_map.json\n",
            "***** Running Evaluation *****\n",
            "  Num examples = 4489\n",
            "  Batch size = 16\n",
            "The following columns in the evaluation set don't have a corresponding argument in `CamembertForTokenClassification.forward` and have been ignored: id, tokens, ner_tags, pos_tags. If id, tokens, ner_tags, pos_tags are not expected by `CamembertForTokenClassification.forward`,  you can safely ignore this message.\n"
          ]
        },
        {
          "data": {
            "application/vnd.jupyter.widget-view+json": {
              "model_id": "717204e8a6b544a7a7c5a568a450297b",
              "version_major": 2,
              "version_minor": 0
            },
            "text/plain": [
              "  0%|          | 0/281 [00:00<?, ?it/s]"
            ]
          },
          "metadata": {},
          "output_type": "display_data"
        },
        {
          "name": "stdout",
          "output_type": "stream",
          "text": [
            "{'eval_loss': 0.13613736629486084, 'eval_precision': 0.6210440898025426, 'eval_recall': 0.6817102137767221, 'eval_f1': 0.6499646142958245, 'eval_accuracy': 0.9795396715244044, 'eval_runtime': 243.2073, 'eval_samples_per_second': 18.458, 'eval_steps_per_second': 1.155, 'epoch': 8.0}\n"
          ]
        },
        {
          "name": "stderr",
          "output_type": "stream",
          "text": [
            "Saving model checkpoint to test-ner\\checkpoint-4500\n",
            "Configuration saved in test-ner\\checkpoint-4500\\config.json\n"
          ]
        },
        {
          "name": "stdout",
          "output_type": "stream",
          "text": [
            "{'loss': 0.004, 'learning_rate': 4.24505535747795e-06, 'epoch': 8.02}\n"
          ]
        },
        {
          "name": "stderr",
          "output_type": "stream",
          "text": [
            "Model weights saved in test-ner\\checkpoint-4500\\pytorch_model.bin\n",
            "tokenizer config file saved in test-ner\\checkpoint-4500\\tokenizer_config.json\n",
            "Special tokens file saved in test-ner\\checkpoint-4500\\special_tokens_map.json\n",
            "Saving model checkpoint to test-ner\\checkpoint-5000\n",
            "Configuration saved in test-ner\\checkpoint-5000\\config.json\n"
          ]
        },
        {
          "name": "stdout",
          "output_type": "stream",
          "text": [
            "{'loss': 0.0034, 'learning_rate': 2.3779133045599562e-06, 'epoch': 8.91}\n"
          ]
        },
        {
          "name": "stderr",
          "output_type": "stream",
          "text": [
            "Model weights saved in test-ner\\checkpoint-5000\\pytorch_model.bin\n",
            "tokenizer config file saved in test-ner\\checkpoint-5000\\tokenizer_config.json\n",
            "Special tokens file saved in test-ner\\checkpoint-5000\\special_tokens_map.json\n",
            "***** Running Evaluation *****\n",
            "  Num examples = 4489\n",
            "  Batch size = 16\n",
            "The following columns in the evaluation set don't have a corresponding argument in `CamembertForTokenClassification.forward` and have been ignored: id, tokens, ner_tags, pos_tags. If id, tokens, ner_tags, pos_tags are not expected by `CamembertForTokenClassification.forward`,  you can safely ignore this message.\n"
          ]
        },
        {
          "data": {
            "application/vnd.jupyter.widget-view+json": {
              "model_id": "79ab1819f2554176aba73a0b4688c50e",
              "version_major": 2,
              "version_minor": 0
            },
            "text/plain": [
              "  0%|          | 0/281 [00:00<?, ?it/s]"
            ]
          },
          "metadata": {},
          "output_type": "display_data"
        },
        {
          "name": "stdout",
          "output_type": "stream",
          "text": [
            "{'eval_loss': 0.136197030544281, 'eval_precision': 0.6319406267179769, 'eval_recall': 0.6826009501187649, 'eval_f1': 0.6562946046246075, 'eval_accuracy': 0.9799155678926671, 'eval_runtime': 233.659, 'eval_samples_per_second': 19.212, 'eval_steps_per_second': 1.203, 'epoch': 9.0}\n"
          ]
        },
        {
          "name": "stderr",
          "output_type": "stream",
          "text": [
            "Saving model checkpoint to test-ner\\checkpoint-5500\n",
            "Configuration saved in test-ner\\checkpoint-5500\\config.json\n"
          ]
        },
        {
          "name": "stdout",
          "output_type": "stream",
          "text": [
            "{'loss': 0.003, 'learning_rate': 5.1077125164196e-07, 'epoch': 9.8}\n"
          ]
        },
        {
          "name": "stderr",
          "output_type": "stream",
          "text": [
            "Model weights saved in test-ner\\checkpoint-5500\\pytorch_model.bin\n",
            "tokenizer config file saved in test-ner\\checkpoint-5500\\tokenizer_config.json\n",
            "Special tokens file saved in test-ner\\checkpoint-5500\\special_tokens_map.json\n",
            "***** Running Evaluation *****\n",
            "  Num examples = 4489\n",
            "  Batch size = 16\n",
            "The following columns in the evaluation set don't have a corresponding argument in `CamembertForTokenClassification.forward` and have been ignored: id, tokens, ner_tags, pos_tags. If id, tokens, ner_tags, pos_tags are not expected by `CamembertForTokenClassification.forward`,  you can safely ignore this message.\n"
          ]
        },
        {
          "data": {
            "application/vnd.jupyter.widget-view+json": {
              "model_id": "5840ea25004e4cbfbb152bfac9c41697",
              "version_major": 2,
              "version_minor": 0
            },
            "text/plain": [
              "  0%|          | 0/281 [00:00<?, ?it/s]"
            ]
          },
          "metadata": {},
          "output_type": "display_data"
        },
        {
          "name": "stderr",
          "output_type": "stream",
          "text": [
            "\n",
            "\n",
            "Training completed. Do not forget to share your model on huggingface.co/models =)\n",
            "\n",
            "\n"
          ]
        },
        {
          "name": "stdout",
          "output_type": "stream",
          "text": [
            "{'eval_loss': 0.13687586784362793, 'eval_precision': 0.6268372346216657, 'eval_recall': 0.6837885985748219, 'eval_f1': 0.6540755467196819, 'eval_accuracy': 0.9798924358084663, 'eval_runtime': 230.7492, 'eval_samples_per_second': 19.454, 'eval_steps_per_second': 1.218, 'epoch': 10.0}\n",
            "{'train_runtime': 30847.5973, 'train_samples_per_second': 5.821, 'train_steps_per_second': 0.182, 'train_loss': 0.005496271132572874, 'epoch': 10.0}\n",
            "CPU times: total: 2d 20h 24min 15s\n",
            "Wall time: 8h 34min 7s\n"
          ]
        },
        {
          "data": {
            "text/plain": [
              "TrainOutput(global_step=5610, training_loss=0.005496271132572874, metrics={'train_runtime': 30847.5973, 'train_samples_per_second': 5.821, 'train_steps_per_second': 0.182, 'train_loss': 0.005496271132572874, 'epoch': 10.0})"
            ]
          },
          "execution_count": 128,
          "metadata": {},
          "output_type": "execute_result"
        }
      ],
      "source": [
        "%%time\n",
        "#call method train\n",
        "trainer.train()\n"
      ]
    },
    {
      "cell_type": "code",
      "execution_count": null,
      "id": "a01b56aa",
      "metadata": {
        "id": "a01b56aa",
        "outputId": "951b91e1-7a54-41b8-a224-0b1248bd1a3b",
        "colab": {
          "referenced_widgets": [
            "846ba1b49e084039b9ff9e0463257ee1"
          ]
        }
      },
      "outputs": [
        {
          "name": "stderr",
          "output_type": "stream",
          "text": [
            "***** Running Prediction *****\n",
            "  Num examples = 22444\n",
            "  Batch size = 16\n",
            "The following columns in the test set don't have a corresponding argument in `CamembertForTokenClassification.forward` and have been ignored: id, tokens, ner_tags, pos_tags. If id, tokens, ner_tags, pos_tags are not expected by `CamembertForTokenClassification.forward`,  you can safely ignore this message.\n"
          ]
        },
        {
          "data": {
            "application/vnd.jupyter.widget-view+json": {
              "model_id": "846ba1b49e084039b9ff9e0463257ee1",
              "version_major": 2,
              "version_minor": 0
            },
            "text/plain": [
              "  0%|          | 0/1403 [00:00<?, ?it/s]"
            ]
          },
          "metadata": {},
          "output_type": "display_data"
        }
      ],
      "source": [
        "predictions, labels, _ = trainer.predict(test_bert)\n",
        "predictions = np.argmax(predictions, axis=2)"
      ]
    },
    {
      "cell_type": "code",
      "execution_count": null,
      "id": "a7d2cac4",
      "metadata": {
        "id": "a7d2cac4"
      },
      "outputs": [],
      "source": [
        "true_predictions = [\n",
        "    [label_list[p].replace(\"_\", \"-\") for (p, l) in zip(prediction, label) if l != -100]\n",
        "    for prediction, label in zip(predictions, labels)\n",
        "]\n",
        "true_labels = [\n",
        "    [label_list[l].replace(\"_\", \"-\") for (p, l) in zip(prediction, label) if l != -100]\n",
        "    for prediction, label in zip(predictions, labels)\n",
        "]"
      ]
    },
    {
      "cell_type": "code",
      "execution_count": null,
      "id": "41b7d485",
      "metadata": {
        "id": "41b7d485"
      },
      "outputs": [],
      "source": [
        "results = metric.compute(predictions=true_predictions, references=true_labels)\n",
        "#print(results)"
      ]
    },
    {
      "cell_type": "code",
      "execution_count": null,
      "id": "542e9813",
      "metadata": {
        "id": "542e9813"
      },
      "outputs": [],
      "source": [
        "import pandas as pd\n",
        "#reformat classification report\n",
        "def show_3digits(evalue):\n",
        "    val = round(evalue, 4)\n",
        "    return val\n",
        "\n",
        "def eliminate_decimal(evalue):\n",
        "    val = int(evalue)\n",
        "    return val\n",
        "\n",
        "classification_report = pd.DataFrame.from_dict(results).transpose()\n",
        "\n",
        "classification_report['precision'] = classification_report['precision'].apply(show_3digits)\n",
        "classification_report['recall'] = classification_report['recall'].apply(show_3digits)\n",
        "classification_report['f1'] = classification_report['f1'].apply(show_3digits)\n",
        "classification_report['number'] = classification_report['number'].apply(eliminate_decimal)"
      ]
    },
    {
      "cell_type": "code",
      "execution_count": null,
      "id": "60dfb946",
      "metadata": {
        "id": "60dfb946",
        "outputId": "845cf920-6fbd-4fbd-c2ae-974086054903"
      },
      "outputs": [
        {
          "name": "stdout",
          "output_type": "stream",
          "text": [
            "                   precision  recall      f1  number\n",
            "ACP                   0.9254  0.9171  0.9212     784\n",
            "ADMIN                 0.9223  0.9342  0.9282    4332\n",
            "BSN                   0.8293  0.8987  0.8626     454\n",
            "DEP                   0.9303  0.9501  0.9401    1882\n",
            "FPLACE                0.8832  0.9249  0.9035    1185\n",
            "GOV                   0.9032  0.8725  0.8876     353\n",
            "HP                    0.8918  0.9330  0.9120     433\n",
            "MKT                   0.9410  0.9377  0.9393     289\n",
            "MON                   0.8421  0.7442  0.7901      43\n",
            "NAT                   0.8170  0.9015  0.8571     203\n",
            "OTHER                 0.9333  0.8750  0.9032      32\n",
            "RCT                   0.9099  0.9643  0.9363     785\n",
            "RES                   0.8420  0.9093  0.8743     551\n",
            "ROAD                  0.9072  0.9269  0.9170    2490\n",
            "RP                    0.9568  0.9674  0.9621    1075\n",
            "RT                    0.8890  0.9306  0.9093    2220\n",
            "STORE                 0.8192  0.8237  0.8214     363\n",
            "TRAN                  0.8710  0.9144  0.8922     561\n",
            "overall_precision     0.9049  0.9049  0.9049       0\n",
            "overall_recall        0.9297  0.9297  0.9297       0\n",
            "overall_f1            0.9172  0.9172  0.9172       0\n",
            "overall_accuracy      0.9952  0.9952  0.9952       0\n"
          ]
        }
      ],
      "source": [
        "print(classification_report)"
      ]
    },
    {
      "cell_type": "code",
      "execution_count": null,
      "id": "3a1b6641",
      "metadata": {
        "id": "3a1b6641",
        "outputId": "4455bedb-4a2b-4230-dbc7-0f08a1109925"
      },
      "outputs": [
        {
          "name": "stdout",
          "output_type": "stream",
          "text": [
            "{\"status\":200,\"message\":\"ok\"}\n"
          ]
        }
      ],
      "source": [
        "#line notify to me if complete\n",
        "token_jobnotify = 'M1qygx1uFYuGtgo6qoKPboB4sAKmAhGuwXdL7q54TvP'\n",
        "msg = f\"\"\" run process เสร็จละนะจ๊ะที่รัก เข้ามาดูเค้าหน่อยน้า \n",
        "           f1 = {classification_report.loc['overall_f1']['f1']} \"\"\"\n",
        "url = 'https://notify-api.line.me/api/notify'\n",
        "headers = {'content-type':'application/x-www-form-urlencoded','Authorization':'Bearer '+token_jobnotify}\n",
        "r = requests.post(url, headers=headers, data = {'message':msg})\n",
        "print (r.text)"
      ]
    },
    {
      "cell_type": "code",
      "execution_count": null,
      "id": "86d31397",
      "metadata": {
        "id": "86d31397",
        "outputId": "e0521d36-6bb1-4a8a-fbb4-f2c3f5ec4ac3"
      },
      "outputs": [
        {
          "name": "stderr",
          "output_type": "stream",
          "text": [
            "Configuration saved in C:\\Users\\sveng\\geoparsing_proj\\model_bert\\Model1-v3\\config.json\n",
            "Model weights saved in C:\\Users\\sveng\\geoparsing_proj\\model_bert\\Model1-v3\\pytorch_model.bin\n"
          ]
        }
      ],
      "source": [
        "#Save model by this path\n",
        "folder_name = 'Model1-v3'\n",
        "save_path = r\"C:\\Users\\sveng\\geoparsing_proj\\model_bert\"\n",
        "fullpath = save_path+'\\\\'+folder_name\n",
        "\n",
        "# save vocabulary of the tokenizer\n",
        "tokenizer.save_vocabulary(fullpath)\n",
        "\n",
        "# save last weight pretrained\n",
        "model.save_pretrained(fullpath)"
      ]
    }
  ],
  "metadata": {
    "kernelspec": {
      "display_name": "Python 3.8.13 ('geo_bert')",
      "language": "python",
      "name": "python3"
    },
    "language_info": {
      "codemirror_mode": {
        "name": "ipython",
        "version": 3
      },
      "file_extension": ".py",
      "mimetype": "text/x-python",
      "name": "python",
      "nbconvert_exporter": "python",
      "pygments_lexer": "ipython3",
      "version": "3.8.13"
    },
    "vscode": {
      "interpreter": {
        "hash": "86f0e5ffc1dfc69bbd1cc897569f3f3196e8b770cb904e85f7309af0e7cfa679"
      }
    },
    "colab": {
      "provenance": [],
      "include_colab_link": true
    }
  },
  "nbformat": 4,
  "nbformat_minor": 5
}