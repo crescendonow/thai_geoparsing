{
  "cells": [
    {
      "cell_type": "markdown",
      "metadata": {
        "id": "view-in-github",
        "colab_type": "text"
      },
      "source": [
        "<a href=\"https://colab.research.google.com/github/crescendonow/thai_geoparsing/blob/main/IJG_5_bi_lstm_crf60epoch.ipynb\" target=\"_parent\"><img src=\"https://colab.research.google.com/assets/colab-badge.svg\" alt=\"Open In Colab\"/></a>"
      ]
    },
    {
      "cell_type": "markdown",
      "metadata": {
        "id": "64mf6JbnaTsj"
      },
      "source": [
        "learning_rate = default,\\n\n",
        "drop_out = 0.3,\\n\n",
        "epochs = 50,\\n\n",
        "activation = 'softmax',\\n\n",
        "optimizer = 'adam',\\n\n",
        "unit = 64,\\n\n",
        "dense = n_tag(37)\\n"
      ]
    },
    {
      "cell_type": "markdown",
      "source": [
        "##adam = tf.keras.optimizers.Adam(learning_rate=0.0001, <br>beta_1=0.9, beta_2=0.999, amsgead=False) <br>\n",
        "references : https://arxiv.org/abs/1904.09237"
      ],
      "metadata": {
        "id": "USFWtVU9kzAH"
      }
    },
    {
      "cell_type": "code",
      "execution_count": null,
      "metadata": {
        "id": "5aSKmA-Uqrj6"
      },
      "outputs": [],
      "source": [
        "#Install every library for use in notebook\n",
        "!pip install pickle-mixin\n",
        "!pip install tqdm\n",
        "!pip install pythainlp[full]"
      ]
    },
    {
      "cell_type": "code",
      "source": [
        "!pip install --upgrade numpy"
      ],
      "metadata": {
        "colab": {
          "base_uri": "https://localhost:8080/"
        },
        "id": "mYs9yPN1z8XI",
        "outputId": "f6f037c6-135a-4ae6-e7f7-d01918aab089"
      },
      "execution_count": null,
      "outputs": [
        {
          "output_type": "stream",
          "name": "stdout",
          "text": [
            "Looking in indexes: https://pypi.org/simple, https://us-python.pkg.dev/colab-wheels/public/simple/\n",
            "Requirement already satisfied: numpy in /usr/local/lib/python3.8/dist-packages (1.21.6)\n",
            "Collecting numpy\n",
            "  Downloading numpy-1.24.1-cp38-cp38-manylinux_2_17_x86_64.manylinux2014_x86_64.whl (17.3 MB)\n",
            "\u001b[2K     \u001b[90m━━━━━━━━━━━━━━━━━━━━━━━━━━━━━━━━━━━━━━━━\u001b[0m \u001b[32m17.3/17.3 MB\u001b[0m \u001b[31m75.2 MB/s\u001b[0m eta \u001b[36m0:00:00\u001b[0m\n",
            "\u001b[?25hInstalling collected packages: numpy\n",
            "  Attempting uninstall: numpy\n",
            "    Found existing installation: numpy 1.21.6\n",
            "    Uninstalling numpy-1.21.6:\n",
            "      Successfully uninstalled numpy-1.21.6\n",
            "\u001b[31mERROR: pip's dependency resolver does not currently take into account all the packages that are installed. This behaviour is the source of the following dependency conflicts.\n",
            "scipy 1.7.3 requires numpy<1.23.0,>=1.16.5, but you have numpy 1.24.1 which is incompatible.\n",
            "numba 0.56.4 requires numpy<1.24,>=1.18, but you have numpy 1.24.1 which is incompatible.\u001b[0m\u001b[31m\n",
            "\u001b[0mSuccessfully installed numpy-1.24.1\n"
          ]
        }
      ]
    },
    {
      "cell_type": "code",
      "execution_count": null,
      "metadata": {
        "id": "dQ_6iPkT2zOi"
      },
      "outputs": [],
      "source": [
        "!pip install git+https://www.github.com/keras-team/keras-contrib.git"
      ]
    },
    {
      "cell_type": "code",
      "execution_count": null,
      "metadata": {
        "id": "phlKQJZ_YQnJ",
        "colab": {
          "base_uri": "https://localhost:8080/"
        },
        "outputId": "cd21d7d5-74d4-4996-ba00-130b5c6f0fbd"
      },
      "outputs": [
        {
          "output_type": "stream",
          "name": "stdout",
          "text": [
            "Mounted at /content/drive\n"
          ]
        }
      ],
      "source": [
        "from google.colab import drive\n",
        "drive.mount('/content/drive')"
      ]
    },
    {
      "cell_type": "code",
      "execution_count": null,
      "metadata": {
        "colab": {
          "base_uri": "https://localhost:8080/"
        },
        "id": "23TOba33L4qf",
        "outputId": "22f12501-a328-4cc4-95ca-3c6a9d281d68"
      },
      "outputs": [
        {
          "output_type": "stream",
          "name": "stdout",
          "text": [
            "Thu Jul 28 17:37:11 2022       \n",
            "+-----------------------------------------------------------------------------+\n",
            "| NVIDIA-SMI 460.32.03    Driver Version: 460.32.03    CUDA Version: 11.2     |\n",
            "|-------------------------------+----------------------+----------------------+\n",
            "| GPU  Name        Persistence-M| Bus-Id        Disp.A | Volatile Uncorr. ECC |\n",
            "| Fan  Temp  Perf  Pwr:Usage/Cap|         Memory-Usage | GPU-Util  Compute M. |\n",
            "|                               |                      |               MIG M. |\n",
            "|===============================+======================+======================|\n",
            "|   0  Tesla P100-PCIE...  Off  | 00000000:00:04.0 Off |                    0 |\n",
            "| N/A   37C    P0    26W / 250W |      0MiB / 16280MiB |      0%      Default |\n",
            "|                               |                      |                  N/A |\n",
            "+-------------------------------+----------------------+----------------------+\n",
            "                                                                               \n",
            "+-----------------------------------------------------------------------------+\n",
            "| Processes:                                                                  |\n",
            "|  GPU   GI   CI        PID   Type   Process name                  GPU Memory |\n",
            "|        ID   ID                                                   Usage      |\n",
            "|=============================================================================|\n",
            "|  No running processes found                                                 |\n",
            "+-----------------------------------------------------------------------------+\n"
          ]
        }
      ],
      "source": [
        "#check GPU runtime\n",
        "gpu_info = !nvidia-smi\n",
        "gpu_info = '\\n'.join(gpu_info)\n",
        "if gpu_info.find('failed') >= 0:\n",
        "  print('Not connected to a GPU')\n",
        "else:\n",
        "  print(gpu_info)"
      ]
    },
    {
      "cell_type": "code",
      "execution_count": null,
      "metadata": {
        "id": "CMj1jISLpzTF"
      },
      "outputs": [],
      "source": [
        "#check ram usage\n",
        "from psutil import virtual_memory\n",
        "ram_gb = virtual_memory().total / 1e9\n",
        "print('Your runtime has {:.1f} gigabytes of available RAM\\n'.format(ram_gb))\n",
        "\n",
        "if ram_gb < 20:\n",
        "  print('Not using a high-RAM runtime')\n",
        "else:\n",
        "  print('You are using a high-RAM runtime!')"
      ]
    },
    {
      "cell_type": "code",
      "execution_count": null,
      "metadata": {
        "id": "S_Lr9vVmnAq4"
      },
      "outputs": [],
      "source": [
        "#If you want to use bi-lstm+crf ; set tf 1.xx\n",
        "%tensorflow_version 1.x\n",
        "import tensorflow\n",
        "print(tensorflow.__version__)"
      ]
    },
    {
      "cell_type": "code",
      "execution_count": null,
      "metadata": {
        "colab": {
          "base_uri": "https://localhost:8080/"
        },
        "id": "Dr5gkcy71yiQ",
        "outputId": "34f0b9e3-aa17-4494-d843-7300a46598d2"
      },
      "outputs": [
        {
          "output_type": "stream",
          "name": "stderr",
          "text": [
            "Using TensorFlow backend.\n"
          ]
        }
      ],
      "source": [
        "# Save / Load File\n",
        "import dill\n",
        "import pickle\n",
        "\n",
        "# Plot Graph\n",
        "import matplotlib.pyplot as plt\n",
        "\n",
        "# Sklearn Report\n",
        "import sklearn\n",
        "from sklearn.metrics import classification_report, confusion_matrix\n",
        "from sklearn.preprocessing import LabelBinarizer\n",
        "from itertools import chain\n",
        "\n",
        "# Load Vectors\n",
        "from gensim.models import KeyedVectors\n",
        "\n",
        "# Utility\n",
        "import numpy as np\n",
        "import time\n",
        "\n",
        "# Model Utility\n",
        "from sklearn.model_selection import train_test_split\n",
        "from tqdm import tqdm\n",
        "import pandas as pd\n",
        "\n",
        "# Keras Model\n",
        "from keras.models import load_model\n",
        "from keras.preprocessing.sequence import pad_sequences\n",
        "from keras.models import Model, Input\n",
        "from keras.utils import to_categorical\n",
        "from keras.layers import LSTM, Embedding, Dense, TimeDistributed, Dropout, Conv1D\n",
        "from keras.layers import Bidirectional, concatenate, SpatialDropout1D, GlobalMaxPooling1D\n",
        "from keras_contrib.layers import CRF\n",
        "from keras.callbacks import ModelCheckpoint"
      ]
    },
    {
      "cell_type": "code",
      "execution_count": null,
      "metadata": {
        "id": "X6mUmojo3ZDj"
      },
      "outputs": [],
      "source": [
        "#load train and test data\n",
        "with open('/content/drive/MyDrive/dissertation/TEXT DATA/TrainingData/1.Tokennization/train_dn.data', 'rb') as token:\n",
        "    train_data = pickle.load(token)\n",
        "with open('/content/drive/MyDrive/dissertation/TEXT DATA/TrainingData/1.Tokennization/validate_dn.data', 'rb') as token2:\n",
        "    validate_data = pickle.load(token2)   \n",
        "with open('/content/drive/MyDrive/dissertation/TEXT DATA/TrainingData/1.Tokennization/test_attacut_cl.data', 'rb') as token3:\n",
        "    test_data = pickle.load(token3)"
      ]
    },
    {
      "cell_type": "code",
      "source": [
        "#load dict ner_dict, chardict\n",
        "with open('/content/drive/MyDrive/dissertation/TEXT DATA/TrainingData/5.dict/ner_ix.dict', 'rb') as ner:\n",
        "    ner_to_ix = pickle.load(ner)\n",
        "with open('/content/drive/MyDrive/dissertation/TEXT DATA/TrainingData/5.dict/chardict.pickle', 'rb') as chardict:\n",
        "    char2idx = pickle.load(chardict)"
      ],
      "metadata": {
        "id": "VlGGa4jqHLyq"
      },
      "execution_count": null,
      "outputs": []
    },
    {
      "cell_type": "code",
      "source": [
        "#load dict word index, thai2fit dict and thai2fit index\n",
        "with open('/content/drive/MyDrive/dissertation/TEXT DATA/TrainingData/5.dict/word_index.dict', 'rb') as word_index:\n",
        "    word_to_ix = pickle.load(word_index)\n",
        "with open('/content/drive/MyDrive/dissertation/TEXT DATA/TrainingData/5.dict/thai2index.dict', 'rb') as thai_index:\n",
        "    thai2dict_to_ix = pickle.load(thai_index)\n",
        "with open('/content/drive/MyDrive/dissertation/TEXT DATA/TrainingData/5.dict/thai2dict.dict', 'rb') as thai_to_dict:\n",
        "    thai2dict = pickle.load(thai_to_dict)   "
      ],
      "metadata": {
        "id": "-dmp7nYkH2ac"
      },
      "execution_count": null,
      "outputs": []
    },
    {
      "cell_type": "code",
      "execution_count": null,
      "metadata": {
        "id": "7b9EgDNb3ZW0"
      },
      "outputs": [],
      "source": [
        "thai2fit_model = KeyedVectors.load_word2vec_format('/content/drive/MyDrive/dissertation/thai2vecNoSym.bin',binary=True)\n",
        "thai2fit_weight = thai2fit_model.vectors"
      ]
    },
    {
      "cell_type": "code",
      "source": [
        "ix_to_word = dict((v,k) for k,v in word_to_ix.items()) #convert index to word\n",
        "ix_to_ner = dict((v,k) for k,v in ner_to_ix.items())  #convert index to ner\n",
        "ix_to_thai2dict = dict((v,k) for k,v in thai2dict_to_ix.items())  #convert index to thai2fit\n",
        "\n",
        "n_word = len(word_to_ix)\n",
        "n_tag = len(ner_to_ix)\n",
        "n_thai2dict = len(thai2dict_to_ix)\n",
        "n_chars = len(char2idx)\n",
        "\n",
        "print(n_word)\n",
        "print(n_tag)\n",
        "print(n_thai2dict)\n",
        "print(ner_to_ix)"
      ],
      "metadata": {
        "colab": {
          "base_uri": "https://localhost:8080/"
        },
        "id": "JXZZoD6dIT2i",
        "outputId": "c899c87f-556a-4416-e39c-02234241fa89"
      },
      "execution_count": null,
      "outputs": [
        {
          "output_type": "stream",
          "name": "stdout",
          "text": [
            "41375\n",
            "38\n",
            "55677\n",
            "{'O': 0, 'B-ACP': 1, 'I-ACP': 2, 'B-ADMIN': 3, 'I-ADMIN': 4, 'B-BSN': 5, 'I-BSN': 6, 'B-DEP': 7, 'I-DEP': 8, 'B-FPLACE': 9, 'I-FPLACE': 10, 'B-GOV': 11, 'I-GOV': 12, 'B-HP': 13, 'I-HP': 14, 'B-MKT': 15, 'I-MKT': 16, 'B-MON': 17, 'I-MON': 18, 'B-NAT': 19, 'I-NAT': 20, 'B-OTHER': 21, 'I-OTHER': 22, 'B-RCT': 23, 'I-RCT': 24, 'B-RES': 25, 'I-RES': 26, 'B-ROAD': 27, 'I-ROAD': 28, 'B-RP': 29, 'I-RP': 30, 'B-RT': 31, 'I-RT': 32, 'B-STORE': 33, 'I-STORE': 34, 'B-TRAN': 35, 'I-TRAN': 36, 'pad': 37}\n"
          ]
        }
      ]
    },
    {
      "cell_type": "code",
      "source": [
        "#Set Parameter and Hyper Parameter\n",
        "max_len = 250\n",
        "max_len_char = 30\n",
        "\n",
        "character_LSTM_unit = 32\n",
        "char_embedding_dim = 32\n",
        "main_lstm_unit = 256 ## Bidirectional 256 + 256 = 512\n",
        "lstm_recurrent_dropout = 0.5\n",
        "\n",
        "train_batch_size = 32\n",
        "train_epochs = 60"
      ],
      "metadata": {
        "id": "KDJC6nONIT5n"
      },
      "execution_count": null,
      "outputs": []
    },
    {
      "cell_type": "code",
      "execution_count": null,
      "metadata": {
        "id": "OlhG1FKh3ZdM"
      },
      "outputs": [],
      "source": [
        "#mapping function if unkwnon from embedding use \"unknown\"\n",
        "def prepare_sequence_word(input_text):\n",
        "    idxs = list()\n",
        "    for word in input_text:\n",
        "        if word in thai2dict:\n",
        "            idxs.append(thai2dict_to_ix[word])\n",
        "        else:\n",
        "            idxs.append(thai2dict_to_ix[\"unknown\"]) #Use UNK tag for unknown word\n",
        "    return idxs\n",
        "\n",
        "def prepare_sequence_target(input_label):\n",
        "    idxs = [ner_to_ix[w] for w in input_label]\n",
        "    return idxs"
      ]
    },
    {
      "cell_type": "code",
      "source": [
        "input_sent =[ [ word[0] for word in sent]for sent in train_data ] #words only\n",
        "train_targets =[ [ word[2] for word in sent]for sent in train_data ] #NER only\n",
        "\n",
        "input_val_sent =[ [ word[0] for word in sent]for sent in validate_data ] #words only\n",
        "validate_targets =[ [ word[2] for word in sent]for sent in validate_data ] #NER only\n",
        "\n",
        "input_test_sent =[ [ word[0] for word in sent]for sent in test_data ] #words only\n",
        "test_targets =[ [ word[2] for word in sent]for sent in test_data ] #NER only"
      ],
      "metadata": {
        "id": "538PqxNMJTHH"
      },
      "execution_count": null,
      "outputs": []
    },
    {
      "cell_type": "code",
      "source": [
        "#Prepare Training Dataset\n",
        "\n",
        "## Word Training\n",
        "X_word_tr = [prepare_sequence_word(s) for s in input_sent]\n",
        "X_word_tr = pad_sequences(maxlen=max_len, sequences=X_word_tr, value=thai2dict_to_ix[\"pad\"], padding='post', truncating='post')\n",
        "\n",
        "## Character Training\n",
        "X_char_tr = []\n",
        "for sentence in train_data:\n",
        "    sent_seq = []\n",
        "    for i in range(max_len):\n",
        "        word_seq = []\n",
        "        for j in range(max_len_char):\n",
        "            try:\n",
        "                if(sentence[i][0][j] in char2idx):\n",
        "                    word_seq.append(char2idx.get(sentence[i][0][j]))\n",
        "                else:\n",
        "                    word_seq.append(char2idx.get(\"unknown\"))\n",
        "            except:\n",
        "                word_seq.append(char2idx.get(\"pad\"))\n",
        "        sent_seq.append(word_seq)\n",
        "    X_char_tr.append(np.array(sent_seq))\n",
        "\n",
        "## Sequence Label Training\n",
        "y_tr = [prepare_sequence_target(s) for s in train_targets]\n",
        "y_tr = pad_sequences(maxlen=max_len, sequences=y_tr, value=ner_to_ix[\"pad\"], padding='post', truncating='post')\n",
        "y_tr = [to_categorical(i, num_classes=n_tag) for i in y_tr]"
      ],
      "metadata": {
        "id": "gW82UiuhJTKJ"
      },
      "execution_count": null,
      "outputs": []
    },
    {
      "cell_type": "code",
      "source": [
        "#Prepare Validate Dataset\n",
        "## Word validattion\n",
        "X_word_va = [prepare_sequence_word(s) for s in input_val_sent]\n",
        "X_word_va = pad_sequences(maxlen=max_len, sequences=X_word_va, value=thai2dict_to_ix[\"pad\"], padding='post', truncating='post')\n",
        "\n",
        "## Character Training\n",
        "X_char_va = []\n",
        "for sentence in validate_data:\n",
        "    sent_seq = []\n",
        "    for i in range(max_len):\n",
        "        word_seq = []\n",
        "        for j in range(max_len_char):\n",
        "            try:\n",
        "                if(sentence[i][0][j] in char2idx):\n",
        "                    word_seq.append(char2idx.get(sentence[i][0][j]))\n",
        "                else:\n",
        "                    word_seq.append(char2idx.get(\"unknown\"))\n",
        "            except:\n",
        "                word_seq.append(char2idx.get(\"pad\"))\n",
        "        sent_seq.append(word_seq)\n",
        "    X_char_va.append(np.array(sent_seq))\n",
        "\n",
        "## Sequence Label Training\n",
        "y_va = [prepare_sequence_target(s) for s in validate_targets]\n",
        "y_va = pad_sequences(maxlen=max_len, sequences=y_va, value=ner_to_ix[\"pad\"], padding='post', truncating='post')\n",
        "y_va = [to_categorical(i, num_classes=n_tag) for i in y_va]"
      ],
      "metadata": {
        "id": "dNrNqwIjJTNL"
      },
      "execution_count": null,
      "outputs": []
    },
    {
      "cell_type": "code",
      "source": [
        "#Prepare Testing Dataset\n",
        "\n",
        "## Word Testing\n",
        "X_word_te = [prepare_sequence_word(s) for s in input_test_sent]\n",
        "X_word_te = pad_sequences(maxlen=max_len, sequences=X_word_te, value=thai2dict_to_ix[\"pad\"], padding='post', truncating='post')\n",
        "\n",
        "## Character Testing\n",
        "X_char_te = []\n",
        "for sentence in test_data:\n",
        "    sent_seq = []\n",
        "    for i in range(max_len):\n",
        "        word_seq = []\n",
        "        for j in range(max_len_char):\n",
        "            try:\n",
        "                if(sentence[i][0][j] in char2idx):\n",
        "                    word_seq.append(char2idx.get(sentence[i][0][j]))\n",
        "                else:\n",
        "                    word_seq.append(char2idx.get(\"unknown\"))\n",
        "            except:\n",
        "                word_seq.append(char2idx.get(\"pad\"))    \n",
        "        sent_seq.append(word_seq)\n",
        "    X_char_te.append(np.array(sent_seq))\n",
        "\n",
        "## Sequence Label Testing\n",
        "y_te = [prepare_sequence_target(s) for s in test_targets]\n",
        "y_te = pad_sequences(maxlen=max_len, sequences=y_te, value=ner_to_ix[\"pad\"], padding='post', truncating='post')\n",
        "y_te = [to_categorical(i, num_classes=n_tag) for i in y_te]"
      ],
      "metadata": {
        "id": "A1kin2x-JzaH"
      },
      "execution_count": null,
      "outputs": []
    },
    {
      "cell_type": "code",
      "source": [
        "MODEL_PATH = f'/content/drive/MyDrive/dissertation/TEXT DATA/TrainingData/Model_train/'"
      ],
      "metadata": {
        "id": "xSKtcWLXJ-HX"
      },
      "execution_count": null,
      "outputs": []
    },
    {
      "cell_type": "code",
      "source": [
        "#Initial Keras Model\n",
        "# Word Input\n",
        "word_in = Input(shape=(max_len,), name='word_input_')\n",
        "\n",
        "# Word Embedding Using Thai2Fit\n",
        "word_embeddings = Embedding(input_dim=n_thai2dict,\n",
        "                            output_dim=400,\n",
        "                            weights = [thai2fit_weight],input_length=max_len,\n",
        "                            mask_zero=False,\n",
        "                            name='word_embedding', trainable=False)(word_in)\n",
        "\n",
        "# Character Input\n",
        "char_in = Input(shape=(max_len, max_len_char,), name='char_input')\n",
        "\n",
        "# Character Embedding\n",
        "emb_char = TimeDistributed(Embedding(input_dim=n_chars, output_dim=char_embedding_dim, \n",
        "                           input_length=max_len_char, mask_zero=False))(char_in)\n",
        "\n",
        "# Character Sequence to Vector via BiLSTM\n",
        "char_enc = TimeDistributed(Bidirectional(LSTM(units=character_LSTM_unit, return_sequences=False, recurrent_dropout=lstm_recurrent_dropout)))(emb_char)\n",
        "\n",
        "\n",
        "# Concatenate All Embedding\n",
        "all_word_embeddings = concatenate([word_embeddings, char_enc])\n",
        "all_word_embeddings = SpatialDropout1D(0.3)(all_word_embeddings)\n",
        "\n",
        "# Main Model BiLSTM\n",
        "main_lstm = Bidirectional(LSTM(units=main_lstm_unit, return_sequences=True,\n",
        "                               recurrent_dropout=lstm_recurrent_dropout))(all_word_embeddings)\n",
        "main_lstm = TimeDistributed(Dense(50, activation=\"relu\"))(main_lstm)\n",
        "\n",
        "# CRF\n",
        "crf = CRF(n_tag)  # CRF layer\n",
        "out = crf(main_lstm)  # output\n",
        "\n",
        "# Model\n",
        "model = Model([word_in, char_in], out)\n",
        "\n",
        "#load save model and continue train model from last epochs\n",
        "#load_filepath=MODEL_PATH+\"last_weights60.hdf5\"\n",
        "#model.load_weights(load_filepath)\n",
        "model.compile(optimizer=\"adam\", loss=crf.loss_function, metrics=[crf.accuracy])\n",
        "\n",
        "model.summary()"
      ],
      "metadata": {
        "colab": {
          "base_uri": "https://localhost:8080/"
        },
        "id": "nvEmiab6KAxd",
        "outputId": "9aa3cd7d-c307-402d-c1e3-9ee473c0c909"
      },
      "execution_count": null,
      "outputs": [
        {
          "output_type": "stream",
          "name": "stdout",
          "text": [
            "WARNING:tensorflow:From /tensorflow-1.15.2/python3.7/tensorflow_core/python/ops/resource_variable_ops.py:1630: calling BaseResourceVariable.__init__ (from tensorflow.python.ops.resource_variable_ops) with constraint is deprecated and will be removed in a future version.\n",
            "Instructions for updating:\n",
            "If using Keras pass *_constraint arguments to layers.\n"
          ]
        },
        {
          "output_type": "stream",
          "name": "stderr",
          "text": [
            "/usr/local/lib/python3.7/dist-packages/keras_contrib/layers/crf.py:346: UserWarning: CRF.loss_function is deprecated and it might be removed in the future. Please use losses.crf_loss instead.\n",
            "  warnings.warn('CRF.loss_function is deprecated '\n",
            "/usr/local/lib/python3.7/dist-packages/keras_contrib/layers/crf.py:353: UserWarning: CRF.accuracy is deprecated and it might be removed in the future. Please use metrics.crf_accuracy\n",
            "  warnings.warn('CRF.accuracy is deprecated and it '\n"
          ]
        },
        {
          "output_type": "stream",
          "name": "stdout",
          "text": [
            "WARNING:tensorflow:From /tensorflow-1.15.2/python3.7/tensorflow_core/python/ops/math_ops.py:2509: where (from tensorflow.python.ops.array_ops) is deprecated and will be removed in a future version.\n",
            "Instructions for updating:\n",
            "Use tf.where in 2.0, which has the same broadcast rule as np.where\n",
            "Model: \"model_1\"\n",
            "__________________________________________________________________________________________________\n",
            "Layer (type)                    Output Shape         Param #     Connected to                     \n",
            "==================================================================================================\n",
            "char_input (InputLayer)         (None, 250, 30)      0                                            \n",
            "__________________________________________________________________________________________________\n",
            "word_input_ (InputLayer)        (None, 250)          0                                            \n",
            "__________________________________________________________________________________________________\n",
            "time_distributed_1 (TimeDistrib (None, 250, 30, 32)  12768       char_input[0][0]                 \n",
            "__________________________________________________________________________________________________\n",
            "word_embedding (Embedding)      (None, 250, 400)     22270800    word_input_[0][0]                \n",
            "__________________________________________________________________________________________________\n",
            "time_distributed_2 (TimeDistrib (None, 250, 64)      16640       time_distributed_1[0][0]         \n",
            "__________________________________________________________________________________________________\n",
            "concatenate_1 (Concatenate)     (None, 250, 464)     0           word_embedding[0][0]             \n",
            "                                                                 time_distributed_2[0][0]         \n",
            "__________________________________________________________________________________________________\n",
            "spatial_dropout1d_1 (SpatialDro (None, 250, 464)     0           concatenate_1[0][0]              \n",
            "__________________________________________________________________________________________________\n",
            "bidirectional_2 (Bidirectional) (None, 250, 512)     1476608     spatial_dropout1d_1[0][0]        \n",
            "__________________________________________________________________________________________________\n",
            "time_distributed_3 (TimeDistrib (None, 250, 50)      25650       bidirectional_2[0][0]            \n",
            "__________________________________________________________________________________________________\n",
            "crf_1 (CRF)                     (None, 250, 38)      3458        time_distributed_3[0][0]         \n",
            "==================================================================================================\n",
            "Total params: 23,805,924\n",
            "Trainable params: 1,535,124\n",
            "Non-trainable params: 22,270,800\n",
            "__________________________________________________________________________________________________\n"
          ]
        }
      ]
    },
    {
      "cell_type": "code",
      "source": [
        "filepath=MODEL_PATH+\"weights-improvement-{epoch:02d}-{val_crf_viterbi_accuracy:.3f}.hdf5\"\n",
        "checkpoint = ModelCheckpoint(filepath, monitor='val_crf_viterbi_accuracy', verbose=1, save_best_only=True, mode='max')\n",
        "callbacks_list = [checkpoint]\n",
        "\n",
        "history = model.fit([X_word_tr,\n",
        "                     np.array(X_char_tr).reshape((len(X_char_tr), max_len, max_len_char))\n",
        "                     ],\n",
        "                     np.array(y_tr),\n",
        "                     batch_size=train_batch_size, epochs=train_epochs, verbose=1,callbacks=callbacks_list,\n",
        "                     validation_data=(\n",
        "                     [X_word_va,\n",
        "                     np.array(X_char_va).reshape((len(X_char_va), max_len, max_len_char))\n",
        "                     ],\n",
        "                     np.array(y_va))\n",
        "                   )"
      ],
      "metadata": {
        "colab": {
          "base_uri": "https://localhost:8080/"
        },
        "id": "Lh_Ts9VcKA5u",
        "outputId": "990532ba-be3a-4c5d-9cb6-3889b870dba9"
      },
      "execution_count": null,
      "outputs": [
        {
          "output_type": "stream",
          "name": "stdout",
          "text": [
            "WARNING:tensorflow:From /tensorflow-1.15.2/python3.7/keras/backend/tensorflow_backend.py:422: The name tf.global_variables is deprecated. Please use tf.compat.v1.global_variables instead.\n",
            "\n",
            "Train on 17955 samples, validate on 4489 samples\n",
            "Epoch 1/60\n",
            "17955/17955 [==============================] - 405s 23ms/step - loss: 0.0385 - crf_viterbi_accuracy: 0.9927 - val_loss: 0.0118 - val_crf_viterbi_accuracy: 0.9976\n",
            "\n",
            "Epoch 00001: val_crf_viterbi_accuracy improved from -inf to 0.99758, saving model to /content/drive/MyDrive/dissertation/TEXT DATA/TrainingData/Model_train/weights-improvement-01-0.998.hdf5\n",
            "Epoch 2/60\n",
            "17955/17955 [==============================] - 403s 22ms/step - loss: 0.0113 - crf_viterbi_accuracy: 0.9974 - val_loss: 0.0082 - val_crf_viterbi_accuracy: 0.9976\n",
            "\n",
            "Epoch 00002: val_crf_viterbi_accuracy improved from 0.99758 to 0.99762, saving model to /content/drive/MyDrive/dissertation/TEXT DATA/TrainingData/Model_train/weights-improvement-02-0.998.hdf5\n",
            "Epoch 3/60\n",
            "17955/17955 [==============================] - 403s 22ms/step - loss: 0.0078 - crf_viterbi_accuracy: 0.9975 - val_loss: 0.0054 - val_crf_viterbi_accuracy: 0.9977\n",
            "\n",
            "Epoch 00003: val_crf_viterbi_accuracy improved from 0.99762 to 0.99772, saving model to /content/drive/MyDrive/dissertation/TEXT DATA/TrainingData/Model_train/weights-improvement-03-0.998.hdf5\n",
            "Epoch 4/60\n",
            "17955/17955 [==============================] - 401s 22ms/step - loss: 0.0049 - crf_viterbi_accuracy: 0.9976 - val_loss: 0.0028 - val_crf_viterbi_accuracy: 0.9978\n",
            "\n",
            "Epoch 00004: val_crf_viterbi_accuracy improved from 0.99772 to 0.99777, saving model to /content/drive/MyDrive/dissertation/TEXT DATA/TrainingData/Model_train/weights-improvement-04-0.998.hdf5\n",
            "Epoch 5/60\n",
            "17955/17955 [==============================] - 398s 22ms/step - loss: 0.0023 - crf_viterbi_accuracy: 0.9977 - val_loss: 3.3648e-04 - val_crf_viterbi_accuracy: 0.9979\n",
            "\n",
            "Epoch 00005: val_crf_viterbi_accuracy improved from 0.99777 to 0.99789, saving model to /content/drive/MyDrive/dissertation/TEXT DATA/TrainingData/Model_train/weights-improvement-05-0.998.hdf5\n",
            "Epoch 6/60\n",
            "17955/17955 [==============================] - 395s 22ms/step - loss: -3.6181e-04 - crf_viterbi_accuracy: 0.9977 - val_loss: -0.0021 - val_crf_viterbi_accuracy: 0.9978\n",
            "\n",
            "Epoch 00006: val_crf_viterbi_accuracy did not improve from 0.99789\n",
            "Epoch 7/60\n",
            "17955/17955 [==============================] - 395s 22ms/step - loss: -0.0030 - crf_viterbi_accuracy: 0.9978 - val_loss: -0.0047 - val_crf_viterbi_accuracy: 0.9978\n",
            "\n",
            "Epoch 00007: val_crf_viterbi_accuracy did not improve from 0.99789\n",
            "Epoch 8/60\n",
            "17955/17955 [==============================] - 397s 22ms/step - loss: -0.0057 - crf_viterbi_accuracy: 0.9978 - val_loss: -0.0074 - val_crf_viterbi_accuracy: 0.9980\n",
            "\n",
            "Epoch 00008: val_crf_viterbi_accuracy improved from 0.99789 to 0.99802, saving model to /content/drive/MyDrive/dissertation/TEXT DATA/TrainingData/Model_train/weights-improvement-08-0.998.hdf5\n",
            "Epoch 9/60\n",
            "17955/17955 [==============================] - 396s 22ms/step - loss: -0.0084 - crf_viterbi_accuracy: 0.9979 - val_loss: -0.0099 - val_crf_viterbi_accuracy: 0.9980\n",
            "\n",
            "Epoch 00009: val_crf_viterbi_accuracy did not improve from 0.99802\n",
            "Epoch 10/60\n",
            "17955/17955 [==============================] - 393s 22ms/step - loss: -0.0110 - crf_viterbi_accuracy: 0.9980 - val_loss: -0.0124 - val_crf_viterbi_accuracy: 0.9980\n",
            "\n",
            "Epoch 00010: val_crf_viterbi_accuracy did not improve from 0.99802\n",
            "Epoch 11/60\n",
            "17955/17955 [==============================] - 403s 22ms/step - loss: -0.0136 - crf_viterbi_accuracy: 0.9980 - val_loss: -0.0150 - val_crf_viterbi_accuracy: 0.9981\n",
            "\n",
            "Epoch 00011: val_crf_viterbi_accuracy improved from 0.99802 to 0.99808, saving model to /content/drive/MyDrive/dissertation/TEXT DATA/TrainingData/Model_train/weights-improvement-11-0.998.hdf5\n",
            "Epoch 12/60\n",
            "17955/17955 [==============================] - 398s 22ms/step - loss: -0.0162 - crf_viterbi_accuracy: 0.9981 - val_loss: -0.0174 - val_crf_viterbi_accuracy: 0.9982\n",
            "\n",
            "Epoch 00012: val_crf_viterbi_accuracy improved from 0.99808 to 0.99816, saving model to /content/drive/MyDrive/dissertation/TEXT DATA/TrainingData/Model_train/weights-improvement-12-0.998.hdf5\n",
            "Epoch 13/60\n",
            "17955/17955 [==============================] - 396s 22ms/step - loss: -0.0187 - crf_viterbi_accuracy: 0.9982 - val_loss: -0.0198 - val_crf_viterbi_accuracy: 0.9981\n",
            "\n",
            "Epoch 00013: val_crf_viterbi_accuracy did not improve from 0.99816\n",
            "Epoch 14/60\n",
            "17955/17955 [==============================] - 395s 22ms/step - loss: -0.0212 - crf_viterbi_accuracy: 0.9982 - val_loss: -0.0221 - val_crf_viterbi_accuracy: 0.9981\n",
            "\n",
            "Epoch 00014: val_crf_viterbi_accuracy did not improve from 0.99816\n",
            "Epoch 15/60\n",
            "17955/17955 [==============================] - 395s 22ms/step - loss: -0.0237 - crf_viterbi_accuracy: 0.9983 - val_loss: -0.0244 - val_crf_viterbi_accuracy: 0.9981\n",
            "\n",
            "Epoch 00015: val_crf_viterbi_accuracy did not improve from 0.99816\n",
            "Epoch 16/60\n",
            "17955/17955 [==============================] - 396s 22ms/step - loss: -0.0261 - crf_viterbi_accuracy: 0.9983 - val_loss: -0.0267 - val_crf_viterbi_accuracy: 0.9981\n",
            "\n",
            "Epoch 00016: val_crf_viterbi_accuracy did not improve from 0.99816\n",
            "Epoch 17/60\n",
            "17955/17955 [==============================] - 398s 22ms/step - loss: -0.0285 - crf_viterbi_accuracy: 0.9984 - val_loss: -0.0291 - val_crf_viterbi_accuracy: 0.9981\n",
            "\n",
            "Epoch 00017: val_crf_viterbi_accuracy did not improve from 0.99816\n",
            "Epoch 18/60\n",
            "17955/17955 [==============================] - 399s 22ms/step - loss: -0.0309 - crf_viterbi_accuracy: 0.9984 - val_loss: -0.0314 - val_crf_viterbi_accuracy: 0.9982\n",
            "\n",
            "Epoch 00018: val_crf_viterbi_accuracy improved from 0.99816 to 0.99820, saving model to /content/drive/MyDrive/dissertation/TEXT DATA/TrainingData/Model_train/weights-improvement-18-0.998.hdf5\n",
            "Epoch 19/60\n",
            "17955/17955 [==============================] - 401s 22ms/step - loss: -0.0333 - crf_viterbi_accuracy: 0.9984 - val_loss: -0.0337 - val_crf_viterbi_accuracy: 0.9983\n",
            "\n",
            "Epoch 00019: val_crf_viterbi_accuracy improved from 0.99820 to 0.99828, saving model to /content/drive/MyDrive/dissertation/TEXT DATA/TrainingData/Model_train/weights-improvement-19-0.998.hdf5\n",
            "Epoch 20/60\n",
            "17955/17955 [==============================] - 404s 23ms/step - loss: -0.0357 - crf_viterbi_accuracy: 0.9985 - val_loss: -0.0360 - val_crf_viterbi_accuracy: 0.9982\n",
            "\n",
            "Epoch 00020: val_crf_viterbi_accuracy did not improve from 0.99828\n",
            "Epoch 21/60\n",
            "17955/17955 [==============================] - 402s 22ms/step - loss: -0.0380 - crf_viterbi_accuracy: 0.9986 - val_loss: -0.0382 - val_crf_viterbi_accuracy: 0.9984\n",
            "\n",
            "Epoch 00021: val_crf_viterbi_accuracy improved from 0.99828 to 0.99836, saving model to /content/drive/MyDrive/dissertation/TEXT DATA/TrainingData/Model_train/weights-improvement-21-0.998.hdf5\n",
            "Epoch 22/60\n",
            "17955/17955 [==============================] - 399s 22ms/step - loss: -0.0404 - crf_viterbi_accuracy: 0.9986 - val_loss: -0.0404 - val_crf_viterbi_accuracy: 0.9983\n",
            "\n",
            "Epoch 00022: val_crf_viterbi_accuracy did not improve from 0.99836\n",
            "Epoch 23/60\n",
            "17955/17955 [==============================] - 397s 22ms/step - loss: -0.0427 - crf_viterbi_accuracy: 0.9987 - val_loss: -0.0427 - val_crf_viterbi_accuracy: 0.9982\n",
            "\n",
            "Epoch 00023: val_crf_viterbi_accuracy did not improve from 0.99836\n",
            "Epoch 24/60\n",
            "17955/17955 [==============================] - 398s 22ms/step - loss: -0.0451 - crf_viterbi_accuracy: 0.9987 - val_loss: -0.0449 - val_crf_viterbi_accuracy: 0.9982\n",
            "\n",
            "Epoch 00024: val_crf_viterbi_accuracy did not improve from 0.99836\n",
            "Epoch 25/60\n",
            "17955/17955 [==============================] - 399s 22ms/step - loss: -0.0474 - crf_viterbi_accuracy: 0.9988 - val_loss: -0.0472 - val_crf_viterbi_accuracy: 0.9983\n",
            "\n",
            "Epoch 00025: val_crf_viterbi_accuracy did not improve from 0.99836\n",
            "Epoch 26/60\n",
            "17955/17955 [==============================] - 400s 22ms/step - loss: -0.0498 - crf_viterbi_accuracy: 0.9988 - val_loss: -0.0495 - val_crf_viterbi_accuracy: 0.9983\n",
            "\n",
            "Epoch 00026: val_crf_viterbi_accuracy did not improve from 0.99836\n",
            "Epoch 27/60\n",
            "17955/17955 [==============================] - 406s 23ms/step - loss: -0.0521 - crf_viterbi_accuracy: 0.9989 - val_loss: -0.0516 - val_crf_viterbi_accuracy: 0.9982\n",
            "\n",
            "Epoch 00027: val_crf_viterbi_accuracy did not improve from 0.99836\n",
            "Epoch 28/60\n",
            "17955/17955 [==============================] - 401s 22ms/step - loss: -0.0544 - crf_viterbi_accuracy: 0.9989 - val_loss: -0.0540 - val_crf_viterbi_accuracy: 0.9984\n",
            "\n",
            "Epoch 00028: val_crf_viterbi_accuracy improved from 0.99836 to 0.99837, saving model to /content/drive/MyDrive/dissertation/TEXT DATA/TrainingData/Model_train/weights-improvement-28-0.998.hdf5\n",
            "Epoch 29/60\n",
            "17955/17955 [==============================] - 406s 23ms/step - loss: -0.0568 - crf_viterbi_accuracy: 0.9990 - val_loss: -0.0560 - val_crf_viterbi_accuracy: 0.9982\n",
            "\n",
            "Epoch 00029: val_crf_viterbi_accuracy did not improve from 0.99837\n",
            "Epoch 30/60\n",
            "17955/17955 [==============================] - 405s 23ms/step - loss: -0.0591 - crf_viterbi_accuracy: 0.9990 - val_loss: -0.0581 - val_crf_viterbi_accuracy: 0.9982\n",
            "\n",
            "Epoch 00030: val_crf_viterbi_accuracy did not improve from 0.99837\n",
            "Epoch 31/60\n",
            "17955/17955 [==============================] - 397s 22ms/step - loss: -0.0614 - crf_viterbi_accuracy: 0.9991 - val_loss: -0.0605 - val_crf_viterbi_accuracy: 0.9982\n",
            "\n",
            "Epoch 00031: val_crf_viterbi_accuracy did not improve from 0.99837\n",
            "Epoch 32/60\n",
            "17955/17955 [==============================] - 397s 22ms/step - loss: -0.0637 - crf_viterbi_accuracy: 0.9990 - val_loss: -0.0627 - val_crf_viterbi_accuracy: 0.9982\n",
            "\n",
            "Epoch 00032: val_crf_viterbi_accuracy did not improve from 0.99837\n",
            "Epoch 33/60\n",
            "17955/17955 [==============================] - 396s 22ms/step - loss: -0.0660 - crf_viterbi_accuracy: 0.9991 - val_loss: -0.0651 - val_crf_viterbi_accuracy: 0.9983\n",
            "\n",
            "Epoch 00033: val_crf_viterbi_accuracy did not improve from 0.99837\n",
            "Epoch 34/60\n",
            "17955/17955 [==============================] - 396s 22ms/step - loss: -0.0683 - crf_viterbi_accuracy: 0.9991 - val_loss: -0.0670 - val_crf_viterbi_accuracy: 0.9984\n",
            "\n",
            "Epoch 00034: val_crf_viterbi_accuracy improved from 0.99837 to 0.99844, saving model to /content/drive/MyDrive/dissertation/TEXT DATA/TrainingData/Model_train/weights-improvement-34-0.998.hdf5\n",
            "Epoch 35/60\n",
            "17955/17955 [==============================] - 397s 22ms/step - loss: -0.0706 - crf_viterbi_accuracy: 0.9991 - val_loss: -0.0693 - val_crf_viterbi_accuracy: 0.9982\n",
            "\n",
            "Epoch 00035: val_crf_viterbi_accuracy did not improve from 0.99844\n",
            "Epoch 36/60\n",
            "17955/17955 [==============================] - 395s 22ms/step - loss: -0.0729 - crf_viterbi_accuracy: 0.9992 - val_loss: -0.0716 - val_crf_viterbi_accuracy: 0.9983\n",
            "\n",
            "Epoch 00036: val_crf_viterbi_accuracy did not improve from 0.99844\n",
            "Epoch 37/60\n",
            "17955/17955 [==============================] - 396s 22ms/step - loss: -0.0751 - crf_viterbi_accuracy: 0.9992 - val_loss: -0.0738 - val_crf_viterbi_accuracy: 0.9982\n",
            "\n",
            "Epoch 00037: val_crf_viterbi_accuracy did not improve from 0.99844\n",
            "Epoch 38/60\n",
            "17955/17955 [==============================] - 396s 22ms/step - loss: -0.0774 - crf_viterbi_accuracy: 0.9992 - val_loss: -0.0759 - val_crf_viterbi_accuracy: 0.9983\n",
            "\n",
            "Epoch 00038: val_crf_viterbi_accuracy did not improve from 0.99844\n",
            "Epoch 39/60\n",
            "17955/17955 [==============================] - 397s 22ms/step - loss: -0.0797 - crf_viterbi_accuracy: 0.9992 - val_loss: -0.0781 - val_crf_viterbi_accuracy: 0.9984\n",
            "\n",
            "Epoch 00039: val_crf_viterbi_accuracy did not improve from 0.99844\n",
            "Epoch 40/60\n",
            "17955/17955 [==============================] - 398s 22ms/step - loss: -0.0820 - crf_viterbi_accuracy: 0.9993 - val_loss: -0.0804 - val_crf_viterbi_accuracy: 0.9982\n",
            "\n",
            "Epoch 00040: val_crf_viterbi_accuracy did not improve from 0.99844\n",
            "Epoch 41/60\n",
            "17955/17955 [==============================] - 397s 22ms/step - loss: -0.0843 - crf_viterbi_accuracy: 0.9993 - val_loss: -0.0826 - val_crf_viterbi_accuracy: 0.9983\n",
            "\n",
            "Epoch 00041: val_crf_viterbi_accuracy did not improve from 0.99844\n",
            "Epoch 42/60\n",
            "17955/17955 [==============================] - 396s 22ms/step - loss: -0.0866 - crf_viterbi_accuracy: 0.9993 - val_loss: -0.0847 - val_crf_viterbi_accuracy: 0.9983\n",
            "\n",
            "Epoch 00042: val_crf_viterbi_accuracy did not improve from 0.99844\n",
            "Epoch 43/60\n",
            "17955/17955 [==============================] - 397s 22ms/step - loss: -0.0888 - crf_viterbi_accuracy: 0.9993 - val_loss: -0.0868 - val_crf_viterbi_accuracy: 0.9981\n",
            "\n",
            "Epoch 00043: val_crf_viterbi_accuracy did not improve from 0.99844\n",
            "Epoch 44/60\n",
            "17955/17955 [==============================] - 397s 22ms/step - loss: -0.0911 - crf_viterbi_accuracy: 0.9993 - val_loss: -0.0891 - val_crf_viterbi_accuracy: 0.9983\n",
            "\n",
            "Epoch 00044: val_crf_viterbi_accuracy did not improve from 0.99844\n",
            "Epoch 45/60\n",
            "17955/17955 [==============================] - 396s 22ms/step - loss: -0.0934 - crf_viterbi_accuracy: 0.9994 - val_loss: -0.0911 - val_crf_viterbi_accuracy: 0.9983\n",
            "\n",
            "Epoch 00045: val_crf_viterbi_accuracy did not improve from 0.99844\n",
            "Epoch 46/60\n",
            "17955/17955 [==============================] - 396s 22ms/step - loss: -0.0956 - crf_viterbi_accuracy: 0.9994 - val_loss: -0.0938 - val_crf_viterbi_accuracy: 0.9982\n",
            "\n",
            "Epoch 00046: val_crf_viterbi_accuracy did not improve from 0.99844\n",
            "Epoch 47/60\n",
            "17955/17955 [==============================] - 396s 22ms/step - loss: -0.0979 - crf_viterbi_accuracy: 0.9994 - val_loss: -0.0959 - val_crf_viterbi_accuracy: 0.9983\n",
            "\n",
            "Epoch 00047: val_crf_viterbi_accuracy did not improve from 0.99844\n",
            "Epoch 48/60\n",
            "17955/17955 [==============================] - 395s 22ms/step - loss: -0.1002 - crf_viterbi_accuracy: 0.9994 - val_loss: -0.0980 - val_crf_viterbi_accuracy: 0.9983\n",
            "\n",
            "Epoch 00048: val_crf_viterbi_accuracy did not improve from 0.99844\n",
            "Epoch 49/60\n",
            "17955/17955 [==============================] - 396s 22ms/step - loss: -0.1024 - crf_viterbi_accuracy: 0.9994 - val_loss: -0.1004 - val_crf_viterbi_accuracy: 0.9984\n",
            "\n",
            "Epoch 00049: val_crf_viterbi_accuracy did not improve from 0.99844\n",
            "Epoch 50/60\n",
            "17955/17955 [==============================] - 395s 22ms/step - loss: -0.1047 - crf_viterbi_accuracy: 0.9994 - val_loss: -0.1023 - val_crf_viterbi_accuracy: 0.9983\n",
            "\n",
            "Epoch 00050: val_crf_viterbi_accuracy did not improve from 0.99844\n",
            "Epoch 51/60\n",
            "17955/17955 [==============================] - 392s 22ms/step - loss: -0.1070 - crf_viterbi_accuracy: 0.9995 - val_loss: -0.1044 - val_crf_viterbi_accuracy: 0.9983\n",
            "\n",
            "Epoch 00051: val_crf_viterbi_accuracy did not improve from 0.99844\n",
            "Epoch 52/60\n",
            "17955/17955 [==============================] - 392s 22ms/step - loss: -0.1093 - crf_viterbi_accuracy: 0.9995 - val_loss: -0.1068 - val_crf_viterbi_accuracy: 0.9983\n",
            "\n",
            "Epoch 00052: val_crf_viterbi_accuracy did not improve from 0.99844\n",
            "Epoch 53/60\n",
            "17955/17955 [==============================] - 391s 22ms/step - loss: -0.1115 - crf_viterbi_accuracy: 0.9995 - val_loss: -0.1090 - val_crf_viterbi_accuracy: 0.9983\n",
            "\n",
            "Epoch 00053: val_crf_viterbi_accuracy did not improve from 0.99844\n",
            "Epoch 54/60\n",
            "17955/17955 [==============================] - 390s 22ms/step - loss: -0.1137 - crf_viterbi_accuracy: 0.9994 - val_loss: -0.1117 - val_crf_viterbi_accuracy: 0.9982\n",
            "\n",
            "Epoch 00054: val_crf_viterbi_accuracy did not improve from 0.99844\n",
            "Epoch 55/60\n",
            "17955/17955 [==============================] - 392s 22ms/step - loss: -0.1160 - crf_viterbi_accuracy: 0.9995 - val_loss: -0.1134 - val_crf_viterbi_accuracy: 0.9983\n",
            "\n",
            "Epoch 00055: val_crf_viterbi_accuracy did not improve from 0.99844\n",
            "Epoch 56/60\n",
            "17955/17955 [==============================] - 391s 22ms/step - loss: -0.1183 - crf_viterbi_accuracy: 0.9995 - val_loss: -0.1157 - val_crf_viterbi_accuracy: 0.9983\n",
            "\n",
            "Epoch 00056: val_crf_viterbi_accuracy did not improve from 0.99844\n",
            "Epoch 57/60\n",
            "17955/17955 [==============================] - 391s 22ms/step - loss: -0.1206 - crf_viterbi_accuracy: 0.9995 - val_loss: -0.1180 - val_crf_viterbi_accuracy: 0.9983\n",
            "\n",
            "Epoch 00057: val_crf_viterbi_accuracy did not improve from 0.99844\n",
            "Epoch 58/60\n",
            "17955/17955 [==============================] - 391s 22ms/step - loss: -0.1229 - crf_viterbi_accuracy: 0.9995 - val_loss: -0.1200 - val_crf_viterbi_accuracy: 0.9983\n",
            "\n",
            "Epoch 00058: val_crf_viterbi_accuracy did not improve from 0.99844\n",
            "Epoch 59/60\n",
            "17955/17955 [==============================] - 393s 22ms/step - loss: -0.1251 - crf_viterbi_accuracy: 0.9995 - val_loss: -0.1224 - val_crf_viterbi_accuracy: 0.9983\n",
            "\n",
            "Epoch 00059: val_crf_viterbi_accuracy did not improve from 0.99844\n",
            "Epoch 60/60\n",
            "17955/17955 [==============================] - 392s 22ms/step - loss: -0.1273 - crf_viterbi_accuracy: 0.9995 - val_loss: -0.1244 - val_crf_viterbi_accuracy: 0.9982\n",
            "\n",
            "Epoch 00060: val_crf_viterbi_accuracy did not improve from 0.99844\n"
          ]
        }
      ]
    },
    {
      "cell_type": "code",
      "source": [
        "save_filepath=MODEL_PATH+\"bi-lstm-crf_last_weight-60.hdf5\"\n",
        "model.save_weights(save_filepath)"
      ],
      "metadata": {
        "id": "VlZg9Yibemd0"
      },
      "execution_count": null,
      "outputs": []
    },
    {
      "cell_type": "code",
      "source": [
        "hist = pd.DataFrame(history.history)\n",
        "\n",
        "plt.style.use(\"ggplot\")\n",
        "plt.figure(figsize=(12,12))\n",
        "plt.plot(hist[\"crf_viterbi_accuracy\"], label='train')\n",
        "plt.plot(hist[\"val_crf_viterbi_accuracy\"], label='validate')\n",
        "plt.legend()\n",
        "plt.show()"
      ],
      "metadata": {
        "colab": {
          "base_uri": "https://localhost:8080/",
          "height": 700
        },
        "id": "HcDB_770KA8q",
        "outputId": "ed807797-09d3-4a32-9689-77521b6c407e"
      },
      "execution_count": null,
      "outputs": [
        {
          "output_type": "display_data",
          "data": {
            "text/plain": [
              "<Figure size 864x864 with 1 Axes>"
            ],
            "image/png": "[encoded data removed]"
          },
          "metadata": {}
        }
      ]
    },
    {
      "cell_type": "code",
      "source": [
        "hist = pd.DataFrame(history.history)\n",
        "\n",
        "plt.style.use(\"ggplot\")\n",
        "plt.figure(figsize=(12,12))\n",
        "plt.plot(hist[\"loss\"], label='loss')\n",
        "plt.plot(hist[\"val_loss\"], label='validate_loss')\n",
        "plt.legend()\n",
        "plt.show()"
      ],
      "metadata": {
        "colab": {
          "base_uri": "https://localhost:8080/",
          "height": 700
        },
        "id": "-VzAJLzDKA_i",
        "outputId": "06b765e0-0511-4775-c632-32dbeef2edb0"
      },
      "execution_count": null,
      "outputs": [
        {
          "output_type": "display_data",
          "data": {
            "text/plain": [
              "<Figure size 864x864 with 1 Axes>"
            ],
            "image/png": "[encoded data removed]"
          },
          "metadata": {}
        }
      ]
    },
    {
      "cell_type": "code",
      "execution_count": null,
      "metadata": {
        "id": "M88MkUn1EVE6",
        "colab": {
          "base_uri": "https://localhost:8080/"
        },
        "outputId": "b78a53a4-ccf5-46d9-b080-c27ea6a7397c"
      },
      "outputs": [
        {
          "output_type": "stream",
          "name": "stdout",
          "text": [
            "5617/5617 [==============================] - 47s 8ms/step\n"
          ]
        }
      ],
      "source": [
        "pred_model = model.predict([X_word_te,np.array(X_char_te).reshape((len(X_char_te),max_len, max_len_char))], verbose=1)"
      ]
    },
    {
      "cell_type": "code",
      "source": [
        "y_pred = []\n",
        "y_true = []\n",
        "\n",
        "for i in range(0,len(pred_model)):\n",
        "    try:\n",
        "        out = np.argmax(pred_model[i], axis=-1)\n",
        "        true = np.argmax(y_te[i], axis=-1)\n",
        "        revert_pred=[ix_to_ner[i] for i in out]\n",
        "        revert_true=[ix_to_ner[i] for i in true]\n",
        "        y_pred.append(revert_pred)\n",
        "        y_true.append(revert_true)\n",
        "    except:\n",
        "        print (i)"
      ],
      "metadata": {
        "id": "X1Vsjfs4x6RV"
      },
      "execution_count": null,
      "outputs": []
    },
    {
      "cell_type": "code",
      "source": [
        "def ner_classification_report(y_true, y_pred):\n",
        " \n",
        "    lb = LabelBinarizer()\n",
        "    y_true_combined = lb.fit_transform(list(chain.from_iterable(y_true)))\n",
        "    y_pred_combined = lb.transform(list(chain.from_iterable(y_pred)))\n",
        "    tagset = set(lb.classes_) - {'O', 'pad'} #{'pad'} \n",
        "    tagset = sorted(tagset, key=lambda tag: tag.split('-', 1)[::-1])\n",
        "    #tagset = list(sorted(set(lb.classes_)))\n",
        "    #tagset = tagset[:-2]\n",
        "    print(tagset)\n",
        "    class_indices = {cls: idx for idx, cls in enumerate(lb.classes_)}\n",
        "    \n",
        "    return classification_report(\n",
        "        y_true_combined,\n",
        "        y_pred_combined,\n",
        "        labels = [class_indices[cls] for cls in tagset],\n",
        "        target_names = tagset,\n",
        "        digits=4\n",
        "    )"
      ],
      "metadata": {
        "id": "ApRiVaknx6UP"
      },
      "execution_count": null,
      "outputs": []
    },
    {
      "cell_type": "code",
      "source": [
        "print(ner_classification_report(y_true,y_pred))"
      ],
      "metadata": {
        "colab": {
          "base_uri": "https://localhost:8080/"
        },
        "id": "TPu5OaRgx6Wy",
        "outputId": "fa4a35ca-7a82-4345-9f0c-36c9cf0056cd"
      },
      "execution_count": null,
      "outputs": [
        {
          "output_type": "stream",
          "name": "stdout",
          "text": [
            "['B-ACP', 'I-ACP', 'B-ADMIN', 'I-ADMIN', 'B-BSN', 'I-BSN', 'B-DEP', 'I-DEP', 'B-FPLACE', 'I-FPLACE', 'B-GOV', 'I-GOV', 'B-HP', 'I-HP', 'B-MKT', 'I-MKT', 'B-MON', 'I-MON', 'B-NAT', 'I-NAT', 'B-OTHER', 'I-OTHER', 'B-RCT', 'I-RCT', 'B-RES', 'I-RES', 'B-ROAD', 'I-ROAD', 'B-RP', 'I-RP', 'B-RT', 'I-RT', 'B-STORE', 'I-STORE', 'B-TRAN', 'I-TRAN']\n"
          ]
        },
        {
          "output_type": "stream",
          "name": "stderr",
          "text": [
            "/usr/local/lib/python3.7/dist-packages/sklearn/metrics/_classification.py:1318: UndefinedMetricWarning: Precision and F-score are ill-defined and being set to 0.0 in labels with no predicted samples. Use `zero_division` parameter to control this behavior.\n",
            "  _warn_prf(average, modifier, msg_start, len(result))\n"
          ]
        },
        {
          "output_type": "stream",
          "name": "stdout",
          "text": [
            "              precision    recall  f1-score   support\n",
            "\n",
            "       B-ACP     0.8378    0.8378    0.8378        37\n",
            "       I-ACP     0.8627    0.8381    0.8502       105\n",
            "     B-ADMIN     0.9322    0.8900    0.9106       309\n",
            "     I-ADMIN     1.0000    0.8507    0.9194        67\n",
            "       B-BSN     0.8400    0.8077    0.8235        26\n",
            "       I-BSN     0.8971    0.7262    0.8026        84\n",
            "       B-DEP     0.9062    0.8447    0.8744       103\n",
            "       I-DEP     0.8750    0.7917    0.8312       168\n",
            "    B-FPLACE     0.8646    0.8384    0.8513        99\n",
            "    I-FPLACE     0.9545    0.7778    0.8571        27\n",
            "       B-GOV     0.8095    0.6800    0.7391        25\n",
            "       I-GOV     0.6017    0.7802    0.6794        91\n",
            "        B-HP     0.8182    0.7500    0.7826        24\n",
            "        I-HP     0.9032    0.6667    0.7671        84\n",
            "       B-MKT     0.8571    1.0000    0.9231        18\n",
            "       I-MKT     0.8235    1.0000    0.9032        14\n",
            "       B-MON     1.0000    0.5000    0.6667         2\n",
            "       I-MON     0.0000    0.0000    0.0000         1\n",
            "       B-NAT     0.9000    0.8182    0.8571        11\n",
            "       I-NAT     1.0000    0.5833    0.7368        12\n",
            "     B-OTHER     1.0000    1.0000    1.0000         3\n",
            "     I-OTHER     1.0000    1.0000    1.0000         6\n",
            "       B-RCT     0.7907    0.7727    0.7816        44\n",
            "       I-RCT     0.8375    0.7882    0.8121        85\n",
            "       B-RES     0.8667    0.8667    0.8667        30\n",
            "       I-RES     0.8152    0.8427    0.8287        89\n",
            "      B-ROAD     0.8589    0.9032    0.8805       155\n",
            "      I-ROAD     0.7429    0.9286    0.8254       140\n",
            "        B-RP     0.9423    0.9608    0.9515        51\n",
            "        I-RP     0.9245    0.9074    0.9159       108\n",
            "        B-RT     0.8421    0.8682    0.8550       129\n",
            "        I-RT     0.8390    0.9106    0.8733       492\n",
            "     B-STORE     0.5556    0.8333    0.6667        24\n",
            "     I-STORE     0.4909    0.9310    0.6429        87\n",
            "      B-TRAN     0.9412    0.8205    0.8767        39\n",
            "      I-TRAN     0.9403    0.5943    0.7283       106\n",
            "\n",
            "   micro avg     0.8318    0.8470    0.8393      2895\n",
            "   macro avg     0.8353    0.8030    0.8089      2895\n",
            "weighted avg     0.8495    0.8470    0.8416      2895\n",
            " samples avg     0.0017    0.0017    0.0017      2895\n",
            "\n"
          ]
        },
        {
          "output_type": "stream",
          "name": "stderr",
          "text": [
            "/usr/local/lib/python3.7/dist-packages/sklearn/metrics/_classification.py:1318: UndefinedMetricWarning: Precision and F-score are ill-defined and being set to 0.0 in samples with no predicted labels. Use `zero_division` parameter to control this behavior.\n",
            "  _warn_prf(average, modifier, msg_start, len(result))\n",
            "/usr/local/lib/python3.7/dist-packages/sklearn/metrics/_classification.py:1318: UndefinedMetricWarning: Recall and F-score are ill-defined and being set to 0.0 in samples with no true labels. Use `zero_division` parameter to control this behavior.\n",
            "  _warn_prf(average, modifier, msg_start, len(result))\n"
          ]
        }
      ]
    },
    {
      "cell_type": "code",
      "source": [
        "def  chunk_extract(tag_list,sentence_id):\n",
        "  \"\"\"\n",
        "  >>> chunk_extract(['O', 'B-PER', 'I-PER', 'B-ORG', 'O'], 1)\n",
        "  [(1, 1, 3, 'PER'), (1, 3, 4, 'ORG')]\n",
        "  \"\"\"\n",
        "  nes = []\n",
        "  for i, tag in enumerate(tag_list):\n",
        "    if tag[0] == 'B':\n",
        "        ner_type = tag[2:]\n",
        "        if i < len(tag_list)-1:  \n",
        "            current = i + 1\n",
        "            if tag_list[current] == 'O':\n",
        "                nes.append((sentence_id,i,i, ner_type)) \n",
        "            elif tag_list[current] == 'I-{}'.format(ner_type):    \n",
        "                while tag_list[current] == 'I-{}'.format(ner_type) and current < (len(tag_list)-1):\n",
        "                    current += 1\n",
        "                nes.append((sentence_id,i, current, ner_type))\n",
        "        else:\n",
        "            nes.append((sentence_id,i,i, ner_type))\n",
        "  return nes"
      ],
      "metadata": {
        "id": "8Q1cOc2px6Za"
      },
      "execution_count": null,
      "outputs": []
    },
    {
      "cell_type": "code",
      "source": [
        "sentence_id = [x for x in range(len(y_te))]"
      ],
      "metadata": {
        "id": "cb-cokk0x6cL"
      },
      "execution_count": null,
      "outputs": []
    },
    {
      "cell_type": "code",
      "source": [
        "chunk_test = set()\n",
        "for sent,idx in tqdm(zip(y_true,sentence_id)):\n",
        "    ch = chunk_extract(sent,idx)\n",
        "    chunk_test.update(ch)"
      ],
      "metadata": {
        "colab": {
          "base_uri": "https://localhost:8080/"
        },
        "id": "-AG_rRbqx6e_",
        "outputId": "f90a5669-662d-4ef1-b473-45b30a05f186"
      },
      "execution_count": null,
      "outputs": [
        {
          "output_type": "stream",
          "name": "stderr",
          "text": [
            "5617it [00:00, 50554.82it/s]\n"
          ]
        }
      ]
    },
    {
      "cell_type": "code",
      "source": [
        "chunk_pred = set()\n",
        "for sent,idx in tqdm(zip(y_pred,sentence_id)):\n",
        "    ch = chunk_extract(sent,idx)\n",
        "    chunk_pred.update(ch)"
      ],
      "metadata": {
        "colab": {
          "base_uri": "https://localhost:8080/"
        },
        "id": "3JuhXqYFx6h2",
        "outputId": "6b2d7a51-7b1d-4ee7-ea68-c70dd40728bd"
      },
      "execution_count": null,
      "outputs": [
        {
          "output_type": "stream",
          "name": "stderr",
          "text": [
            "5617it [00:00, 44649.01it/s]\n"
          ]
        }
      ]
    },
    {
      "cell_type": "code",
      "source": [
        "def evaluation_phrase(true,prediction):\n",
        "    total_correct = len(true.intersection(prediction))\n",
        "    total_predict = len(prediction)\n",
        "    total_true = len(true)\n",
        "    \n",
        "    precision = total_correct/total_predict\n",
        "    recall = total_correct/total_true\n",
        "    f1 = (2 * precision * recall)/(precision + recall)\n",
        "    \n",
        "    print('total_correct:',total_correct,':','total_predict:',total_predict,':','total_true:',total_true)\n",
        "    print('precision:', round(precision,3))\n",
        "    print('recall:', round(recall,3))\n",
        "    print('f1:', round(f1,3))\n",
        "    return [round(precision,3),round(recall,3),round(f1,3)]"
      ],
      "metadata": {
        "id": "-3mbpq8lzvTT"
      },
      "execution_count": null,
      "outputs": []
    },
    {
      "cell_type": "code",
      "source": [
        "evaluation_phrase(chunk_test,chunk_pred)"
      ],
      "metadata": {
        "colab": {
          "base_uri": "https://localhost:8080/"
        },
        "id": "3rvyEZqBz1hD",
        "outputId": "b84145d6-77f8-40f1-d76a-c2546d26824c"
      },
      "execution_count": null,
      "outputs": [
        {
          "output_type": "stream",
          "name": "stdout",
          "text": [
            "total_correct: 909 : total_predict: 1076 : total_true: 1083\n",
            "precision: 0.845\n",
            "recall: 0.839\n",
            "f1: 0.842\n"
          ]
        },
        {
          "output_type": "execute_result",
          "data": {
            "text/plain": [
              "[0.845, 0.839, 0.842]"
            ]
          },
          "metadata": {},
          "execution_count": 33
        }
      ]
    },
    {
      "cell_type": "code",
      "source": [
        "chunk_test = list(chunk_test)\n",
        "chunk_pred = list(chunk_pred)"
      ],
      "metadata": {
        "id": "vLs8rIIGz1kD"
      },
      "execution_count": null,
      "outputs": []
    },
    {
      "cell_type": "code",
      "source": [
        "def evaluation_phrase_type(chunk_test,chunk_pred):\n",
        "    total_pred, total_true, total_correct = 0, 0, 0\n",
        "    df = pd.DataFrame(columns=['PRECISION','RECALL','F1','SUPPORT'])\n",
        "    ent_types = ['ACP','ADMIN','BSN','DEP','FPLACE','GOV','HP','MKT','MON','NAT','OTHER','RCT','RES','ROAD','RP','RT','STORE','TRAN']\n",
        "    list_correct = []\n",
        "    for ent in ent_types:\n",
        "        true_set = []\n",
        "        pred_set = []\n",
        "        type_pred,type_true,type_correct = 0,0,0\n",
        "        for tag in chunk_test:\n",
        "            if tag[3] == ent:\n",
        "                true_set.append(tag)\n",
        "            if ent in tag:\n",
        "                type_true+=1\n",
        "                tag_true = set(true_set)\n",
        "        for tag2 in chunk_pred:\n",
        "            if tag2[3] == ent:\n",
        "                pred_set.append(tag2)\n",
        "            if ent in tag2:\n",
        "                type_pred+=1\n",
        "                tag_pred = set(pred_set)\n",
        "        type_correct=len(tag_true.intersection(tag_pred))\n",
        "        try:\n",
        "            precision = type_correct/type_pred\n",
        "        except:\n",
        "            precision = 0\n",
        "        recall = type_correct/type_true\n",
        "        try:\n",
        "            f1 = (2 * precision * recall) / (precision + recall)\n",
        "        except:\n",
        "            f1 = 0\n",
        "        list_correct.append([type_true,type_pred,type_correct,ent])\n",
        "        df.loc[ent] = [round(precision,3), round(recall,3), round(f1,3), str(type_true)]\n",
        "\n",
        "    #Calculate micro macro f1\n",
        "    total_true,total_pred,total_correct = 0,0,0\n",
        "    for p in list_correct:\n",
        "        total_true+=p[0]\n",
        "        total_pred+=p[1]\n",
        "        total_correct+=p[2]\n",
        "    precision_micro = total_correct / total_pred\n",
        "    recall_micro = total_correct / total_true\n",
        "    f1_micro = (2 * precision_micro * recall_micro) / (precision_micro + recall_micro)\n",
        "    df.loc['MACRO'] = [round(df.PRECISION.mean(),3), round(df.RECALL.mean(),3), round(df.F1.mean(),3), str(total_true)]\n",
        "    df.loc['MICRO'] = [round(precision_micro,3), round(recall_micro,3), round(f1_micro,3), str(total_true)]\n",
        "\n",
        "    print(df)"
      ],
      "metadata": {
        "id": "Z9C2Tj2rz1m7"
      },
      "execution_count": null,
      "outputs": []
    },
    {
      "cell_type": "code",
      "source": [
        "evaluation_phrase_type(chunk_test,chunk_pred)"
      ],
      "metadata": {
        "colab": {
          "base_uri": "https://localhost:8080/"
        },
        "id": "WSW0Ojswz1pv",
        "outputId": "98f0264a-66f6-46f9-9d6e-162541bc28d7"
      },
      "execution_count": null,
      "outputs": [
        {
          "output_type": "stream",
          "name": "stdout",
          "text": [
            "        PRECISION  RECALL     F1 SUPPORT\n",
            "ACP         0.800   0.778  0.789      36\n",
            "ADMIN       0.932   0.896  0.914     289\n",
            "BSN         0.792   0.760  0.776      25\n",
            "DEP         0.849   0.790  0.819     100\n",
            "FPLACE      0.879   0.851  0.865      94\n",
            "GOV         0.762   0.640  0.696      25\n",
            "HP          0.727   0.667  0.696      24\n",
            "MKT         0.857   1.000  0.923      18\n",
            "MON         1.000   0.500  0.667       2\n",
            "NAT         0.900   0.818  0.857      11\n",
            "OTHER       1.000   1.000  1.000       2\n",
            "RCT         0.767   0.750  0.759      44\n",
            "RES         0.867   0.867  0.867      30\n",
            "ROAD        0.826   0.883  0.853     145\n",
            "RP          0.878   0.896  0.887      48\n",
            "RT          0.788   0.806  0.797     129\n",
            "STORE       0.500   0.783  0.610      23\n",
            "TRAN        0.909   0.789  0.845      38\n",
            "MACRO       0.835   0.804  0.812    1083\n",
            "MICRO       0.845   0.839  0.842    1083\n"
          ]
        }
      ]
    },
    {
      "cell_type": "code",
      "source": [
        "!pip install 'h5py==2.10.0' --force-reinstall"
      ],
      "metadata": {
        "id": "NQjXDPYQ1HWc"
      },
      "execution_count": null,
      "outputs": []
    }
  ],
  "metadata": {
    "accelerator": "GPU",
    "colab": {
      "provenance": [],
      "include_colab_link": true
    },
    "kernelspec": {
      "display_name": "Python 3 (ipykernel)",
      "language": "python",
      "name": "python3"
    },
    "language_info": {
      "codemirror_mode": {
        "name": "ipython",
        "version": 3
      },
      "file_extension": ".py",
      "mimetype": "text/x-python",
      "name": "python",
      "nbconvert_exporter": "python",
      "pygments_lexer": "ipython3",
      "version": "3.7.11"
    }
  },
  "nbformat": 4,
  "nbformat_minor": 0
}