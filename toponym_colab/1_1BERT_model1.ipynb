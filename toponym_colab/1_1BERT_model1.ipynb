{
  "cells": [
    {
      "cell_type": "markdown",
      "metadata": {
        "id": "view-in-github",
        "colab_type": "text"
      },
      "source": [
        "<a href=\"https://colab.research.google.com/github/crescendonow/thai_geoparsing/blob/main/toponym_colab/1_1BERT_model1.ipynb\" target=\"_parent\"><img src=\"https://colab.research.google.com/assets/colab-badge.svg\" alt=\"Open In Colab\"/></a>"
      ]
    },
    {
      "cell_type": "code",
      "source": [
        "!pip install torch==1.4.0. "
      ],
      "metadata": {
        "id": "Jib3lKJo42S5"
      },
      "id": "Jib3lKJo42S5",
      "execution_count": null,
      "outputs": []
    },
    {
      "cell_type": "code",
      "source": [
        "# Install thai2transformer \n",
        "!pip -q install torch==1.5.0 torchtext==0.4.0 torchvision==0.6.0\n",
        "!pip -q install transformers==3.5.0 thai2transformers==0.1.2"
      ],
      "metadata": {
        "id": "qGw3yzRs2cN8"
      },
      "id": "qGw3yzRs2cN8",
      "execution_count": null,
      "outputs": []
    },
    {
      "cell_type": "code",
      "source": [
        "!pip install datasets \n",
        "!pip install seqeval \n",
        "!pip install sentencepiece\n",
        "!pip install pickle-mixin"
      ],
      "metadata": {
        "id": "pUq9X_JVIc0V"
      },
      "id": "pUq9X_JVIc0V",
      "execution_count": null,
      "outputs": []
    },
    {
      "cell_type": "code",
      "source": [
        "!pip install torch-optimizer"
      ],
      "metadata": {
        "id": "c-v3fcQo4Rb1"
      },
      "id": "c-v3fcQo4Rb1",
      "execution_count": null,
      "outputs": []
    },
    {
      "cell_type": "code",
      "source": [
        "!apt install git-lfs"
      ],
      "metadata": {
        "id": "pDmJxswA515V"
      },
      "id": "pDmJxswA515V",
      "execution_count": null,
      "outputs": []
    },
    {
      "cell_type": "code",
      "execution_count": null,
      "id": "e9e4aa09",
      "metadata": {
        "id": "e9e4aa09"
      },
      "outputs": [],
      "source": [
        "#Utilities lib for use\n",
        "import numpy as np\n",
        "import pickle\n",
        "import tqdm\n",
        "import pandas as pd\n",
        "from datasets import load_dataset, load_metric\n",
        "from transformers import AutoTokenizer, AutoModelForTokenClassification,\\\n",
        "TrainingArguments, Trainer, DataCollatorForTokenClassification"
      ]
    },
    {
      "cell_type": "code",
      "source": [
        "from google.colab import drive\n",
        "drive.mount('/content/drive')"
      ],
      "metadata": {
        "colab": {
          "base_uri": "https://localhost:8080/"
        },
        "id": "aV4zpzlZP19q",
        "outputId": "048727c4-c3a4-4822-a748-03de0af75c0a"
      },
      "id": "aV4zpzlZP19q",
      "execution_count": null,
      "outputs": [
        {
          "output_type": "stream",
          "name": "stdout",
          "text": [
            "Mounted at /content/drive\n"
          ]
        }
      ]
    },
    {
      "cell_type": "code",
      "execution_count": null,
      "id": "ba79bf02",
      "metadata": {
        "id": "ba79bf02"
      },
      "outputs": [],
      "source": [
        "#load train, validate and test token by attacut and BERT format\n",
        "with open('/content/drive/MyDrive/dissertation/TEXT DATA/TrainingData/1.Tokennization/train_bert.data', 'rb') as token1:\n",
        "    train_data = pickle.load(token1)\n",
        "with open('/content/drive/MyDrive/dissertation/TEXT DATA/TrainingData/1.Tokennization/eval_bert.data', 'rb') as token2:\n",
        "    eval_data = pickle.load(token2)\n",
        "with open('/content/drive/MyDrive/dissertation/TEXT DATA/TrainingData/1.Tokennization/datasets_test.data', 'rb') as token3:\n",
        "    test_data = pickle.load(token3)    "
      ]
    },
    {
      "cell_type": "code",
      "execution_count": null,
      "id": "355de299",
      "metadata": {
        "id": "355de299"
      },
      "outputs": [],
      "source": [
        "#load dictionary index and processing data label_list\n",
        "with open('/content/drive/MyDrive/dissertation/TEXT DATA/TrainingData/5.dict/ner_ix.dict', 'rb') as dict_ner:\n",
        "    ner_ix = pickle.load(dict_ner)\n",
        "with open('/content/drive/MyDrive/dissertation/TEXT DATA/TrainingData/6.Processing_variables/ner_list.data', 'rb') as list_ner:\n",
        "    label_list = pickle.load(list_ner)"
      ]
    },
    {
      "cell_type": "code",
      "execution_count": null,
      "id": "98fdbe0b",
      "metadata": {
        "id": "98fdbe0b"
      },
      "outputs": [],
      "source": [
        "#prepared index to BOI tags, convert index to ner\n",
        "ix_to_ner = dict((v,k) for k,v in ner_ix.items()) "
      ]
    },
    {
      "cell_type": "code",
      "execution_count": null,
      "id": "10b1586e",
      "metadata": {
        "id": "10b1586e"
      },
      "outputs": [],
      "source": [
        "#list of model for use\n",
        "task = \"ner\"\n",
        "public_models = ['xlm-roberta-base', 'bert-base-multilingual-cased'] \n",
        "user_name = 'airesearch'\n",
        "model_name = \"wangchanberta-base-att-spm-uncased\" \n",
        "batch_size = 16"
      ]
    },
    {
      "cell_type": "code",
      "execution_count": null,
      "id": "ca3028b1",
      "metadata": {
        "id": "ca3028b1",
        "colab": {
          "base_uri": "https://localhost:8080/",
          "height": 113,
          "referenced_widgets": [
            "18529e5c7985477e8f88ce9e053bdc80",
            "9b06224982c04775b4d66681260da568",
            "1bed6b71aa40444abf9a12b383582815",
            "23b3662a1e164c889dee98c03507172e",
            "f76b592022e648a29e2a03387ecbf2b3",
            "c5906f8ccba6490aaf454c4d0ce6195f",
            "8301d4981e2140559f7c19aae6dc0b9f",
            "d9c5c1e93e0046a5a80b20e08f59b91e",
            "46574455fc0d45b1b36ff37aad89df44",
            "6de37ee74c434c83914e6b32190a7869",
            "93f4f5c8b2aa48e499101bbc69dfc39f",
            "e187ff70489d4cbe928f33e016816454",
            "f3704606a43d46908e4be6641336ad09",
            "7ec880769d1f4680a00d2df483944768",
            "d57c5467c6d346c09655d25b67ec7dbc",
            "15df66aa48f74d57ada513cc4b3859a5",
            "1aa45f7275ce459a87315d533edd5a11",
            "d7e48edbfee24a5c9dd2c916dcc8c1d6",
            "b0212133fedb427dac3e040a6cb2d927",
            "bcd385ff6359465c8abb325c5743b486",
            "ce6f77cdeddc4d7cb94bd44321aef6af",
            "dbad248f7947488f87d275ac20a1d335",
            "80b43ec8ff35412fbf6893fa4248e3cb",
            "0ecc81a1977b4933aa4d870df8a0ac9c",
            "6c0ef7fe5be14cf1bc92a1fe4a472d38",
            "f086ccb7b0ba471581d14bf425e4cb63",
            "f8587d9052e44a499155f52c22e14464",
            "262418ce8b9f42669a363f3fb8a5d771",
            "a0fcb5eab8ad4fb3a279215ae48702db",
            "cf35265ccf7f46759bd7031931fe9243",
            "35ed2de7220c4ba99c04852bfe5177bd",
            "ac3d2c648be94697af8d9f033fecfbd9",
            "3b9c4944cbef41d69dc979e4a29e629b"
          ]
        },
        "outputId": "39fe15e3-c06b-42e7-a541-b602f4160413"
      },
      "outputs": [
        {
          "output_type": "display_data",
          "data": {
            "text/plain": [
              "Downloading:   0%|          | 0.00/546 [00:00<?, ?B/s]"
            ],
            "application/vnd.jupyter.widget-view+json": {
              "version_major": 2,
              "version_minor": 0,
              "model_id": "18529e5c7985477e8f88ce9e053bdc80"
            }
          },
          "metadata": {}
        },
        {
          "output_type": "display_data",
          "data": {
            "text/plain": [
              "Downloading:   0%|          | 0.00/905k [00:00<?, ?B/s]"
            ],
            "application/vnd.jupyter.widget-view+json": {
              "version_major": 2,
              "version_minor": 0,
              "model_id": "e187ff70489d4cbe928f33e016816454"
            }
          },
          "metadata": {}
        },
        {
          "output_type": "display_data",
          "data": {
            "text/plain": [
              "Downloading:   0%|          | 0.00/282 [00:00<?, ?B/s]"
            ],
            "application/vnd.jupyter.widget-view+json": {
              "version_major": 2,
              "version_minor": 0,
              "model_id": "80b43ec8ff35412fbf6893fa4248e3cb"
            }
          },
          "metadata": {}
        }
      ],
      "source": [
        "#define tokenizer\n",
        "tokenizer = AutoTokenizer.from_pretrained(f'{user_name}/{model_name}' if model_name not in public_models else f'{model_name}',\n",
        "                revision='main',\n",
        "                model_max_length=416,)"
      ]
    },
    {
      "cell_type": "code",
      "execution_count": null,
      "id": "cdb96708",
      "metadata": {
        "colab": {
          "base_uri": "https://localhost:8080/"
        },
        "id": "cdb96708",
        "outputId": "40d3c5c9-94f7-48cd-ba7a-6e6dc49d83bd"
      },
      "outputs": [
        {
          "output_type": "stream",
          "name": "stdout",
          "text": [
            "63 40\n"
          ]
        }
      ],
      "source": [
        "#create example for use tokenize and input ids\n",
        "example = train_data[1670]\n",
        "tokenized_input = tokenizer(example['tokens'], is_split_into_words=True)\n",
        "tokenized_input\n",
        "print(len(tokenized_input['input_ids']), len(example['ner_tags']))#create example for use tokenize and input ids"
      ]
    },
    {
      "cell_type": "code",
      "source": [
        "print(tokenized_input)"
      ],
      "metadata": {
        "colab": {
          "base_uri": "https://localhost:8080/"
        },
        "id": "O0HHF_yJTGJf",
        "outputId": "f77012c7-a58b-4892-db9d-a03c89ebe44e"
      },
      "id": "O0HHF_yJTGJf",
      "execution_count": null,
      "outputs": [
        {
          "output_type": "stream",
          "name": "stdout",
          "text": [
            "{'input_ids': [5, 10, 32, 10, 4996, 10, 161, 10, 93, 10, 1087, 10, 1203, 10, 1432, 10, 26, 10, 93, 10, 1087, 10, 16535, 10, 82, 1241, 10, 1697, 6172, 10, 17572, 10, 1267, 10, 10351, 256, 10, 18115, 160, 10, 7406, 10, 18679, 10, 2795, 1241, 2246, 10, 9910, 10, 4178, 10, 29, 10, 451, 10, 3, 5948, 10, 3, 875, 302, 6], 'attention_mask': [1, 1, 1, 1, 1, 1, 1, 1, 1, 1, 1, 1, 1, 1, 1, 1, 1, 1, 1, 1, 1, 1, 1, 1, 1, 1, 1, 1, 1, 1, 1, 1, 1, 1, 1, 1, 1, 1, 1, 1, 1, 1, 1, 1, 1, 1, 1, 1, 1, 1, 1, 1, 1, 1, 1, 1, 1, 1, 1, 1, 1, 1, 1]}\n"
          ]
        }
      ]
    },
    {
      "cell_type": "code",
      "execution_count": null,
      "id": "744e35d5",
      "metadata": {
        "id": "744e35d5"
      },
      "outputs": [],
      "source": [
        "#from upper cell rcognize length of word_ids and tags not equal so we need to algn new label \n",
        "aligned_labels = [-100 if i is None else example[f'{task}_tags'][i] for i in tokenized_input.word_ids()]\n",
        "print(len(tokenized_input['input_ids']), len(aligned_labels))\n",
        "aligned_labels\n",
        "tokenized_input"
      ]
    },
    {
      "cell_type": "code",
      "execution_count": null,
      "id": "d5d1759c",
      "metadata": {
        "id": "d5d1759c"
      },
      "outputs": [],
      "source": [
        "#create function for tokenize and reformat\n",
        "def tokenize_and_align_labels(data):\n",
        "    tokenized_datasets = []\n",
        "    for rec in data:\n",
        "        tokenized_input = tokenizer(rec['tokens'], is_split_into_words=True)\n",
        "        aligned_labels = [-100 if i is None else rec[f'{task}_tags'][i] for i in tokenized_input.word_ids()]\n",
        "        rec['input_ids'] = tokenized_input['input_ids']\n",
        "        rec['attention_mask'] = tokenized_input['attention_mask']\n",
        "        rec['labels'] = aligned_labels\n",
        "        tokenized_datasets.append(rec)\n",
        "    return tokenized_datasets"
      ]
    },
    {
      "cell_type": "code",
      "execution_count": null,
      "id": "8b6a41f3",
      "metadata": {
        "id": "8b6a41f3"
      },
      "outputs": [],
      "source": [
        "train_bert = tokenize_and_align_labels(train_data)\n",
        "eval_bert = tokenize_and_align_labels(eval_data)\n",
        "test_bert = tokenize_and_align_labels(test_data)"
      ]
    },
    {
      "cell_type": "code",
      "execution_count": null,
      "id": "37c17f15",
      "metadata": {
        "id": "37c17f15",
        "outputId": "f53c694b-0718-4b22-d32f-3c9e8c035c73",
        "colab": {
          "base_uri": "https://localhost:8080/",
          "height": 156,
          "referenced_widgets": [
            "5772b2b44c26466689ffbf59a1ea3eb2",
            "de86799a3a7b455fb1b55ce761a183ab",
            "396ff85f256a484892de1e46279d0f43",
            "612aaf8fd02942fd8cb71a9c0317027b",
            "7fc7d6ecc9d2419aa7253db6cecd2510",
            "4d63142aca64477b9b9879b0fd49fac2",
            "ac79371e93c0450f9e1fe6b637687528",
            "5946acce49d04e05b5867e447a556eb0",
            "1cc2a5320b014c5394d660484df01167",
            "c8bf7c75133e40a2b6211b4fc76a3198",
            "e57e9eef317842a8b03cf7023891351d"
          ]
        }
      },
      "outputs": [
        {
          "output_type": "display_data",
          "data": {
            "text/plain": [
              "Downloading:   0%|          | 0.00/423M [00:00<?, ?B/s]"
            ],
            "application/vnd.jupyter.widget-view+json": {
              "version_major": 2,
              "version_minor": 0,
              "model_id": "5772b2b44c26466689ffbf59a1ea3eb2"
            }
          },
          "metadata": {}
        },
        {
          "output_type": "stream",
          "name": "stderr",
          "text": [
            "Some weights of the model checkpoint at airesearch/wangchanberta-base-att-spm-uncased were not used when initializing CamembertForTokenClassification: ['lm_head.bias', 'lm_head.dense.weight', 'lm_head.dense.bias', 'lm_head.layer_norm.weight', 'lm_head.layer_norm.bias', 'lm_head.decoder.weight', 'lm_head.decoder.bias']\n",
            "- This IS expected if you are initializing CamembertForTokenClassification from the checkpoint of a model trained on another task or with another architecture (e.g. initializing a BertForSequenceClassification model from a BertForPreTraining model).\n",
            "- This IS NOT expected if you are initializing CamembertForTokenClassification from the checkpoint of a model that you expect to be exactly identical (initializing a BertForSequenceClassification model from a BertForSequenceClassification model).\n",
            "Some weights of CamembertForTokenClassification were not initialized from the model checkpoint at airesearch/wangchanberta-base-att-spm-uncased and are newly initialized: ['classifier.weight', 'classifier.bias']\n",
            "You should probably TRAIN this model on a down-stream task to be able to use it for predictions and inference.\n"
          ]
        }
      ],
      "source": [
        "#prepare fine tuning model\n",
        "model = AutoModelForTokenClassification.from_pretrained(f'{user_name}/{model_name}', num_labels=len(label_list))"
      ]
    },
    {
      "cell_type": "code",
      "execution_count": null,
      "id": "27e33f83",
      "metadata": {
        "id": "27e33f83"
      },
      "outputs": [],
      "source": [
        "#training arguments (parameters)\n",
        "args = TrainingArguments(\n",
        "    f\"test-{task}\",\n",
        "    evaluation_strategy=\"epoch\",\n",
        "    learning_rate=2e-5,\n",
        "    per_device_train_batch_size=batch_size,\n",
        "    per_device_eval_batch_size=batch_size,\n",
        "    num_train_epochs=12,\n",
        "    weight_decay=0.01,\n",
        ")"
      ]
    },
    {
      "cell_type": "code",
      "execution_count": null,
      "id": "59f35a65",
      "metadata": {
        "id": "59f35a65"
      },
      "outputs": [],
      "source": [
        "#function for convert dataset to batch tensors\n",
        "data_collator = DataCollatorForTokenClassification(tokenizer)"
      ]
    },
    {
      "cell_type": "code",
      "execution_count": null,
      "id": "bb328ab1",
      "metadata": {
        "id": "bb328ab1"
      },
      "outputs": [],
      "source": [
        "#computation metrics , we use seqeval for sequence tagging task\n",
        "metric = load_metric(\"seqeval\")"
      ]
    },
    {
      "cell_type": "code",
      "execution_count": null,
      "id": "15156c80",
      "metadata": {
        "id": "15156c80"
      },
      "outputs": [],
      "source": [
        "#for seqeval not allowed format '-' so replace it by '_', pong tai i here tam goo sia wela eak, sud!!\n",
        "labels = [label_list[i].replace('_', '-') for i in example[f'{task}_tags']]\n",
        "metric.compute(predictions=[labels], references=[labels])"
      ]
    },
    {
      "cell_type": "code",
      "execution_count": null,
      "id": "d4f4444d",
      "metadata": {
        "id": "d4f4444d"
      },
      "outputs": [],
      "source": [
        "#create function for computation metric\n",
        "def compute_metrics(p):\n",
        "    predictions, labels = p\n",
        "    predictions = np.argmax(predictions, axis=2)\n",
        "    true_predictions = [\n",
        "        [label_list[p].replace(\"_\", \"-\") for (p, l) in zip(prediction, label) if l != -100]\n",
        "        for prediction, label in zip(predictions, labels)\n",
        "    ]\n",
        "    true_labels = [\n",
        "        [label_list[l].replace(\"_\", \"-\") for (p, l) in zip(prediction, label) if l != -100]\n",
        "        for prediction, label in zip(predictions, labels)\n",
        "    ]\n",
        "    results = metric.compute(predictions=true_predictions, references=true_labels)\n",
        "    return {\n",
        "        \"precision\": results[\"overall_precision\"],\n",
        "        \"recall\": results[\"overall_recall\"],\n",
        "        \"f1\": results[\"overall_f1\"],\n",
        "        \"accuracy\": results[\"overall_accuracy\"],\n",
        "    }"
      ]
    },
    {
      "cell_type": "code",
      "execution_count": null,
      "id": "f2c69603",
      "metadata": {
        "id": "f2c69603"
      },
      "outputs": [],
      "source": [
        "#fine tuning part by function Trainer\n",
        "trainer = Trainer(\n",
        "    model,\n",
        "    args,\n",
        "    train_dataset=train_bert,\n",
        "    eval_dataset=eval_bert,\n",
        "    data_collator=data_collator,\n",
        "    tokenizer=tokenizer,\n",
        "    compute_metrics=compute_metrics\n",
        ")"
      ]
    },
    {
      "cell_type": "code",
      "execution_count": null,
      "id": "1d87cb1a",
      "metadata": {
        "scrolled": true,
        "colab": {
          "referenced_widgets": [
            "12bca051cfdb40c28654b47b9b7adbb7",
            "bc1090e5728e4c69ab5ba2e77f160c40",
            "0e25d5f92e394553954f399f14883758",
            "ef0caec74e3a46648a8b30542b5489ae",
            "a02d8022e08d422da4c6ddb754a8a397",
            "1eafd1de88844f83bc417592419e5b34",
            "00983429c5a847e4bfc6feb8d8b8e63a",
            "093bc773eea5423facdf4c77f5c80527",
            "a870237960484486bc389e90c2b4fe86",
            "44d99197a7d54a0ab513978a58ff0f81",
            "a9e41f4fd07846549b72af1c49d1d608",
            "2645b31fbd7d4254a55256cedc346c8f",
            "885699adf0fb44a08de8b3e5c7130e07"
          ]
        },
        "id": "1d87cb1a",
        "outputId": "f409ccad-36f0-45a8-b941-5f65fac9a024"
      },
      "outputs": [
        {
          "name": "stderr",
          "output_type": "stream",
          "text": [
            "c:\\Users\\sveng\\anaconda3\\envs\\geo_bert\\lib\\site-packages\\transformers\\optimization.py:306: FutureWarning: This implementation of AdamW is deprecated and will be removed in a future version. Use the PyTorch implementation torch.optim.AdamW instead, or set `no_deprecation_warning=True` to disable this warning\n",
            "  warnings.warn(\n",
            "***** Running training *****\n",
            "  Num examples = 17955\n",
            "  Num Epochs = 12\n",
            "  Instantaneous batch size per device = 16\n",
            "  Total train batch size (w. parallel, distributed & accumulation) = 16\n",
            "  Gradient Accumulation steps = 1\n",
            "  Total optimization steps = 13476\n"
          ]
        },
        {
          "data": {
            "application/vnd.jupyter.widget-view+json": {
              "model_id": "12bca051cfdb40c28654b47b9b7adbb7",
              "version_major": 2,
              "version_minor": 0
            },
            "text/plain": [
              "  0%|          | 0/13476 [00:00<?, ?it/s]"
            ]
          },
          "metadata": {},
          "output_type": "display_data"
        },
        {
          "name": "stderr",
          "output_type": "stream",
          "text": [
            "The following columns in the training set don't have a corresponding argument in `CamembertForTokenClassification.forward` and have been ignored: id, pos_tags, ner_tags, tokens. If id, pos_tags, ner_tags, tokens are not expected by `CamembertForTokenClassification.forward`,  you can safely ignore this message.\n",
            "Saving model checkpoint to test-ner\\checkpoint-500\n",
            "Configuration saved in test-ner\\checkpoint-500\\config.json\n"
          ]
        },
        {
          "name": "stdout",
          "output_type": "stream",
          "text": [
            "{'loss': 0.2208, 'learning_rate': 1.925794004155536e-05, 'epoch': 0.45}\n"
          ]
        },
        {
          "name": "stderr",
          "output_type": "stream",
          "text": [
            "Model weights saved in test-ner\\checkpoint-500\\pytorch_model.bin\n",
            "tokenizer config file saved in test-ner\\checkpoint-500\\tokenizer_config.json\n",
            "Special tokens file saved in test-ner\\checkpoint-500\\special_tokens_map.json\n",
            "Saving model checkpoint to test-ner\\checkpoint-1000\n",
            "Configuration saved in test-ner\\checkpoint-1000\\config.json\n"
          ]
        },
        {
          "name": "stdout",
          "output_type": "stream",
          "text": [
            "{'loss': 0.131, 'learning_rate': 1.851588008311072e-05, 'epoch': 0.89}\n"
          ]
        },
        {
          "name": "stderr",
          "output_type": "stream",
          "text": [
            "Model weights saved in test-ner\\checkpoint-1000\\pytorch_model.bin\n",
            "tokenizer config file saved in test-ner\\checkpoint-1000\\tokenizer_config.json\n",
            "Special tokens file saved in test-ner\\checkpoint-1000\\special_tokens_map.json\n",
            "***** Running Evaluation *****\n",
            "  Num examples = 4489\n",
            "  Batch size = 16\n",
            "The following columns in the evaluation set don't have a corresponding argument in `CamembertForTokenClassification.forward` and have been ignored: id, pos_tags, ner_tags, tokens. If id, pos_tags, ner_tags, tokens are not expected by `CamembertForTokenClassification.forward`,  you can safely ignore this message.\n"
          ]
        },
        {
          "data": {
            "application/vnd.jupyter.widget-view+json": {
              "model_id": "bc1090e5728e4c69ab5ba2e77f160c40",
              "version_major": 2,
              "version_minor": 0
            },
            "text/plain": [
              "  0%|          | 0/281 [00:00<?, ?it/s]"
            ]
          },
          "metadata": {},
          "output_type": "display_data"
        },
        {
          "name": "stderr",
          "output_type": "stream",
          "text": [
            "c:\\Users\\sveng\\anaconda3\\envs\\geo_bert\\lib\\site-packages\\seqeval\\metrics\\v1.py:57: UndefinedMetricWarning: Precision and F-score are ill-defined and being set to 0.0 in labels with no predicted samples. Use `zero_division` parameter to control this behavior.\n",
            "  _warn_prf(average, modifier, msg_start, len(result))\n"
          ]
        },
        {
          "name": "stdout",
          "output_type": "stream",
          "text": [
            "{'eval_loss': 0.0976492315530777, 'eval_precision': 0.4708994708994709, 'eval_recall': 0.5020783847980997, 'eval_f1': 0.48598936628825984, 'eval_accuracy': 0.974057367568818, 'eval_runtime': 241.8603, 'eval_samples_per_second': 18.56, 'eval_steps_per_second': 1.162, 'epoch': 1.0}\n"
          ]
        },
        {
          "name": "stderr",
          "output_type": "stream",
          "text": [
            "Saving model checkpoint to test-ner\\checkpoint-1500\n",
            "Configuration saved in test-ner\\checkpoint-1500\\config.json\n"
          ]
        },
        {
          "name": "stdout",
          "output_type": "stream",
          "text": [
            "{'loss': 0.0964, 'learning_rate': 1.7773820124666076e-05, 'epoch': 1.34}\n"
          ]
        },
        {
          "name": "stderr",
          "output_type": "stream",
          "text": [
            "Model weights saved in test-ner\\checkpoint-1500\\pytorch_model.bin\n",
            "tokenizer config file saved in test-ner\\checkpoint-1500\\tokenizer_config.json\n",
            "Special tokens file saved in test-ner\\checkpoint-1500\\special_tokens_map.json\n",
            "Saving model checkpoint to test-ner\\checkpoint-2000\n",
            "Configuration saved in test-ner\\checkpoint-2000\\config.json\n"
          ]
        },
        {
          "name": "stdout",
          "output_type": "stream",
          "text": [
            "{'loss': 0.0879, 'learning_rate': 1.7031760166221433e-05, 'epoch': 1.78}\n"
          ]
        },
        {
          "name": "stderr",
          "output_type": "stream",
          "text": [
            "Model weights saved in test-ner\\checkpoint-2000\\pytorch_model.bin\n",
            "tokenizer config file saved in test-ner\\checkpoint-2000\\tokenizer_config.json\n",
            "Special tokens file saved in test-ner\\checkpoint-2000\\special_tokens_map.json\n",
            "***** Running Evaluation *****\n",
            "  Num examples = 4489\n",
            "  Batch size = 16\n",
            "The following columns in the evaluation set don't have a corresponding argument in `CamembertForTokenClassification.forward` and have been ignored: id, pos_tags, ner_tags, tokens. If id, pos_tags, ner_tags, tokens are not expected by `CamembertForTokenClassification.forward`,  you can safely ignore this message.\n"
          ]
        },
        {
          "data": {
            "application/vnd.jupyter.widget-view+json": {
              "model_id": "0e25d5f92e394553954f399f14883758",
              "version_major": 2,
              "version_minor": 0
            },
            "text/plain": [
              "  0%|          | 0/281 [00:00<?, ?it/s]"
            ]
          },
          "metadata": {},
          "output_type": "display_data"
        },
        {
          "name": "stderr",
          "output_type": "stream",
          "text": [
            "c:\\Users\\sveng\\anaconda3\\envs\\geo_bert\\lib\\site-packages\\seqeval\\metrics\\v1.py:57: UndefinedMetricWarning: Precision and F-score are ill-defined and being set to 0.0 in labels with no predicted samples. Use `zero_division` parameter to control this behavior.\n",
            "  _warn_prf(average, modifier, msg_start, len(result))\n"
          ]
        },
        {
          "name": "stdout",
          "output_type": "stream",
          "text": [
            "{'eval_loss': 0.0838845744729042, 'eval_precision': 0.5620260021668473, 'eval_recall': 0.6160926365795725, 'eval_f1': 0.5878186968838527, 'eval_accuracy': 0.978117048346056, 'eval_runtime': 241.9188, 'eval_samples_per_second': 18.556, 'eval_steps_per_second': 1.162, 'epoch': 2.0}\n"
          ]
        },
        {
          "name": "stderr",
          "output_type": "stream",
          "text": [
            "Saving model checkpoint to test-ner\\checkpoint-2500\n",
            "Configuration saved in test-ner\\checkpoint-2500\\config.json\n"
          ]
        },
        {
          "name": "stdout",
          "output_type": "stream",
          "text": [
            "{'loss': 0.075, 'learning_rate': 1.628970020777679e-05, 'epoch': 2.23}\n"
          ]
        },
        {
          "name": "stderr",
          "output_type": "stream",
          "text": [
            "Model weights saved in test-ner\\checkpoint-2500\\pytorch_model.bin\n",
            "tokenizer config file saved in test-ner\\checkpoint-2500\\tokenizer_config.json\n",
            "Special tokens file saved in test-ner\\checkpoint-2500\\special_tokens_map.json\n",
            "Saving model checkpoint to test-ner\\checkpoint-3000\n",
            "Configuration saved in test-ner\\checkpoint-3000\\config.json\n"
          ]
        },
        {
          "name": "stdout",
          "output_type": "stream",
          "text": [
            "{'loss': 0.0561, 'learning_rate': 1.5547640249332147e-05, 'epoch': 2.67}\n"
          ]
        },
        {
          "name": "stderr",
          "output_type": "stream",
          "text": [
            "Model weights saved in test-ner\\checkpoint-3000\\pytorch_model.bin\n",
            "tokenizer config file saved in test-ner\\checkpoint-3000\\tokenizer_config.json\n",
            "Special tokens file saved in test-ner\\checkpoint-3000\\special_tokens_map.json\n",
            "***** Running Evaluation *****\n",
            "  Num examples = 4489\n",
            "  Batch size = 16\n",
            "The following columns in the evaluation set don't have a corresponding argument in `CamembertForTokenClassification.forward` and have been ignored: id, pos_tags, ner_tags, tokens. If id, pos_tags, ner_tags, tokens are not expected by `CamembertForTokenClassification.forward`,  you can safely ignore this message.\n"
          ]
        },
        {
          "data": {
            "application/vnd.jupyter.widget-view+json": {
              "model_id": "ef0caec74e3a46648a8b30542b5489ae",
              "version_major": 2,
              "version_minor": 0
            },
            "text/plain": [
              "  0%|          | 0/281 [00:00<?, ?it/s]"
            ]
          },
          "metadata": {},
          "output_type": "display_data"
        },
        {
          "name": "stderr",
          "output_type": "stream",
          "text": [
            "c:\\Users\\sveng\\anaconda3\\envs\\geo_bert\\lib\\site-packages\\seqeval\\metrics\\v1.py:57: UndefinedMetricWarning: Precision and F-score are ill-defined and being set to 0.0 in labels with no predicted samples. Use `zero_division` parameter to control this behavior.\n",
            "  _warn_prf(average, modifier, msg_start, len(result))\n"
          ]
        },
        {
          "name": "stdout",
          "output_type": "stream",
          "text": [
            "{'eval_loss': 0.0841427594423294, 'eval_precision': 0.5777719390436153, 'eval_recall': 0.6529097387173397, 'eval_f1': 0.6130471145804294, 'eval_accuracy': 0.9789382373351839, 'eval_runtime': 244.7323, 'eval_samples_per_second': 18.342, 'eval_steps_per_second': 1.148, 'epoch': 3.0}\n"
          ]
        },
        {
          "name": "stderr",
          "output_type": "stream",
          "text": [
            "Saving model checkpoint to test-ner\\checkpoint-3500\n",
            "Configuration saved in test-ner\\checkpoint-3500\\config.json\n"
          ]
        },
        {
          "name": "stdout",
          "output_type": "stream",
          "text": [
            "{'loss': 0.0623, 'learning_rate': 1.4805580290887504e-05, 'epoch': 3.12}\n"
          ]
        },
        {
          "name": "stderr",
          "output_type": "stream",
          "text": [
            "Model weights saved in test-ner\\checkpoint-3500\\pytorch_model.bin\n",
            "tokenizer config file saved in test-ner\\checkpoint-3500\\tokenizer_config.json\n",
            "Special tokens file saved in test-ner\\checkpoint-3500\\special_tokens_map.json\n",
            "Saving model checkpoint to test-ner\\checkpoint-4000\n",
            "Configuration saved in test-ner\\checkpoint-4000\\config.json\n"
          ]
        },
        {
          "name": "stdout",
          "output_type": "stream",
          "text": [
            "{'loss': 0.0427, 'learning_rate': 1.406352033244286e-05, 'epoch': 3.56}\n"
          ]
        },
        {
          "name": "stderr",
          "output_type": "stream",
          "text": [
            "Model weights saved in test-ner\\checkpoint-4000\\pytorch_model.bin\n",
            "tokenizer config file saved in test-ner\\checkpoint-4000\\tokenizer_config.json\n",
            "Special tokens file saved in test-ner\\checkpoint-4000\\special_tokens_map.json\n",
            "***** Running Evaluation *****\n",
            "  Num examples = 4489\n",
            "  Batch size = 16\n",
            "The following columns in the evaluation set don't have a corresponding argument in `CamembertForTokenClassification.forward` and have been ignored: id, pos_tags, ner_tags, tokens. If id, pos_tags, ner_tags, tokens are not expected by `CamembertForTokenClassification.forward`,  you can safely ignore this message.\n"
          ]
        },
        {
          "data": {
            "application/vnd.jupyter.widget-view+json": {
              "model_id": "a02d8022e08d422da4c6ddb754a8a397",
              "version_major": 2,
              "version_minor": 0
            },
            "text/plain": [
              "  0%|          | 0/281 [00:00<?, ?it/s]"
            ]
          },
          "metadata": {},
          "output_type": "display_data"
        },
        {
          "name": "stderr",
          "output_type": "stream",
          "text": [
            "c:\\Users\\sveng\\anaconda3\\envs\\geo_bert\\lib\\site-packages\\seqeval\\metrics\\v1.py:57: UndefinedMetricWarning: Precision and F-score are ill-defined and being set to 0.0 in labels with no predicted samples. Use `zero_division` parameter to control this behavior.\n",
            "  _warn_prf(average, modifier, msg_start, len(result))\n"
          ]
        },
        {
          "name": "stdout",
          "output_type": "stream",
          "text": [
            "{'eval_loss': 0.08837242424488068, 'eval_precision': 0.562735730450088, 'eval_recall': 0.6644893111638955, 'eval_f1': 0.6093941456773314, 'eval_accuracy': 0.9785102937774693, 'eval_runtime': 242.1421, 'eval_samples_per_second': 18.539, 'eval_steps_per_second': 1.16, 'epoch': 4.0}\n"
          ]
        },
        {
          "name": "stderr",
          "output_type": "stream",
          "text": [
            "Saving model checkpoint to test-ner\\checkpoint-4500\n",
            "Configuration saved in test-ner\\checkpoint-4500\\config.json\n"
          ]
        },
        {
          "name": "stdout",
          "output_type": "stream",
          "text": [
            "{'loss': 0.0528, 'learning_rate': 1.3321460373998221e-05, 'epoch': 4.01}\n"
          ]
        },
        {
          "name": "stderr",
          "output_type": "stream",
          "text": [
            "Model weights saved in test-ner\\checkpoint-4500\\pytorch_model.bin\n",
            "tokenizer config file saved in test-ner\\checkpoint-4500\\tokenizer_config.json\n",
            "Special tokens file saved in test-ner\\checkpoint-4500\\special_tokens_map.json\n",
            "Saving model checkpoint to test-ner\\checkpoint-5000\n",
            "Configuration saved in test-ner\\checkpoint-5000\\config.json\n"
          ]
        },
        {
          "name": "stdout",
          "output_type": "stream",
          "text": [
            "{'loss': 0.0345, 'learning_rate': 1.2579400415553578e-05, 'epoch': 4.45}\n"
          ]
        },
        {
          "name": "stderr",
          "output_type": "stream",
          "text": [
            "Model weights saved in test-ner\\checkpoint-5000\\pytorch_model.bin\n",
            "tokenizer config file saved in test-ner\\checkpoint-5000\\tokenizer_config.json\n",
            "Special tokens file saved in test-ner\\checkpoint-5000\\special_tokens_map.json\n",
            "Saving model checkpoint to test-ner\\checkpoint-5500\n",
            "Configuration saved in test-ner\\checkpoint-5500\\config.json\n"
          ]
        },
        {
          "name": "stdout",
          "output_type": "stream",
          "text": [
            "{'loss': 0.0351, 'learning_rate': 1.1837340457108935e-05, 'epoch': 4.9}\n"
          ]
        },
        {
          "name": "stderr",
          "output_type": "stream",
          "text": [
            "Model weights saved in test-ner\\checkpoint-5500\\pytorch_model.bin\n",
            "tokenizer config file saved in test-ner\\checkpoint-5500\\tokenizer_config.json\n",
            "Special tokens file saved in test-ner\\checkpoint-5500\\special_tokens_map.json\n",
            "***** Running Evaluation *****\n",
            "  Num examples = 4489\n",
            "  Batch size = 16\n",
            "The following columns in the evaluation set don't have a corresponding argument in `CamembertForTokenClassification.forward` and have been ignored: id, pos_tags, ner_tags, tokens. If id, pos_tags, ner_tags, tokens are not expected by `CamembertForTokenClassification.forward`,  you can safely ignore this message.\n"
          ]
        },
        {
          "data": {
            "application/vnd.jupyter.widget-view+json": {
              "model_id": "1eafd1de88844f83bc417592419e5b34",
              "version_major": 2,
              "version_minor": 0
            },
            "text/plain": [
              "  0%|          | 0/281 [00:00<?, ?it/s]"
            ]
          },
          "metadata": {},
          "output_type": "display_data"
        },
        {
          "name": "stderr",
          "output_type": "stream",
          "text": [
            "c:\\Users\\sveng\\anaconda3\\envs\\geo_bert\\lib\\site-packages\\seqeval\\metrics\\v1.py:57: UndefinedMetricWarning: Precision and F-score are ill-defined and being set to 0.0 in labels with no predicted samples. Use `zero_division` parameter to control this behavior.\n",
            "  _warn_prf(average, modifier, msg_start, len(result))\n"
          ]
        },
        {
          "name": "stdout",
          "output_type": "stream",
          "text": [
            "{'eval_loss': 0.09039171785116196, 'eval_precision': 0.5935900888769189, 'eval_recall': 0.6543942992874109, 'eval_f1': 0.6225109447818105, 'eval_accuracy': 0.9798866527874162, 'eval_runtime': 231.0914, 'eval_samples_per_second': 19.425, 'eval_steps_per_second': 1.216, 'epoch': 5.0}\n"
          ]
        },
        {
          "name": "stderr",
          "output_type": "stream",
          "text": [
            "Saving model checkpoint to test-ner\\checkpoint-6000\n",
            "Configuration saved in test-ner\\checkpoint-6000\\config.json\n"
          ]
        },
        {
          "name": "stdout",
          "output_type": "stream",
          "text": [
            "{'loss': 0.0257, 'learning_rate': 1.1095280498664294e-05, 'epoch': 5.34}\n"
          ]
        },
        {
          "name": "stderr",
          "output_type": "stream",
          "text": [
            "Model weights saved in test-ner\\checkpoint-6000\\pytorch_model.bin\n",
            "tokenizer config file saved in test-ner\\checkpoint-6000\\tokenizer_config.json\n",
            "Special tokens file saved in test-ner\\checkpoint-6000\\special_tokens_map.json\n",
            "Saving model checkpoint to test-ner\\checkpoint-6500\n",
            "Configuration saved in test-ner\\checkpoint-6500\\config.json\n"
          ]
        },
        {
          "name": "stdout",
          "output_type": "stream",
          "text": [
            "{'loss': 0.0291, 'learning_rate': 1.035322054021965e-05, 'epoch': 5.79}\n"
          ]
        },
        {
          "name": "stderr",
          "output_type": "stream",
          "text": [
            "Model weights saved in test-ner\\checkpoint-6500\\pytorch_model.bin\n",
            "tokenizer config file saved in test-ner\\checkpoint-6500\\tokenizer_config.json\n",
            "Special tokens file saved in test-ner\\checkpoint-6500\\special_tokens_map.json\n",
            "***** Running Evaluation *****\n",
            "  Num examples = 4489\n",
            "  Batch size = 16\n",
            "The following columns in the evaluation set don't have a corresponding argument in `CamembertForTokenClassification.forward` and have been ignored: id, pos_tags, ner_tags, tokens. If id, pos_tags, ner_tags, tokens are not expected by `CamembertForTokenClassification.forward`,  you can safely ignore this message.\n"
          ]
        },
        {
          "data": {
            "application/vnd.jupyter.widget-view+json": {
              "model_id": "00983429c5a847e4bfc6feb8d8b8e63a",
              "version_major": 2,
              "version_minor": 0
            },
            "text/plain": [
              "  0%|          | 0/281 [00:00<?, ?it/s]"
            ]
          },
          "metadata": {},
          "output_type": "display_data"
        },
        {
          "name": "stdout",
          "output_type": "stream",
          "text": [
            "{'eval_loss': 0.09866348654031754, 'eval_precision': 0.5967654986522911, 'eval_recall': 0.6573634204275535, 'eval_f1': 0.6256004521051145, 'eval_accuracy': 0.9798346055979644, 'eval_runtime': 231.1132, 'eval_samples_per_second': 19.423, 'eval_steps_per_second': 1.216, 'epoch': 6.0}\n"
          ]
        },
        {
          "name": "stderr",
          "output_type": "stream",
          "text": [
            "Saving model checkpoint to test-ner\\checkpoint-7000\n",
            "Configuration saved in test-ner\\checkpoint-7000\\config.json\n"
          ]
        },
        {
          "name": "stdout",
          "output_type": "stream",
          "text": [
            "{'loss': 0.024, 'learning_rate': 9.61116058177501e-06, 'epoch': 6.23}\n"
          ]
        },
        {
          "name": "stderr",
          "output_type": "stream",
          "text": [
            "Model weights saved in test-ner\\checkpoint-7000\\pytorch_model.bin\n",
            "tokenizer config file saved in test-ner\\checkpoint-7000\\tokenizer_config.json\n",
            "Special tokens file saved in test-ner\\checkpoint-7000\\special_tokens_map.json\n",
            "Saving model checkpoint to test-ner\\checkpoint-7500\n",
            "Configuration saved in test-ner\\checkpoint-7500\\config.json\n"
          ]
        },
        {
          "name": "stdout",
          "output_type": "stream",
          "text": [
            "{'loss': 0.0247, 'learning_rate': 8.869100623330366e-06, 'epoch': 6.68}\n"
          ]
        },
        {
          "name": "stderr",
          "output_type": "stream",
          "text": [
            "Model weights saved in test-ner\\checkpoint-7500\\pytorch_model.bin\n",
            "tokenizer config file saved in test-ner\\checkpoint-7500\\tokenizer_config.json\n",
            "Special tokens file saved in test-ner\\checkpoint-7500\\special_tokens_map.json\n",
            "***** Running Evaluation *****\n",
            "  Num examples = 4489\n",
            "  Batch size = 16\n",
            "The following columns in the evaluation set don't have a corresponding argument in `CamembertForTokenClassification.forward` and have been ignored: id, pos_tags, ner_tags, tokens. If id, pos_tags, ner_tags, tokens are not expected by `CamembertForTokenClassification.forward`,  you can safely ignore this message.\n"
          ]
        },
        {
          "data": {
            "application/vnd.jupyter.widget-view+json": {
              "model_id": "093bc773eea5423facdf4c77f5c80527",
              "version_major": 2,
              "version_minor": 0
            },
            "text/plain": [
              "  0%|          | 0/281 [00:00<?, ?it/s]"
            ]
          },
          "metadata": {},
          "output_type": "display_data"
        },
        {
          "name": "stdout",
          "output_type": "stream",
          "text": [
            "{'eval_loss': 0.10122563689947128, 'eval_precision': 0.6004836109618484, 'eval_recall': 0.6635985748218527, 'eval_f1': 0.6304654442877292, 'eval_accuracy': 0.9793661808928984, 'eval_runtime': 231.0456, 'eval_samples_per_second': 19.429, 'eval_steps_per_second': 1.216, 'epoch': 7.0}\n"
          ]
        },
        {
          "name": "stderr",
          "output_type": "stream",
          "text": [
            "Saving model checkpoint to test-ner\\checkpoint-8000\n",
            "Configuration saved in test-ner\\checkpoint-8000\\config.json\n"
          ]
        },
        {
          "name": "stdout",
          "output_type": "stream",
          "text": [
            "{'loss': 0.0201, 'learning_rate': 8.127040664885723e-06, 'epoch': 7.12}\n"
          ]
        },
        {
          "name": "stderr",
          "output_type": "stream",
          "text": [
            "Model weights saved in test-ner\\checkpoint-8000\\pytorch_model.bin\n",
            "tokenizer config file saved in test-ner\\checkpoint-8000\\tokenizer_config.json\n",
            "Special tokens file saved in test-ner\\checkpoint-8000\\special_tokens_map.json\n",
            "Saving model checkpoint to test-ner\\checkpoint-8500\n",
            "Configuration saved in test-ner\\checkpoint-8500\\config.json\n"
          ]
        },
        {
          "name": "stdout",
          "output_type": "stream",
          "text": [
            "{'loss': 0.0158, 'learning_rate': 7.38498070644108e-06, 'epoch': 7.57}\n"
          ]
        },
        {
          "name": "stderr",
          "output_type": "stream",
          "text": [
            "Model weights saved in test-ner\\checkpoint-8500\\pytorch_model.bin\n",
            "tokenizer config file saved in test-ner\\checkpoint-8500\\tokenizer_config.json\n",
            "Special tokens file saved in test-ner\\checkpoint-8500\\special_tokens_map.json\n",
            "***** Running Evaluation *****\n",
            "  Num examples = 4489\n",
            "  Batch size = 16\n",
            "The following columns in the evaluation set don't have a corresponding argument in `CamembertForTokenClassification.forward` and have been ignored: id, pos_tags, ner_tags, tokens. If id, pos_tags, ner_tags, tokens are not expected by `CamembertForTokenClassification.forward`,  you can safely ignore this message.\n"
          ]
        },
        {
          "data": {
            "application/vnd.jupyter.widget-view+json": {
              "model_id": "a870237960484486bc389e90c2b4fe86",
              "version_major": 2,
              "version_minor": 0
            },
            "text/plain": [
              "  0%|          | 0/281 [00:00<?, ?it/s]"
            ]
          },
          "metadata": {},
          "output_type": "display_data"
        },
        {
          "name": "stdout",
          "output_type": "stream",
          "text": [
            "{'eval_loss': 0.10375021398067474, 'eval_precision': 0.6089217296113848, 'eval_recall': 0.6606294536817102, 'eval_f1': 0.6337225861577898, 'eval_accuracy': 0.9800543603978719, 'eval_runtime': 229.2925, 'eval_samples_per_second': 19.578, 'eval_steps_per_second': 1.226, 'epoch': 8.0}\n"
          ]
        },
        {
          "name": "stderr",
          "output_type": "stream",
          "text": [
            "Saving model checkpoint to test-ner\\checkpoint-9000\n",
            "Configuration saved in test-ner\\checkpoint-9000\\config.json\n"
          ]
        },
        {
          "name": "stdout",
          "output_type": "stream",
          "text": [
            "{'loss': 0.0199, 'learning_rate': 6.642920747996439e-06, 'epoch': 8.01}\n"
          ]
        },
        {
          "name": "stderr",
          "output_type": "stream",
          "text": [
            "Model weights saved in test-ner\\checkpoint-9000\\pytorch_model.bin\n",
            "tokenizer config file saved in test-ner\\checkpoint-9000\\tokenizer_config.json\n",
            "Special tokens file saved in test-ner\\checkpoint-9000\\special_tokens_map.json\n",
            "Saving model checkpoint to test-ner\\checkpoint-9500\n",
            "Configuration saved in test-ner\\checkpoint-9500\\config.json\n"
          ]
        },
        {
          "name": "stdout",
          "output_type": "stream",
          "text": [
            "{'loss': 0.0132, 'learning_rate': 5.900860789551797e-06, 'epoch': 8.46}\n"
          ]
        },
        {
          "name": "stderr",
          "output_type": "stream",
          "text": [
            "Model weights saved in test-ner\\checkpoint-9500\\pytorch_model.bin\n",
            "tokenizer config file saved in test-ner\\checkpoint-9500\\tokenizer_config.json\n",
            "Special tokens file saved in test-ner\\checkpoint-9500\\special_tokens_map.json\n",
            "Saving model checkpoint to test-ner\\checkpoint-10000\n",
            "Configuration saved in test-ner\\checkpoint-10000\\config.json\n"
          ]
        },
        {
          "name": "stdout",
          "output_type": "stream",
          "text": [
            "{'loss': 0.0148, 'learning_rate': 5.158800831107154e-06, 'epoch': 8.9}\n"
          ]
        },
        {
          "name": "stderr",
          "output_type": "stream",
          "text": [
            "Model weights saved in test-ner\\checkpoint-10000\\pytorch_model.bin\n",
            "tokenizer config file saved in test-ner\\checkpoint-10000\\tokenizer_config.json\n",
            "Special tokens file saved in test-ner\\checkpoint-10000\\special_tokens_map.json\n",
            "***** Running Evaluation *****\n",
            "  Num examples = 4489\n",
            "  Batch size = 16\n",
            "The following columns in the evaluation set don't have a corresponding argument in `CamembertForTokenClassification.forward` and have been ignored: id, pos_tags, ner_tags, tokens. If id, pos_tags, ner_tags, tokens are not expected by `CamembertForTokenClassification.forward`,  you can safely ignore this message.\n"
          ]
        },
        {
          "data": {
            "application/vnd.jupyter.widget-view+json": {
              "model_id": "44d99197a7d54a0ab513978a58ff0f81",
              "version_major": 2,
              "version_minor": 0
            },
            "text/plain": [
              "  0%|          | 0/281 [00:00<?, ?it/s]"
            ]
          },
          "metadata": {},
          "output_type": "display_data"
        },
        {
          "name": "stdout",
          "output_type": "stream",
          "text": [
            "{'eval_loss': 0.10992192476987839, 'eval_precision': 0.5927767600104684, 'eval_recall': 0.6725059382422803, 'eval_f1': 0.6301293643065795, 'eval_accuracy': 0.9793488318297479, 'eval_runtime': 229.4362, 'eval_samples_per_second': 19.565, 'eval_steps_per_second': 1.225, 'epoch': 9.0}\n"
          ]
        },
        {
          "name": "stderr",
          "output_type": "stream",
          "text": [
            "Saving model checkpoint to test-ner\\checkpoint-10500\n",
            "Configuration saved in test-ner\\checkpoint-10500\\config.json\n"
          ]
        },
        {
          "name": "stdout",
          "output_type": "stream",
          "text": [
            "{'loss': 0.0124, 'learning_rate': 4.4167408726625115e-06, 'epoch': 9.35}\n"
          ]
        },
        {
          "name": "stderr",
          "output_type": "stream",
          "text": [
            "Model weights saved in test-ner\\checkpoint-10500\\pytorch_model.bin\n",
            "tokenizer config file saved in test-ner\\checkpoint-10500\\tokenizer_config.json\n",
            "Special tokens file saved in test-ner\\checkpoint-10500\\special_tokens_map.json\n",
            "Saving model checkpoint to test-ner\\checkpoint-11000\n",
            "Configuration saved in test-ner\\checkpoint-11000\\config.json\n"
          ]
        },
        {
          "name": "stdout",
          "output_type": "stream",
          "text": [
            "{'loss': 0.012, 'learning_rate': 3.674680914217869e-06, 'epoch': 9.8}\n"
          ]
        },
        {
          "name": "stderr",
          "output_type": "stream",
          "text": [
            "Model weights saved in test-ner\\checkpoint-11000\\pytorch_model.bin\n",
            "tokenizer config file saved in test-ner\\checkpoint-11000\\tokenizer_config.json\n",
            "Special tokens file saved in test-ner\\checkpoint-11000\\special_tokens_map.json\n",
            "***** Running Evaluation *****\n",
            "  Num examples = 4489\n",
            "  Batch size = 16\n",
            "The following columns in the evaluation set don't have a corresponding argument in `CamembertForTokenClassification.forward` and have been ignored: id, pos_tags, ner_tags, tokens. If id, pos_tags, ner_tags, tokens are not expected by `CamembertForTokenClassification.forward`,  you can safely ignore this message.\n"
          ]
        },
        {
          "data": {
            "application/vnd.jupyter.widget-view+json": {
              "model_id": "a9e41f4fd07846549b72af1c49d1d608",
              "version_major": 2,
              "version_minor": 0
            },
            "text/plain": [
              "  0%|          | 0/281 [00:00<?, ?it/s]"
            ]
          },
          "metadata": {},
          "output_type": "display_data"
        },
        {
          "name": "stdout",
          "output_type": "stream",
          "text": [
            "{'eval_loss': 0.11228892207145691, 'eval_precision': 0.5888745148771022, 'eval_recall': 0.6757719714964371, 'eval_f1': 0.6293377575003457, 'eval_accuracy': 0.9791579921350914, 'eval_runtime': 239.4309, 'eval_samples_per_second': 18.749, 'eval_steps_per_second': 1.174, 'epoch': 10.0}\n"
          ]
        },
        {
          "name": "stderr",
          "output_type": "stream",
          "text": [
            "Saving model checkpoint to test-ner\\checkpoint-11500\n",
            "Configuration saved in test-ner\\checkpoint-11500\\config.json\n"
          ]
        },
        {
          "name": "stdout",
          "output_type": "stream",
          "text": [
            "{'loss': 0.0111, 'learning_rate': 2.9326209557732267e-06, 'epoch': 10.24}\n"
          ]
        },
        {
          "name": "stderr",
          "output_type": "stream",
          "text": [
            "Model weights saved in test-ner\\checkpoint-11500\\pytorch_model.bin\n",
            "tokenizer config file saved in test-ner\\checkpoint-11500\\tokenizer_config.json\n",
            "Special tokens file saved in test-ner\\checkpoint-11500\\special_tokens_map.json\n",
            "Saving model checkpoint to test-ner\\checkpoint-12000\n",
            "Configuration saved in test-ner\\checkpoint-12000\\config.json\n"
          ]
        },
        {
          "name": "stdout",
          "output_type": "stream",
          "text": [
            "{'loss': 0.0109, 'learning_rate': 2.1905609973285845e-06, 'epoch': 10.69}\n"
          ]
        },
        {
          "name": "stderr",
          "output_type": "stream",
          "text": [
            "Model weights saved in test-ner\\checkpoint-12000\\pytorch_model.bin\n",
            "tokenizer config file saved in test-ner\\checkpoint-12000\\tokenizer_config.json\n",
            "Special tokens file saved in test-ner\\checkpoint-12000\\special_tokens_map.json\n",
            "***** Running Evaluation *****\n",
            "  Num examples = 4489\n",
            "  Batch size = 16\n",
            "The following columns in the evaluation set don't have a corresponding argument in `CamembertForTokenClassification.forward` and have been ignored: id, pos_tags, ner_tags, tokens. If id, pos_tags, ner_tags, tokens are not expected by `CamembertForTokenClassification.forward`,  you can safely ignore this message.\n"
          ]
        },
        {
          "data": {
            "application/vnd.jupyter.widget-view+json": {
              "model_id": "2645b31fbd7d4254a55256cedc346c8f",
              "version_major": 2,
              "version_minor": 0
            },
            "text/plain": [
              "  0%|          | 0/281 [00:00<?, ?it/s]"
            ]
          },
          "metadata": {},
          "output_type": "display_data"
        },
        {
          "name": "stdout",
          "output_type": "stream",
          "text": [
            "{'eval_loss': 0.11553313583135605, 'eval_precision': 0.595695020746888, 'eval_recall': 0.6820071258907363, 'eval_f1': 0.6359357696566998, 'eval_accuracy': 0.9793719639139487, 'eval_runtime': 244.9482, 'eval_samples_per_second': 18.326, 'eval_steps_per_second': 1.147, 'epoch': 11.0}\n"
          ]
        },
        {
          "name": "stderr",
          "output_type": "stream",
          "text": [
            "Saving model checkpoint to test-ner\\checkpoint-12500\n",
            "Configuration saved in test-ner\\checkpoint-12500\\config.json\n"
          ]
        },
        {
          "name": "stdout",
          "output_type": "stream",
          "text": [
            "{'loss': 0.0106, 'learning_rate': 1.448501038883942e-06, 'epoch': 11.13}\n"
          ]
        },
        {
          "name": "stderr",
          "output_type": "stream",
          "text": [
            "Model weights saved in test-ner\\checkpoint-12500\\pytorch_model.bin\n",
            "tokenizer config file saved in test-ner\\checkpoint-12500\\tokenizer_config.json\n",
            "Special tokens file saved in test-ner\\checkpoint-12500\\special_tokens_map.json\n",
            "Saving model checkpoint to test-ner\\checkpoint-13000\n",
            "Configuration saved in test-ner\\checkpoint-13000\\config.json\n"
          ]
        },
        {
          "name": "stdout",
          "output_type": "stream",
          "text": [
            "{'loss': 0.0094, 'learning_rate': 7.064410804392996e-07, 'epoch': 11.58}\n"
          ]
        },
        {
          "name": "stderr",
          "output_type": "stream",
          "text": [
            "Model weights saved in test-ner\\checkpoint-13000\\pytorch_model.bin\n",
            "tokenizer config file saved in test-ner\\checkpoint-13000\\tokenizer_config.json\n",
            "Special tokens file saved in test-ner\\checkpoint-13000\\special_tokens_map.json\n",
            "***** Running Evaluation *****\n",
            "  Num examples = 4489\n",
            "  Batch size = 16\n",
            "The following columns in the evaluation set don't have a corresponding argument in `CamembertForTokenClassification.forward` and have been ignored: id, pos_tags, ner_tags, tokens. If id, pos_tags, ner_tags, tokens are not expected by `CamembertForTokenClassification.forward`,  you can safely ignore this message.\n"
          ]
        },
        {
          "data": {
            "application/vnd.jupyter.widget-view+json": {
              "model_id": "885699adf0fb44a08de8b3e5c7130e07",
              "version_major": 2,
              "version_minor": 0
            },
            "text/plain": [
              "  0%|          | 0/281 [00:00<?, ?it/s]"
            ]
          },
          "metadata": {},
          "output_type": "display_data"
        },
        {
          "name": "stderr",
          "output_type": "stream",
          "text": [
            "\n",
            "\n",
            "Training completed. Do not forget to share your model on huggingface.co/models =)\n",
            "\n",
            "\n"
          ]
        },
        {
          "name": "stdout",
          "output_type": "stream",
          "text": [
            "{'eval_loss': 0.11523691564798355, 'eval_precision': 0.6101921024546425, 'eval_recall': 0.6790380047505938, 'eval_f1': 0.6427768409218663, 'eval_accuracy': 0.9796842470506593, 'eval_runtime': 230.7244, 'eval_samples_per_second': 19.456, 'eval_steps_per_second': 1.218, 'epoch': 12.0}\n",
            "{'train_runtime': 38745.1394, 'train_samples_per_second': 5.561, 'train_steps_per_second': 0.348, 'train_loss': 0.04289283876993706, 'epoch': 12.0}\n",
            "CPU times: total: 3d 13h 54min 22s\n",
            "Wall time: 10h 45min 45s\n"
          ]
        },
        {
          "data": {
            "text/plain": [
              "TrainOutput(global_step=13476, training_loss=0.04289283876993706, metrics={'train_runtime': 38745.1394, 'train_samples_per_second': 5.561, 'train_steps_per_second': 0.348, 'train_loss': 0.04289283876993706, 'epoch': 12.0})"
            ]
          },
          "execution_count": 16,
          "metadata": {},
          "output_type": "execute_result"
        }
      ],
      "source": [
        "%%time\n",
        "#call method train\n",
        "trainer.train()"
      ]
    },
    {
      "cell_type": "code",
      "execution_count": null,
      "id": "a01b56aa",
      "metadata": {
        "colab": {
          "referenced_widgets": [
            "a47a633878554705b2ebf9ce1e4d23ee"
          ]
        },
        "id": "a01b56aa",
        "outputId": "1e1cad1f-4c47-4053-eb86-113fb18ee63f"
      },
      "outputs": [
        {
          "name": "stderr",
          "output_type": "stream",
          "text": [
            "***** Running Evaluation *****\n",
            "  Num examples = 4489\n",
            "  Batch size = 16\n",
            "The following columns in the evaluation set don't have a corresponding argument in `CamembertForTokenClassification.forward` and have been ignored: id, pos_tags, ner_tags, tokens. If id, pos_tags, ner_tags, tokens are not expected by `CamembertForTokenClassification.forward`,  you can safely ignore this message.\n"
          ]
        },
        {
          "data": {
            "application/vnd.jupyter.widget-view+json": {
              "model_id": "a47a633878554705b2ebf9ce1e4d23ee",
              "version_major": 2,
              "version_minor": 0
            },
            "text/plain": [
              "  0%|          | 0/281 [00:00<?, ?it/s]"
            ]
          },
          "metadata": {},
          "output_type": "display_data"
        },
        {
          "data": {
            "text/plain": [
              "{'eval_loss': 0.11523691564798355,\n",
              " 'eval_precision': 0.6101921024546425,\n",
              " 'eval_recall': 0.6790380047505938,\n",
              " 'eval_f1': 0.6427768409218663,\n",
              " 'eval_accuracy': 0.9796842470506593,\n",
              " 'eval_runtime': 258.8931,\n",
              " 'eval_samples_per_second': 17.339,\n",
              " 'eval_steps_per_second': 1.085,\n",
              " 'epoch': 12.0}"
            ]
          },
          "execution_count": 17,
          "metadata": {},
          "output_type": "execute_result"
        }
      ],
      "source": [
        "trainer.evaluate()"
      ]
    },
    {
      "cell_type": "code",
      "execution_count": null,
      "id": "aef51d54",
      "metadata": {
        "colab": {
          "referenced_widgets": [
            "bbf07ac9bbba4e7a8cef55bb702116e9"
          ]
        },
        "id": "aef51d54",
        "outputId": "c7dbcbe1-9e07-4af4-e2df-e6e54bcf1f78"
      },
      "outputs": [
        {
          "name": "stderr",
          "output_type": "stream",
          "text": [
            "***** Running Prediction *****\n",
            "  Num examples = 22444\n",
            "  Batch size = 16\n",
            "The following columns in the test set don't have a corresponding argument in `CamembertForTokenClassification.forward` and have been ignored: id, pos_tags, ner_tags, tokens. If id, pos_tags, ner_tags, tokens are not expected by `CamembertForTokenClassification.forward`,  you can safely ignore this message.\n"
          ]
        },
        {
          "data": {
            "application/vnd.jupyter.widget-view+json": {
              "model_id": "bbf07ac9bbba4e7a8cef55bb702116e9",
              "version_major": 2,
              "version_minor": 0
            },
            "text/plain": [
              "  0%|          | 0/1403 [00:00<?, ?it/s]"
            ]
          },
          "metadata": {},
          "output_type": "display_data"
        }
      ],
      "source": [
        "predictions, labels, _ = trainer.predict(test_bert)\n",
        "predictions = np.argmax(predictions, axis=2)"
      ]
    },
    {
      "cell_type": "code",
      "execution_count": null,
      "id": "3a1dbaa5",
      "metadata": {
        "id": "3a1dbaa5"
      },
      "outputs": [],
      "source": [
        "true_predictions = [\n",
        "    [label_list[p].replace(\"_\", \"-\") for (p, l) in zip(prediction, label) if l != -100]\n",
        "    for prediction, label in zip(predictions, labels)\n",
        "]\n",
        "true_labels = [\n",
        "    [label_list[l].replace(\"_\", \"-\") for (p, l) in zip(prediction, label) if l != -100]\n",
        "    for prediction, label in zip(predictions, labels)\n",
        "]"
      ]
    },
    {
      "cell_type": "code",
      "execution_count": null,
      "id": "0960e68c",
      "metadata": {
        "id": "0960e68c",
        "outputId": "37c25728-b2b7-4270-81dd-3771a835e665"
      },
      "outputs": [
        {
          "name": "stdout",
          "output_type": "stream",
          "text": [
            "{'ACP': {'precision': 0.9083969465648855, 'recall': 0.9107142857142857, 'f1': 0.9095541401273886, 'number': 784}, 'ADMIN': {'precision': 0.9004464285714285, 'recall': 0.9312096029547553, 'f1': 0.9155696777122107, 'number': 4332}, 'BSN': {'precision': 0.7857142857142857, 'recall': 0.8722466960352423, 'f1': 0.8267223382045928, 'number': 454}, 'DEP': {'precision': 0.896849593495935, 'recall': 0.9378320935175345, 'f1': 0.9168831168831169, 'number': 1882}, 'FPLACE': {'precision': 0.8397185301016419, 'recall': 0.9063291139240506, 'f1': 0.8717532467532467, 'number': 1185}, 'GOV': {'precision': 0.8895348837209303, 'recall': 0.8668555240793201, 'f1': 0.8780487804878049, 'number': 353}, 'HP': {'precision': 0.89749430523918, 'recall': 0.9099307159353349, 'f1': 0.9036697247706422, 'number': 433}, 'MKT': {'precision': 0.9370629370629371, 'recall': 0.9273356401384083, 'f1': 0.9321739130434783, 'number': 289}, 'MON': {'precision': 0.75, 'recall': 0.6976744186046512, 'f1': 0.7228915662650603, 'number': 43}, 'NAT': {'precision': 0.8136363636363636, 'recall': 0.8817733990147784, 'f1': 0.8463356973995272, 'number': 203}, 'OTHER': {'precision': 0.9090909090909091, 'recall': 0.625, 'f1': 0.7407407407407406, 'number': 32}, 'RCT': {'precision': 0.887816646562123, 'recall': 0.9375796178343949, 'f1': 0.9120198265179676, 'number': 785}, 'RES': {'precision': 0.8013245033112583, 'recall': 0.8784029038112523, 'f1': 0.8380952380952381, 'number': 551}, 'ROAD': {'precision': 0.8928571428571429, 'recall': 0.9136546184738956, 'f1': 0.9031361651448987, 'number': 2490}, 'RP': {'precision': 0.9492619926199262, 'recall': 0.9572093023255814, 'f1': 0.953219082908754, 'number': 1075}, 'RT': {'precision': 0.8628546861564919, 'recall': 0.904054054054054, 'f1': 0.8829740431148262, 'number': 2220}, 'STORE': {'precision': 0.8454545454545455, 'recall': 0.768595041322314, 'f1': 0.8051948051948052, 'number': 363}, 'TRAN': {'precision': 0.8178913738019169, 'recall': 0.9126559714795008, 'f1': 0.8626790227464195, 'number': 561}, 'overall_precision': 0.8817526048624098, 'overall_recall': 0.9149986138064874, 'overall_f1': 0.8980680272108843, 'overall_accuracy': 0.994506246751318}\n"
          ]
        }
      ],
      "source": [
        "results = metric.compute(predictions=true_predictions, references=true_labels)\n",
        "print(results)"
      ]
    },
    {
      "cell_type": "code",
      "execution_count": null,
      "id": "871605aa",
      "metadata": {
        "id": "871605aa"
      },
      "outputs": [],
      "source": [
        "#reformat classification report\n",
        "def show_3digits(evalue):\n",
        "    val = round(evalue, 4)\n",
        "    return val\n",
        "\n",
        "def eliminate_decimal(evalue):\n",
        "    val = int(evalue)\n",
        "    return val\n",
        "\n",
        "classification_report = pd.DataFrame.from_dict(results).transpose()\n",
        "\n",
        "classification_report['precision'] = classification_report['precision'].apply(show_3digits)\n",
        "classification_report['recall'] = classification_report['recall'].apply(show_3digits)\n",
        "classification_report['f1'] = classification_report['f1'].apply(show_3digits)\n",
        "classification_report['number'] = classification_report['number'].apply(eliminate_decimal)"
      ]
    },
    {
      "cell_type": "code",
      "execution_count": null,
      "id": "a9e8477e",
      "metadata": {
        "id": "a9e8477e",
        "outputId": "dd99818f-8671-4019-84c7-97a9325c5e40"
      },
      "outputs": [
        {
          "name": "stdout",
          "output_type": "stream",
          "text": [
            "                   precision  recall      f1  number\n",
            "ACP                   0.9084  0.9107  0.9096     784\n",
            "ADMIN                 0.9004  0.9312  0.9156    4332\n",
            "BSN                   0.7857  0.8722  0.8267     454\n",
            "DEP                   0.8968  0.9378  0.9169    1882\n",
            "FPLACE                0.8397  0.9063  0.8718    1185\n",
            "GOV                   0.8895  0.8669  0.8780     353\n",
            "HP                    0.8975  0.9099  0.9037     433\n",
            "MKT                   0.9371  0.9273  0.9322     289\n",
            "MON                   0.7500  0.6977  0.7229      43\n",
            "NAT                   0.8136  0.8818  0.8463     203\n",
            "OTHER                 0.9091  0.6250  0.7407      32\n",
            "RCT                   0.8878  0.9376  0.9120     785\n",
            "RES                   0.8013  0.8784  0.8381     551\n",
            "ROAD                  0.8929  0.9137  0.9031    2490\n",
            "RP                    0.9493  0.9572  0.9532    1075\n",
            "RT                    0.8629  0.9041  0.8830    2220\n",
            "STORE                 0.8455  0.7686  0.8052     363\n",
            "TRAN                  0.8179  0.9127  0.8627     561\n",
            "overall_precision     0.8818  0.8818  0.8818       0\n",
            "overall_recall        0.9150  0.9150  0.9150       0\n",
            "overall_f1            0.8981  0.8981  0.8981       0\n",
            "overall_accuracy      0.9945  0.9945  0.9945       0\n"
          ]
        }
      ],
      "source": [
        "print(classification_report)"
      ]
    },
    {
      "cell_type": "code",
      "execution_count": null,
      "id": "538f3523",
      "metadata": {
        "id": "538f3523"
      },
      "outputs": [],
      "source": []
    }
  ],
  "metadata": {
    "kernelspec": {
      "display_name": "Python 3.8.13 ('geo_bert')",
      "language": "python",
      "name": "python3"
    },
    "language_info": {
      "codemirror_mode": {
        "name": "ipython",
        "version": 3
      },
      "file_extension": ".py",
      "mimetype": "text/x-python",
      "name": "python",
      "nbconvert_exporter": "python",
      "pygments_lexer": "ipython3",
      "version": "3.8.13"
    },
    "vscode": {
      "interpreter": {
        "hash": "86f0e5ffc1dfc69bbd1cc897569f3f3196e8b770cb904e85f7309af0e7cfa679"
      }
    },
    "colab": {
      "provenance": [],
      "include_colab_link": true
    },
    "accelerator": "GPU",
    "gpuClass": "standard",
    "widgets": {
      "application/vnd.jupyter.widget-state+json": {
        "18529e5c7985477e8f88ce9e053bdc80": {
          "model_module": "@jupyter-widgets/controls",
          "model_name": "HBoxModel",
          "model_module_version": "1.5.0",
          "state": {
            "_dom_classes": [],
            "_model_module": "@jupyter-widgets/controls",
            "_model_module_version": "1.5.0",
            "_model_name": "HBoxModel",
            "_view_count": null,
            "_view_module": "@jupyter-widgets/controls",
            "_view_module_version": "1.5.0",
            "_view_name": "HBoxView",
            "box_style": "",
            "children": [
              "IPY_MODEL_9b06224982c04775b4d66681260da568",
              "IPY_MODEL_1bed6b71aa40444abf9a12b383582815",
              "IPY_MODEL_23b3662a1e164c889dee98c03507172e"
            ],
            "layout": "IPY_MODEL_f76b592022e648a29e2a03387ecbf2b3"
          }
        },
        "9b06224982c04775b4d66681260da568": {
          "model_module": "@jupyter-widgets/controls",
          "model_name": "HTMLModel",
          "model_module_version": "1.5.0",
          "state": {
            "_dom_classes": [],
            "_model_module": "@jupyter-widgets/controls",
            "_model_module_version": "1.5.0",
            "_model_name": "HTMLModel",
            "_view_count": null,
            "_view_module": "@jupyter-widgets/controls",
            "_view_module_version": "1.5.0",
            "_view_name": "HTMLView",
            "description": "",
            "description_tooltip": null,
            "layout": "IPY_MODEL_c5906f8ccba6490aaf454c4d0ce6195f",
            "placeholder": "​",
            "style": "IPY_MODEL_8301d4981e2140559f7c19aae6dc0b9f",
            "value": "Downloading: 100%"
          }
        },
        "1bed6b71aa40444abf9a12b383582815": {
          "model_module": "@jupyter-widgets/controls",
          "model_name": "FloatProgressModel",
          "model_module_version": "1.5.0",
          "state": {
            "_dom_classes": [],
            "_model_module": "@jupyter-widgets/controls",
            "_model_module_version": "1.5.0",
            "_model_name": "FloatProgressModel",
            "_view_count": null,
            "_view_module": "@jupyter-widgets/controls",
            "_view_module_version": "1.5.0",
            "_view_name": "ProgressView",
            "bar_style": "success",
            "description": "",
            "description_tooltip": null,
            "layout": "IPY_MODEL_d9c5c1e93e0046a5a80b20e08f59b91e",
            "max": 546,
            "min": 0,
            "orientation": "horizontal",
            "style": "IPY_MODEL_46574455fc0d45b1b36ff37aad89df44",
            "value": 546
          }
        },
        "23b3662a1e164c889dee98c03507172e": {
          "model_module": "@jupyter-widgets/controls",
          "model_name": "HTMLModel",
          "model_module_version": "1.5.0",
          "state": {
            "_dom_classes": [],
            "_model_module": "@jupyter-widgets/controls",
            "_model_module_version": "1.5.0",
            "_model_name": "HTMLModel",
            "_view_count": null,
            "_view_module": "@jupyter-widgets/controls",
            "_view_module_version": "1.5.0",
            "_view_name": "HTMLView",
            "description": "",
            "description_tooltip": null,
            "layout": "IPY_MODEL_6de37ee74c434c83914e6b32190a7869",
            "placeholder": "​",
            "style": "IPY_MODEL_93f4f5c8b2aa48e499101bbc69dfc39f",
            "value": " 546/546 [00:00&lt;00:00, 17.4kB/s]"
          }
        },
        "f76b592022e648a29e2a03387ecbf2b3": {
          "model_module": "@jupyter-widgets/base",
          "model_name": "LayoutModel",
          "model_module_version": "1.2.0",
          "state": {
            "_model_module": "@jupyter-widgets/base",
            "_model_module_version": "1.2.0",
            "_model_name": "LayoutModel",
            "_view_count": null,
            "_view_module": "@jupyter-widgets/base",
            "_view_module_version": "1.2.0",
            "_view_name": "LayoutView",
            "align_content": null,
            "align_items": null,
            "align_self": null,
            "border": null,
            "bottom": null,
            "display": null,
            "flex": null,
            "flex_flow": null,
            "grid_area": null,
            "grid_auto_columns": null,
            "grid_auto_flow": null,
            "grid_auto_rows": null,
            "grid_column": null,
            "grid_gap": null,
            "grid_row": null,
            "grid_template_areas": null,
            "grid_template_columns": null,
            "grid_template_rows": null,
            "height": null,
            "justify_content": null,
            "justify_items": null,
            "left": null,
            "margin": null,
            "max_height": null,
            "max_width": null,
            "min_height": null,
            "min_width": null,
            "object_fit": null,
            "object_position": null,
            "order": null,
            "overflow": null,
            "overflow_x": null,
            "overflow_y": null,
            "padding": null,
            "right": null,
            "top": null,
            "visibility": null,
            "width": null
          }
        },
        "c5906f8ccba6490aaf454c4d0ce6195f": {
          "model_module": "@jupyter-widgets/base",
          "model_name": "LayoutModel",
          "model_module_version": "1.2.0",
          "state": {
            "_model_module": "@jupyter-widgets/base",
            "_model_module_version": "1.2.0",
            "_model_name": "LayoutModel",
            "_view_count": null,
            "_view_module": "@jupyter-widgets/base",
            "_view_module_version": "1.2.0",
            "_view_name": "LayoutView",
            "align_content": null,
            "align_items": null,
            "align_self": null,
            "border": null,
            "bottom": null,
            "display": null,
            "flex": null,
            "flex_flow": null,
            "grid_area": null,
            "grid_auto_columns": null,
            "grid_auto_flow": null,
            "grid_auto_rows": null,
            "grid_column": null,
            "grid_gap": null,
            "grid_row": null,
            "grid_template_areas": null,
            "grid_template_columns": null,
            "grid_template_rows": null,
            "height": null,
            "justify_content": null,
            "justify_items": null,
            "left": null,
            "margin": null,
            "max_height": null,
            "max_width": null,
            "min_height": null,
            "min_width": null,
            "object_fit": null,
            "object_position": null,
            "order": null,
            "overflow": null,
            "overflow_x": null,
            "overflow_y": null,
            "padding": null,
            "right": null,
            "top": null,
            "visibility": null,
            "width": null
          }
        },
        "8301d4981e2140559f7c19aae6dc0b9f": {
          "model_module": "@jupyter-widgets/controls",
          "model_name": "DescriptionStyleModel",
          "model_module_version": "1.5.0",
          "state": {
            "_model_module": "@jupyter-widgets/controls",
            "_model_module_version": "1.5.0",
            "_model_name": "DescriptionStyleModel",
            "_view_count": null,
            "_view_module": "@jupyter-widgets/base",
            "_view_module_version": "1.2.0",
            "_view_name": "StyleView",
            "description_width": ""
          }
        },
        "d9c5c1e93e0046a5a80b20e08f59b91e": {
          "model_module": "@jupyter-widgets/base",
          "model_name": "LayoutModel",
          "model_module_version": "1.2.0",
          "state": {
            "_model_module": "@jupyter-widgets/base",
            "_model_module_version": "1.2.0",
            "_model_name": "LayoutModel",
            "_view_count": null,
            "_view_module": "@jupyter-widgets/base",
            "_view_module_version": "1.2.0",
            "_view_name": "LayoutView",
            "align_content": null,
            "align_items": null,
            "align_self": null,
            "border": null,
            "bottom": null,
            "display": null,
            "flex": null,
            "flex_flow": null,
            "grid_area": null,
            "grid_auto_columns": null,
            "grid_auto_flow": null,
            "grid_auto_rows": null,
            "grid_column": null,
            "grid_gap": null,
            "grid_row": null,
            "grid_template_areas": null,
            "grid_template_columns": null,
            "grid_template_rows": null,
            "height": null,
            "justify_content": null,
            "justify_items": null,
            "left": null,
            "margin": null,
            "max_height": null,
            "max_width": null,
            "min_height": null,
            "min_width": null,
            "object_fit": null,
            "object_position": null,
            "order": null,
            "overflow": null,
            "overflow_x": null,
            "overflow_y": null,
            "padding": null,
            "right": null,
            "top": null,
            "visibility": null,
            "width": null
          }
        },
        "46574455fc0d45b1b36ff37aad89df44": {
          "model_module": "@jupyter-widgets/controls",
          "model_name": "ProgressStyleModel",
          "model_module_version": "1.5.0",
          "state": {
            "_model_module": "@jupyter-widgets/controls",
            "_model_module_version": "1.5.0",
            "_model_name": "ProgressStyleModel",
            "_view_count": null,
            "_view_module": "@jupyter-widgets/base",
            "_view_module_version": "1.2.0",
            "_view_name": "StyleView",
            "bar_color": null,
            "description_width": ""
          }
        },
        "6de37ee74c434c83914e6b32190a7869": {
          "model_module": "@jupyter-widgets/base",
          "model_name": "LayoutModel",
          "model_module_version": "1.2.0",
          "state": {
            "_model_module": "@jupyter-widgets/base",
            "_model_module_version": "1.2.0",
            "_model_name": "LayoutModel",
            "_view_count": null,
            "_view_module": "@jupyter-widgets/base",
            "_view_module_version": "1.2.0",
            "_view_name": "LayoutView",
            "align_content": null,
            "align_items": null,
            "align_self": null,
            "border": null,
            "bottom": null,
            "display": null,
            "flex": null,
            "flex_flow": null,
            "grid_area": null,
            "grid_auto_columns": null,
            "grid_auto_flow": null,
            "grid_auto_rows": null,
            "grid_column": null,
            "grid_gap": null,
            "grid_row": null,
            "grid_template_areas": null,
            "grid_template_columns": null,
            "grid_template_rows": null,
            "height": null,
            "justify_content": null,
            "justify_items": null,
            "left": null,
            "margin": null,
            "max_height": null,
            "max_width": null,
            "min_height": null,
            "min_width": null,
            "object_fit": null,
            "object_position": null,
            "order": null,
            "overflow": null,
            "overflow_x": null,
            "overflow_y": null,
            "padding": null,
            "right": null,
            "top": null,
            "visibility": null,
            "width": null
          }
        },
        "93f4f5c8b2aa48e499101bbc69dfc39f": {
          "model_module": "@jupyter-widgets/controls",
          "model_name": "DescriptionStyleModel",
          "model_module_version": "1.5.0",
          "state": {
            "_model_module": "@jupyter-widgets/controls",
            "_model_module_version": "1.5.0",
            "_model_name": "DescriptionStyleModel",
            "_view_count": null,
            "_view_module": "@jupyter-widgets/base",
            "_view_module_version": "1.2.0",
            "_view_name": "StyleView",
            "description_width": ""
          }
        },
        "e187ff70489d4cbe928f33e016816454": {
          "model_module": "@jupyter-widgets/controls",
          "model_name": "HBoxModel",
          "model_module_version": "1.5.0",
          "state": {
            "_dom_classes": [],
            "_model_module": "@jupyter-widgets/controls",
            "_model_module_version": "1.5.0",
            "_model_name": "HBoxModel",
            "_view_count": null,
            "_view_module": "@jupyter-widgets/controls",
            "_view_module_version": "1.5.0",
            "_view_name": "HBoxView",
            "box_style": "",
            "children": [
              "IPY_MODEL_f3704606a43d46908e4be6641336ad09",
              "IPY_MODEL_7ec880769d1f4680a00d2df483944768",
              "IPY_MODEL_d57c5467c6d346c09655d25b67ec7dbc"
            ],
            "layout": "IPY_MODEL_15df66aa48f74d57ada513cc4b3859a5"
          }
        },
        "f3704606a43d46908e4be6641336ad09": {
          "model_module": "@jupyter-widgets/controls",
          "model_name": "HTMLModel",
          "model_module_version": "1.5.0",
          "state": {
            "_dom_classes": [],
            "_model_module": "@jupyter-widgets/controls",
            "_model_module_version": "1.5.0",
            "_model_name": "HTMLModel",
            "_view_count": null,
            "_view_module": "@jupyter-widgets/controls",
            "_view_module_version": "1.5.0",
            "_view_name": "HTMLView",
            "description": "",
            "description_tooltip": null,
            "layout": "IPY_MODEL_1aa45f7275ce459a87315d533edd5a11",
            "placeholder": "​",
            "style": "IPY_MODEL_d7e48edbfee24a5c9dd2c916dcc8c1d6",
            "value": "Downloading: 100%"
          }
        },
        "7ec880769d1f4680a00d2df483944768": {
          "model_module": "@jupyter-widgets/controls",
          "model_name": "FloatProgressModel",
          "model_module_version": "1.5.0",
          "state": {
            "_dom_classes": [],
            "_model_module": "@jupyter-widgets/controls",
            "_model_module_version": "1.5.0",
            "_model_name": "FloatProgressModel",
            "_view_count": null,
            "_view_module": "@jupyter-widgets/controls",
            "_view_module_version": "1.5.0",
            "_view_name": "ProgressView",
            "bar_style": "success",
            "description": "",
            "description_tooltip": null,
            "layout": "IPY_MODEL_b0212133fedb427dac3e040a6cb2d927",
            "max": 904693,
            "min": 0,
            "orientation": "horizontal",
            "style": "IPY_MODEL_bcd385ff6359465c8abb325c5743b486",
            "value": 904693
          }
        },
        "d57c5467c6d346c09655d25b67ec7dbc": {
          "model_module": "@jupyter-widgets/controls",
          "model_name": "HTMLModel",
          "model_module_version": "1.5.0",
          "state": {
            "_dom_classes": [],
            "_model_module": "@jupyter-widgets/controls",
            "_model_module_version": "1.5.0",
            "_model_name": "HTMLModel",
            "_view_count": null,
            "_view_module": "@jupyter-widgets/controls",
            "_view_module_version": "1.5.0",
            "_view_name": "HTMLView",
            "description": "",
            "description_tooltip": null,
            "layout": "IPY_MODEL_ce6f77cdeddc4d7cb94bd44321aef6af",
            "placeholder": "​",
            "style": "IPY_MODEL_dbad248f7947488f87d275ac20a1d335",
            "value": " 905k/905k [00:00&lt;00:00, 3.05MB/s]"
          }
        },
        "15df66aa48f74d57ada513cc4b3859a5": {
          "model_module": "@jupyter-widgets/base",
          "model_name": "LayoutModel",
          "model_module_version": "1.2.0",
          "state": {
            "_model_module": "@jupyter-widgets/base",
            "_model_module_version": "1.2.0",
            "_model_name": "LayoutModel",
            "_view_count": null,
            "_view_module": "@jupyter-widgets/base",
            "_view_module_version": "1.2.0",
            "_view_name": "LayoutView",
            "align_content": null,
            "align_items": null,
            "align_self": null,
            "border": null,
            "bottom": null,
            "display": null,
            "flex": null,
            "flex_flow": null,
            "grid_area": null,
            "grid_auto_columns": null,
            "grid_auto_flow": null,
            "grid_auto_rows": null,
            "grid_column": null,
            "grid_gap": null,
            "grid_row": null,
            "grid_template_areas": null,
            "grid_template_columns": null,
            "grid_template_rows": null,
            "height": null,
            "justify_content": null,
            "justify_items": null,
            "left": null,
            "margin": null,
            "max_height": null,
            "max_width": null,
            "min_height": null,
            "min_width": null,
            "object_fit": null,
            "object_position": null,
            "order": null,
            "overflow": null,
            "overflow_x": null,
            "overflow_y": null,
            "padding": null,
            "right": null,
            "top": null,
            "visibility": null,
            "width": null
          }
        },
        "1aa45f7275ce459a87315d533edd5a11": {
          "model_module": "@jupyter-widgets/base",
          "model_name": "LayoutModel",
          "model_module_version": "1.2.0",
          "state": {
            "_model_module": "@jupyter-widgets/base",
            "_model_module_version": "1.2.0",
            "_model_name": "LayoutModel",
            "_view_count": null,
            "_view_module": "@jupyter-widgets/base",
            "_view_module_version": "1.2.0",
            "_view_name": "LayoutView",
            "align_content": null,
            "align_items": null,
            "align_self": null,
            "border": null,
            "bottom": null,
            "display": null,
            "flex": null,
            "flex_flow": null,
            "grid_area": null,
            "grid_auto_columns": null,
            "grid_auto_flow": null,
            "grid_auto_rows": null,
            "grid_column": null,
            "grid_gap": null,
            "grid_row": null,
            "grid_template_areas": null,
            "grid_template_columns": null,
            "grid_template_rows": null,
            "height": null,
            "justify_content": null,
            "justify_items": null,
            "left": null,
            "margin": null,
            "max_height": null,
            "max_width": null,
            "min_height": null,
            "min_width": null,
            "object_fit": null,
            "object_position": null,
            "order": null,
            "overflow": null,
            "overflow_x": null,
            "overflow_y": null,
            "padding": null,
            "right": null,
            "top": null,
            "visibility": null,
            "width": null
          }
        },
        "d7e48edbfee24a5c9dd2c916dcc8c1d6": {
          "model_module": "@jupyter-widgets/controls",
          "model_name": "DescriptionStyleModel",
          "model_module_version": "1.5.0",
          "state": {
            "_model_module": "@jupyter-widgets/controls",
            "_model_module_version": "1.5.0",
            "_model_name": "DescriptionStyleModel",
            "_view_count": null,
            "_view_module": "@jupyter-widgets/base",
            "_view_module_version": "1.2.0",
            "_view_name": "StyleView",
            "description_width": ""
          }
        },
        "b0212133fedb427dac3e040a6cb2d927": {
          "model_module": "@jupyter-widgets/base",
          "model_name": "LayoutModel",
          "model_module_version": "1.2.0",
          "state": {
            "_model_module": "@jupyter-widgets/base",
            "_model_module_version": "1.2.0",
            "_model_name": "LayoutModel",
            "_view_count": null,
            "_view_module": "@jupyter-widgets/base",
            "_view_module_version": "1.2.0",
            "_view_name": "LayoutView",
            "align_content": null,
            "align_items": null,
            "align_self": null,
            "border": null,
            "bottom": null,
            "display": null,
            "flex": null,
            "flex_flow": null,
            "grid_area": null,
            "grid_auto_columns": null,
            "grid_auto_flow": null,
            "grid_auto_rows": null,
            "grid_column": null,
            "grid_gap": null,
            "grid_row": null,
            "grid_template_areas": null,
            "grid_template_columns": null,
            "grid_template_rows": null,
            "height": null,
            "justify_content": null,
            "justify_items": null,
            "left": null,
            "margin": null,
            "max_height": null,
            "max_width": null,
            "min_height": null,
            "min_width": null,
            "object_fit": null,
            "object_position": null,
            "order": null,
            "overflow": null,
            "overflow_x": null,
            "overflow_y": null,
            "padding": null,
            "right": null,
            "top": null,
            "visibility": null,
            "width": null
          }
        },
        "bcd385ff6359465c8abb325c5743b486": {
          "model_module": "@jupyter-widgets/controls",
          "model_name": "ProgressStyleModel",
          "model_module_version": "1.5.0",
          "state": {
            "_model_module": "@jupyter-widgets/controls",
            "_model_module_version": "1.5.0",
            "_model_name": "ProgressStyleModel",
            "_view_count": null,
            "_view_module": "@jupyter-widgets/base",
            "_view_module_version": "1.2.0",
            "_view_name": "StyleView",
            "bar_color": null,
            "description_width": ""
          }
        },
        "ce6f77cdeddc4d7cb94bd44321aef6af": {
          "model_module": "@jupyter-widgets/base",
          "model_name": "LayoutModel",
          "model_module_version": "1.2.0",
          "state": {
            "_model_module": "@jupyter-widgets/base",
            "_model_module_version": "1.2.0",
            "_model_name": "LayoutModel",
            "_view_count": null,
            "_view_module": "@jupyter-widgets/base",
            "_view_module_version": "1.2.0",
            "_view_name": "LayoutView",
            "align_content": null,
            "align_items": null,
            "align_self": null,
            "border": null,
            "bottom": null,
            "display": null,
            "flex": null,
            "flex_flow": null,
            "grid_area": null,
            "grid_auto_columns": null,
            "grid_auto_flow": null,
            "grid_auto_rows": null,
            "grid_column": null,
            "grid_gap": null,
            "grid_row": null,
            "grid_template_areas": null,
            "grid_template_columns": null,
            "grid_template_rows": null,
            "height": null,
            "justify_content": null,
            "justify_items": null,
            "left": null,
            "margin": null,
            "max_height": null,
            "max_width": null,
            "min_height": null,
            "min_width": null,
            "object_fit": null,
            "object_position": null,
            "order": null,
            "overflow": null,
            "overflow_x": null,
            "overflow_y": null,
            "padding": null,
            "right": null,
            "top": null,
            "visibility": null,
            "width": null
          }
        },
        "dbad248f7947488f87d275ac20a1d335": {
          "model_module": "@jupyter-widgets/controls",
          "model_name": "DescriptionStyleModel",
          "model_module_version": "1.5.0",
          "state": {
            "_model_module": "@jupyter-widgets/controls",
            "_model_module_version": "1.5.0",
            "_model_name": "DescriptionStyleModel",
            "_view_count": null,
            "_view_module": "@jupyter-widgets/base",
            "_view_module_version": "1.2.0",
            "_view_name": "StyleView",
            "description_width": ""
          }
        },
        "80b43ec8ff35412fbf6893fa4248e3cb": {
          "model_module": "@jupyter-widgets/controls",
          "model_name": "HBoxModel",
          "model_module_version": "1.5.0",
          "state": {
            "_dom_classes": [],
            "_model_module": "@jupyter-widgets/controls",
            "_model_module_version": "1.5.0",
            "_model_name": "HBoxModel",
            "_view_count": null,
            "_view_module": "@jupyter-widgets/controls",
            "_view_module_version": "1.5.0",
            "_view_name": "HBoxView",
            "box_style": "",
            "children": [
              "IPY_MODEL_0ecc81a1977b4933aa4d870df8a0ac9c",
              "IPY_MODEL_6c0ef7fe5be14cf1bc92a1fe4a472d38",
              "IPY_MODEL_f086ccb7b0ba471581d14bf425e4cb63"
            ],
            "layout": "IPY_MODEL_f8587d9052e44a499155f52c22e14464"
          }
        },
        "0ecc81a1977b4933aa4d870df8a0ac9c": {
          "model_module": "@jupyter-widgets/controls",
          "model_name": "HTMLModel",
          "model_module_version": "1.5.0",
          "state": {
            "_dom_classes": [],
            "_model_module": "@jupyter-widgets/controls",
            "_model_module_version": "1.5.0",
            "_model_name": "HTMLModel",
            "_view_count": null,
            "_view_module": "@jupyter-widgets/controls",
            "_view_module_version": "1.5.0",
            "_view_name": "HTMLView",
            "description": "",
            "description_tooltip": null,
            "layout": "IPY_MODEL_262418ce8b9f42669a363f3fb8a5d771",
            "placeholder": "​",
            "style": "IPY_MODEL_a0fcb5eab8ad4fb3a279215ae48702db",
            "value": "Downloading: 100%"
          }
        },
        "6c0ef7fe5be14cf1bc92a1fe4a472d38": {
          "model_module": "@jupyter-widgets/controls",
          "model_name": "FloatProgressModel",
          "model_module_version": "1.5.0",
          "state": {
            "_dom_classes": [],
            "_model_module": "@jupyter-widgets/controls",
            "_model_module_version": "1.5.0",
            "_model_name": "FloatProgressModel",
            "_view_count": null,
            "_view_module": "@jupyter-widgets/controls",
            "_view_module_version": "1.5.0",
            "_view_name": "ProgressView",
            "bar_style": "success",
            "description": "",
            "description_tooltip": null,
            "layout": "IPY_MODEL_cf35265ccf7f46759bd7031931fe9243",
            "max": 282,
            "min": 0,
            "orientation": "horizontal",
            "style": "IPY_MODEL_35ed2de7220c4ba99c04852bfe5177bd",
            "value": 282
          }
        },
        "f086ccb7b0ba471581d14bf425e4cb63": {
          "model_module": "@jupyter-widgets/controls",
          "model_name": "HTMLModel",
          "model_module_version": "1.5.0",
          "state": {
            "_dom_classes": [],
            "_model_module": "@jupyter-widgets/controls",
            "_model_module_version": "1.5.0",
            "_model_name": "HTMLModel",
            "_view_count": null,
            "_view_module": "@jupyter-widgets/controls",
            "_view_module_version": "1.5.0",
            "_view_name": "HTMLView",
            "description": "",
            "description_tooltip": null,
            "layout": "IPY_MODEL_ac3d2c648be94697af8d9f033fecfbd9",
            "placeholder": "​",
            "style": "IPY_MODEL_3b9c4944cbef41d69dc979e4a29e629b",
            "value": " 282/282 [00:00&lt;00:00, 9.13kB/s]"
          }
        },
        "f8587d9052e44a499155f52c22e14464": {
          "model_module": "@jupyter-widgets/base",
          "model_name": "LayoutModel",
          "model_module_version": "1.2.0",
          "state": {
            "_model_module": "@jupyter-widgets/base",
            "_model_module_version": "1.2.0",
            "_model_name": "LayoutModel",
            "_view_count": null,
            "_view_module": "@jupyter-widgets/base",
            "_view_module_version": "1.2.0",
            "_view_name": "LayoutView",
            "align_content": null,
            "align_items": null,
            "align_self": null,
            "border": null,
            "bottom": null,
            "display": null,
            "flex": null,
            "flex_flow": null,
            "grid_area": null,
            "grid_auto_columns": null,
            "grid_auto_flow": null,
            "grid_auto_rows": null,
            "grid_column": null,
            "grid_gap": null,
            "grid_row": null,
            "grid_template_areas": null,
            "grid_template_columns": null,
            "grid_template_rows": null,
            "height": null,
            "justify_content": null,
            "justify_items": null,
            "left": null,
            "margin": null,
            "max_height": null,
            "max_width": null,
            "min_height": null,
            "min_width": null,
            "object_fit": null,
            "object_position": null,
            "order": null,
            "overflow": null,
            "overflow_x": null,
            "overflow_y": null,
            "padding": null,
            "right": null,
            "top": null,
            "visibility": null,
            "width": null
          }
        },
        "262418ce8b9f42669a363f3fb8a5d771": {
          "model_module": "@jupyter-widgets/base",
          "model_name": "LayoutModel",
          "model_module_version": "1.2.0",
          "state": {
            "_model_module": "@jupyter-widgets/base",
            "_model_module_version": "1.2.0",
            "_model_name": "LayoutModel",
            "_view_count": null,
            "_view_module": "@jupyter-widgets/base",
            "_view_module_version": "1.2.0",
            "_view_name": "LayoutView",
            "align_content": null,
            "align_items": null,
            "align_self": null,
            "border": null,
            "bottom": null,
            "display": null,
            "flex": null,
            "flex_flow": null,
            "grid_area": null,
            "grid_auto_columns": null,
            "grid_auto_flow": null,
            "grid_auto_rows": null,
            "grid_column": null,
            "grid_gap": null,
            "grid_row": null,
            "grid_template_areas": null,
            "grid_template_columns": null,
            "grid_template_rows": null,
            "height": null,
            "justify_content": null,
            "justify_items": null,
            "left": null,
            "margin": null,
            "max_height": null,
            "max_width": null,
            "min_height": null,
            "min_width": null,
            "object_fit": null,
            "object_position": null,
            "order": null,
            "overflow": null,
            "overflow_x": null,
            "overflow_y": null,
            "padding": null,
            "right": null,
            "top": null,
            "visibility": null,
            "width": null
          }
        },
        "a0fcb5eab8ad4fb3a279215ae48702db": {
          "model_module": "@jupyter-widgets/controls",
          "model_name": "DescriptionStyleModel",
          "model_module_version": "1.5.0",
          "state": {
            "_model_module": "@jupyter-widgets/controls",
            "_model_module_version": "1.5.0",
            "_model_name": "DescriptionStyleModel",
            "_view_count": null,
            "_view_module": "@jupyter-widgets/base",
            "_view_module_version": "1.2.0",
            "_view_name": "StyleView",
            "description_width": ""
          }
        },
        "cf35265ccf7f46759bd7031931fe9243": {
          "model_module": "@jupyter-widgets/base",
          "model_name": "LayoutModel",
          "model_module_version": "1.2.0",
          "state": {
            "_model_module": "@jupyter-widgets/base",
            "_model_module_version": "1.2.0",
            "_model_name": "LayoutModel",
            "_view_count": null,
            "_view_module": "@jupyter-widgets/base",
            "_view_module_version": "1.2.0",
            "_view_name": "LayoutView",
            "align_content": null,
            "align_items": null,
            "align_self": null,
            "border": null,
            "bottom": null,
            "display": null,
            "flex": null,
            "flex_flow": null,
            "grid_area": null,
            "grid_auto_columns": null,
            "grid_auto_flow": null,
            "grid_auto_rows": null,
            "grid_column": null,
            "grid_gap": null,
            "grid_row": null,
            "grid_template_areas": null,
            "grid_template_columns": null,
            "grid_template_rows": null,
            "height": null,
            "justify_content": null,
            "justify_items": null,
            "left": null,
            "margin": null,
            "max_height": null,
            "max_width": null,
            "min_height": null,
            "min_width": null,
            "object_fit": null,
            "object_position": null,
            "order": null,
            "overflow": null,
            "overflow_x": null,
            "overflow_y": null,
            "padding": null,
            "right": null,
            "top": null,
            "visibility": null,
            "width": null
          }
        },
        "35ed2de7220c4ba99c04852bfe5177bd": {
          "model_module": "@jupyter-widgets/controls",
          "model_name": "ProgressStyleModel",
          "model_module_version": "1.5.0",
          "state": {
            "_model_module": "@jupyter-widgets/controls",
            "_model_module_version": "1.5.0",
            "_model_name": "ProgressStyleModel",
            "_view_count": null,
            "_view_module": "@jupyter-widgets/base",
            "_view_module_version": "1.2.0",
            "_view_name": "StyleView",
            "bar_color": null,
            "description_width": ""
          }
        },
        "ac3d2c648be94697af8d9f033fecfbd9": {
          "model_module": "@jupyter-widgets/base",
          "model_name": "LayoutModel",
          "model_module_version": "1.2.0",
          "state": {
            "_model_module": "@jupyter-widgets/base",
            "_model_module_version": "1.2.0",
            "_model_name": "LayoutModel",
            "_view_count": null,
            "_view_module": "@jupyter-widgets/base",
            "_view_module_version": "1.2.0",
            "_view_name": "LayoutView",
            "align_content": null,
            "align_items": null,
            "align_self": null,
            "border": null,
            "bottom": null,
            "display": null,
            "flex": null,
            "flex_flow": null,
            "grid_area": null,
            "grid_auto_columns": null,
            "grid_auto_flow": null,
            "grid_auto_rows": null,
            "grid_column": null,
            "grid_gap": null,
            "grid_row": null,
            "grid_template_areas": null,
            "grid_template_columns": null,
            "grid_template_rows": null,
            "height": null,
            "justify_content": null,
            "justify_items": null,
            "left": null,
            "margin": null,
            "max_height": null,
            "max_width": null,
            "min_height": null,
            "min_width": null,
            "object_fit": null,
            "object_position": null,
            "order": null,
            "overflow": null,
            "overflow_x": null,
            "overflow_y": null,
            "padding": null,
            "right": null,
            "top": null,
            "visibility": null,
            "width": null
          }
        },
        "3b9c4944cbef41d69dc979e4a29e629b": {
          "model_module": "@jupyter-widgets/controls",
          "model_name": "DescriptionStyleModel",
          "model_module_version": "1.5.0",
          "state": {
            "_model_module": "@jupyter-widgets/controls",
            "_model_module_version": "1.5.0",
            "_model_name": "DescriptionStyleModel",
            "_view_count": null,
            "_view_module": "@jupyter-widgets/base",
            "_view_module_version": "1.2.0",
            "_view_name": "StyleView",
            "description_width": ""
          }
        },
        "5772b2b44c26466689ffbf59a1ea3eb2": {
          "model_module": "@jupyter-widgets/controls",
          "model_name": "HBoxModel",
          "model_module_version": "1.5.0",
          "state": {
            "_dom_classes": [],
            "_model_module": "@jupyter-widgets/controls",
            "_model_module_version": "1.5.0",
            "_model_name": "HBoxModel",
            "_view_count": null,
            "_view_module": "@jupyter-widgets/controls",
            "_view_module_version": "1.5.0",
            "_view_name": "HBoxView",
            "box_style": "",
            "children": [
              "IPY_MODEL_de86799a3a7b455fb1b55ce761a183ab",
              "IPY_MODEL_396ff85f256a484892de1e46279d0f43",
              "IPY_MODEL_612aaf8fd02942fd8cb71a9c0317027b"
            ],
            "layout": "IPY_MODEL_7fc7d6ecc9d2419aa7253db6cecd2510"
          }
        },
        "de86799a3a7b455fb1b55ce761a183ab": {
          "model_module": "@jupyter-widgets/controls",
          "model_name": "HTMLModel",
          "model_module_version": "1.5.0",
          "state": {
            "_dom_classes": [],
            "_model_module": "@jupyter-widgets/controls",
            "_model_module_version": "1.5.0",
            "_model_name": "HTMLModel",
            "_view_count": null,
            "_view_module": "@jupyter-widgets/controls",
            "_view_module_version": "1.5.0",
            "_view_name": "HTMLView",
            "description": "",
            "description_tooltip": null,
            "layout": "IPY_MODEL_4d63142aca64477b9b9879b0fd49fac2",
            "placeholder": "​",
            "style": "IPY_MODEL_ac79371e93c0450f9e1fe6b637687528",
            "value": "Downloading: 100%"
          }
        },
        "396ff85f256a484892de1e46279d0f43": {
          "model_module": "@jupyter-widgets/controls",
          "model_name": "FloatProgressModel",
          "model_module_version": "1.5.0",
          "state": {
            "_dom_classes": [],
            "_model_module": "@jupyter-widgets/controls",
            "_model_module_version": "1.5.0",
            "_model_name": "FloatProgressModel",
            "_view_count": null,
            "_view_module": "@jupyter-widgets/controls",
            "_view_module_version": "1.5.0",
            "_view_name": "ProgressView",
            "bar_style": "success",
            "description": "",
            "description_tooltip": null,
            "layout": "IPY_MODEL_5946acce49d04e05b5867e447a556eb0",
            "max": 423498558,
            "min": 0,
            "orientation": "horizontal",
            "style": "IPY_MODEL_1cc2a5320b014c5394d660484df01167",
            "value": 423498558
          }
        },
        "612aaf8fd02942fd8cb71a9c0317027b": {
          "model_module": "@jupyter-widgets/controls",
          "model_name": "HTMLModel",
          "model_module_version": "1.5.0",
          "state": {
            "_dom_classes": [],
            "_model_module": "@jupyter-widgets/controls",
            "_model_module_version": "1.5.0",
            "_model_name": "HTMLModel",
            "_view_count": null,
            "_view_module": "@jupyter-widgets/controls",
            "_view_module_version": "1.5.0",
            "_view_name": "HTMLView",
            "description": "",
            "description_tooltip": null,
            "layout": "IPY_MODEL_c8bf7c75133e40a2b6211b4fc76a3198",
            "placeholder": "​",
            "style": "IPY_MODEL_e57e9eef317842a8b03cf7023891351d",
            "value": " 423M/423M [00:07&lt;00:00, 58.4MB/s]"
          }
        },
        "7fc7d6ecc9d2419aa7253db6cecd2510": {
          "model_module": "@jupyter-widgets/base",
          "model_name": "LayoutModel",
          "model_module_version": "1.2.0",
          "state": {
            "_model_module": "@jupyter-widgets/base",
            "_model_module_version": "1.2.0",
            "_model_name": "LayoutModel",
            "_view_count": null,
            "_view_module": "@jupyter-widgets/base",
            "_view_module_version": "1.2.0",
            "_view_name": "LayoutView",
            "align_content": null,
            "align_items": null,
            "align_self": null,
            "border": null,
            "bottom": null,
            "display": null,
            "flex": null,
            "flex_flow": null,
            "grid_area": null,
            "grid_auto_columns": null,
            "grid_auto_flow": null,
            "grid_auto_rows": null,
            "grid_column": null,
            "grid_gap": null,
            "grid_row": null,
            "grid_template_areas": null,
            "grid_template_columns": null,
            "grid_template_rows": null,
            "height": null,
            "justify_content": null,
            "justify_items": null,
            "left": null,
            "margin": null,
            "max_height": null,
            "max_width": null,
            "min_height": null,
            "min_width": null,
            "object_fit": null,
            "object_position": null,
            "order": null,
            "overflow": null,
            "overflow_x": null,
            "overflow_y": null,
            "padding": null,
            "right": null,
            "top": null,
            "visibility": null,
            "width": null
          }
        },
        "4d63142aca64477b9b9879b0fd49fac2": {
          "model_module": "@jupyter-widgets/base",
          "model_name": "LayoutModel",
          "model_module_version": "1.2.0",
          "state": {
            "_model_module": "@jupyter-widgets/base",
            "_model_module_version": "1.2.0",
            "_model_name": "LayoutModel",
            "_view_count": null,
            "_view_module": "@jupyter-widgets/base",
            "_view_module_version": "1.2.0",
            "_view_name": "LayoutView",
            "align_content": null,
            "align_items": null,
            "align_self": null,
            "border": null,
            "bottom": null,
            "display": null,
            "flex": null,
            "flex_flow": null,
            "grid_area": null,
            "grid_auto_columns": null,
            "grid_auto_flow": null,
            "grid_auto_rows": null,
            "grid_column": null,
            "grid_gap": null,
            "grid_row": null,
            "grid_template_areas": null,
            "grid_template_columns": null,
            "grid_template_rows": null,
            "height": null,
            "justify_content": null,
            "justify_items": null,
            "left": null,
            "margin": null,
            "max_height": null,
            "max_width": null,
            "min_height": null,
            "min_width": null,
            "object_fit": null,
            "object_position": null,
            "order": null,
            "overflow": null,
            "overflow_x": null,
            "overflow_y": null,
            "padding": null,
            "right": null,
            "top": null,
            "visibility": null,
            "width": null
          }
        },
        "ac79371e93c0450f9e1fe6b637687528": {
          "model_module": "@jupyter-widgets/controls",
          "model_name": "DescriptionStyleModel",
          "model_module_version": "1.5.0",
          "state": {
            "_model_module": "@jupyter-widgets/controls",
            "_model_module_version": "1.5.0",
            "_model_name": "DescriptionStyleModel",
            "_view_count": null,
            "_view_module": "@jupyter-widgets/base",
            "_view_module_version": "1.2.0",
            "_view_name": "StyleView",
            "description_width": ""
          }
        },
        "5946acce49d04e05b5867e447a556eb0": {
          "model_module": "@jupyter-widgets/base",
          "model_name": "LayoutModel",
          "model_module_version": "1.2.0",
          "state": {
            "_model_module": "@jupyter-widgets/base",
            "_model_module_version": "1.2.0",
            "_model_name": "LayoutModel",
            "_view_count": null,
            "_view_module": "@jupyter-widgets/base",
            "_view_module_version": "1.2.0",
            "_view_name": "LayoutView",
            "align_content": null,
            "align_items": null,
            "align_self": null,
            "border": null,
            "bottom": null,
            "display": null,
            "flex": null,
            "flex_flow": null,
            "grid_area": null,
            "grid_auto_columns": null,
            "grid_auto_flow": null,
            "grid_auto_rows": null,
            "grid_column": null,
            "grid_gap": null,
            "grid_row": null,
            "grid_template_areas": null,
            "grid_template_columns": null,
            "grid_template_rows": null,
            "height": null,
            "justify_content": null,
            "justify_items": null,
            "left": null,
            "margin": null,
            "max_height": null,
            "max_width": null,
            "min_height": null,
            "min_width": null,
            "object_fit": null,
            "object_position": null,
            "order": null,
            "overflow": null,
            "overflow_x": null,
            "overflow_y": null,
            "padding": null,
            "right": null,
            "top": null,
            "visibility": null,
            "width": null
          }
        },
        "1cc2a5320b014c5394d660484df01167": {
          "model_module": "@jupyter-widgets/controls",
          "model_name": "ProgressStyleModel",
          "model_module_version": "1.5.0",
          "state": {
            "_model_module": "@jupyter-widgets/controls",
            "_model_module_version": "1.5.0",
            "_model_name": "ProgressStyleModel",
            "_view_count": null,
            "_view_module": "@jupyter-widgets/base",
            "_view_module_version": "1.2.0",
            "_view_name": "StyleView",
            "bar_color": null,
            "description_width": ""
          }
        },
        "c8bf7c75133e40a2b6211b4fc76a3198": {
          "model_module": "@jupyter-widgets/base",
          "model_name": "LayoutModel",
          "model_module_version": "1.2.0",
          "state": {
            "_model_module": "@jupyter-widgets/base",
            "_model_module_version": "1.2.0",
            "_model_name": "LayoutModel",
            "_view_count": null,
            "_view_module": "@jupyter-widgets/base",
            "_view_module_version": "1.2.0",
            "_view_name": "LayoutView",
            "align_content": null,
            "align_items": null,
            "align_self": null,
            "border": null,
            "bottom": null,
            "display": null,
            "flex": null,
            "flex_flow": null,
            "grid_area": null,
            "grid_auto_columns": null,
            "grid_auto_flow": null,
            "grid_auto_rows": null,
            "grid_column": null,
            "grid_gap": null,
            "grid_row": null,
            "grid_template_areas": null,
            "grid_template_columns": null,
            "grid_template_rows": null,
            "height": null,
            "justify_content": null,
            "justify_items": null,
            "left": null,
            "margin": null,
            "max_height": null,
            "max_width": null,
            "min_height": null,
            "min_width": null,
            "object_fit": null,
            "object_position": null,
            "order": null,
            "overflow": null,
            "overflow_x": null,
            "overflow_y": null,
            "padding": null,
            "right": null,
            "top": null,
            "visibility": null,
            "width": null
          }
        },
        "e57e9eef317842a8b03cf7023891351d": {
          "model_module": "@jupyter-widgets/controls",
          "model_name": "DescriptionStyleModel",
          "model_module_version": "1.5.0",
          "state": {
            "_model_module": "@jupyter-widgets/controls",
            "_model_module_version": "1.5.0",
            "_model_name": "DescriptionStyleModel",
            "_view_count": null,
            "_view_module": "@jupyter-widgets/base",
            "_view_module_version": "1.2.0",
            "_view_name": "StyleView",
            "description_width": ""
          }
        }
      }
    }
  },
  "nbformat": 4,
  "nbformat_minor": 5
}